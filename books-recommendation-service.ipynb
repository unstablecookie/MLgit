{
 "cells": [
  {
   "cell_type": "code",
   "execution_count": 1,
   "metadata": {
    "_cell_guid": "b1076dfc-b9ad-4769-8c92-a6c4dae69d19",
    "_uuid": "8f2839f25d086af736a60e9eeb907d3b93b6e0e5",
    "execution": {
     "iopub.execute_input": "2020-12-03T20:26:06.097157Z",
     "iopub.status.busy": "2020-12-03T20:26:06.096247Z",
     "iopub.status.idle": "2020-12-03T20:26:06.105083Z",
     "shell.execute_reply": "2020-12-03T20:26:06.105832Z"
    },
    "papermill": {
     "duration": 0.052743,
     "end_time": "2020-12-03T20:26:06.106072",
     "exception": false,
     "start_time": "2020-12-03T20:26:06.053329",
     "status": "completed"
    },
    "tags": []
   },
   "outputs": [
    {
     "name": "stdout",
     "output_type": "stream",
     "text": [
      "/kaggle/input/books-amazon-product-data/ratings_Books.csv\n"
     ]
    }
   ],
   "source": [
    "# This Python 3 environment comes with many helpful analytics libraries installed\n",
    "# It is defined by the kaggle/python Docker image: https://github.com/kaggle/docker-python\n",
    "# For example, here's several helpful packages to load\n",
    "\n",
    "import numpy as np # linear algebra\n",
    "import pandas as pd # data processing, CSV file I/O (e.g. pd.read_csv)\n",
    "\n",
    "# Input data files are available in the read-only \"../input/\" directory\n",
    "# For example, running this (by clicking run or pressing Shift+Enter) will list all files under the input directory\n",
    "\n",
    "import os\n",
    "for dirname, _, filenames in os.walk('/kaggle/input'):\n",
    "    for filename in filenames:\n",
    "        print(os.path.join(dirname, filename))\n",
    "\n",
    "# You can write up to 20GB to the current directory (/kaggle/working/) that gets preserved as output when you create a version using \"Save & Run All\" \n",
    "# You can also write temporary files to /kaggle/temp/, but they won't be saved outside of the current session"
   ]
  },
  {
   "cell_type": "code",
   "execution_count": 2,
   "metadata": {
    "_cell_guid": "79c7e3d0-c299-4dcb-8224-4455121ee9b0",
    "_uuid": "d629ff2d2480ee46fbb7e2d37f6b5fab8052498a",
    "execution": {
     "iopub.execute_input": "2020-12-03T20:26:06.179916Z",
     "iopub.status.busy": "2020-12-03T20:26:06.179155Z",
     "iopub.status.idle": "2020-12-03T20:26:07.766447Z",
     "shell.execute_reply": "2020-12-03T20:26:07.765641Z"
    },
    "papermill": {
     "duration": 1.626247,
     "end_time": "2020-12-03T20:26:07.766572",
     "exception": false,
     "start_time": "2020-12-03T20:26:06.140325",
     "status": "completed"
    },
    "tags": []
   },
   "outputs": [],
   "source": [
    "import pandas as pd\n",
    "import numpy as np\n",
    "import matplotlib.pyplot as plt\n",
    "import seaborn as sns\n",
    "\n",
    "from pathlib import Path\n",
    "from sklearn.decomposition import TruncatedSVD"
   ]
  },
  {
   "cell_type": "markdown",
   "metadata": {
    "papermill": {
     "duration": 0.033238,
     "end_time": "2020-12-03T20:26:07.833588",
     "exception": false,
     "start_time": "2020-12-03T20:26:07.800350",
     "status": "completed"
    },
    "tags": []
   },
   "source": [
    "importing data"
   ]
  },
  {
   "cell_type": "code",
   "execution_count": 3,
   "metadata": {
    "execution": {
     "iopub.execute_input": "2020-12-03T20:26:07.907968Z",
     "iopub.status.busy": "2020-12-03T20:26:07.907170Z",
     "iopub.status.idle": "2020-12-03T20:26:45.339873Z",
     "shell.execute_reply": "2020-12-03T20:26:45.339139Z"
    },
    "papermill": {
     "duration": 37.473023,
     "end_time": "2020-12-03T20:26:45.340016",
     "exception": false,
     "start_time": "2020-12-03T20:26:07.866993",
     "status": "completed"
    },
    "tags": []
   },
   "outputs": [],
   "source": [
    "path = Path('/kaggle/input/books-amazon-product-data/ratings_Books.csv')\n",
    "df = pd.read_csv(path,names=['user', 'product','rating','timestamp'])"
   ]
  },
  {
   "cell_type": "markdown",
   "metadata": {
    "papermill": {
     "duration": 0.0343,
     "end_time": "2020-12-03T20:26:45.410121",
     "exception": false,
     "start_time": "2020-12-03T20:26:45.375821",
     "status": "completed"
    },
    "tags": []
   },
   "source": [
    "checking head() and shape"
   ]
  },
  {
   "cell_type": "code",
   "execution_count": 4,
   "metadata": {
    "execution": {
     "iopub.execute_input": "2020-12-03T20:26:45.502150Z",
     "iopub.status.busy": "2020-12-03T20:26:45.501243Z",
     "iopub.status.idle": "2020-12-03T20:26:45.505806Z",
     "shell.execute_reply": "2020-12-03T20:26:45.505132Z"
    },
    "papermill": {
     "duration": 0.06129,
     "end_time": "2020-12-03T20:26:45.505950",
     "exception": false,
     "start_time": "2020-12-03T20:26:45.444660",
     "status": "completed"
    },
    "tags": []
   },
   "outputs": [
    {
     "data": {
      "text/plain": [
       "(             user     product  rating   timestamp\n",
       " 0   AH2L9G3DQHHAJ  0000000116     4.0  1019865600\n",
       " 1  A2IIIDRK3PRRZY  0000000116     1.0  1395619200\n",
       " 2  A1TADCM7YWPQ8M  0000000868     4.0  1031702400\n",
       " 3   AWGH7V0BDOJKB  0000013714     4.0  1383177600\n",
       " 4  A3UTQPQPM4TQO0  0000013714     5.0  1374883200,\n",
       " (22507155, 4))"
      ]
     },
     "execution_count": 4,
     "metadata": {},
     "output_type": "execute_result"
    }
   ],
   "source": [
    "df.head(),df.shape"
   ]
  },
  {
   "cell_type": "markdown",
   "metadata": {
    "papermill": {
     "duration": 0.038498,
     "end_time": "2020-12-03T20:26:45.583931",
     "exception": false,
     "start_time": "2020-12-03T20:26:45.545433",
     "status": "completed"
    },
    "tags": []
   },
   "source": [
    "Chechking for null, NaN data and column datatypes"
   ]
  },
  {
   "cell_type": "code",
   "execution_count": 5,
   "metadata": {
    "execution": {
     "iopub.execute_input": "2020-12-03T20:26:45.669938Z",
     "iopub.status.busy": "2020-12-03T20:26:45.669016Z",
     "iopub.status.idle": "2020-12-03T20:26:55.809125Z",
     "shell.execute_reply": "2020-12-03T20:26:55.808332Z"
    },
    "papermill": {
     "duration": 10.189976,
     "end_time": "2020-12-03T20:26:55.809271",
     "exception": false,
     "start_time": "2020-12-03T20:26:45.619295",
     "status": "completed"
    },
    "tags": []
   },
   "outputs": [
    {
     "name": "stdout",
     "output_type": "stream",
     "text": [
      "<class 'pandas.core.frame.DataFrame'>\n",
      "RangeIndex: 22507155 entries, 0 to 22507154\n",
      "Data columns (total 4 columns):\n",
      " #   Column     Dtype  \n",
      "---  ------     -----  \n",
      " 0   user       object \n",
      " 1   product    object \n",
      " 2   rating     float64\n",
      " 3   timestamp  int64  \n",
      "dtypes: float64(1), int64(1), object(2)\n",
      "memory usage: 686.9+ MB\n"
     ]
    },
    {
     "data": {
      "text/plain": [
       "(None,\n",
       " user         0\n",
       " product      0\n",
       " rating       0\n",
       " timestamp    0\n",
       " dtype: int64,\n",
       " user         0\n",
       " product      0\n",
       " rating       0\n",
       " timestamp    0\n",
       " dtype: int64)"
      ]
     },
     "execution_count": 5,
     "metadata": {},
     "output_type": "execute_result"
    }
   ],
   "source": [
    "df.info(),df.isnull().sum(),df.isna().sum()"
   ]
  },
  {
   "cell_type": "markdown",
   "metadata": {
    "papermill": {
     "duration": 0.034986,
     "end_time": "2020-12-03T20:26:55.879890",
     "exception": false,
     "start_time": "2020-12-03T20:26:55.844904",
     "status": "completed"
    },
    "tags": []
   },
   "source": [
    "So far, so good\n",
    "\n",
    "Now, we can focus on recommendations based on high demand and rating regardless of the purchase history. We need this to prevent offer same items again and again , based on the user history, and for the users who has no history at all."
   ]
  },
  {
   "cell_type": "code",
   "execution_count": 6,
   "metadata": {
    "execution": {
     "iopub.execute_input": "2020-12-03T20:26:55.956500Z",
     "iopub.status.busy": "2020-12-03T20:26:55.955456Z",
     "iopub.status.idle": "2020-12-03T20:26:55.958913Z",
     "shell.execute_reply": "2020-12-03T20:26:55.958155Z"
    },
    "papermill": {
     "duration": 0.043935,
     "end_time": "2020-12-03T20:26:55.959038",
     "exception": false,
     "start_time": "2020-12-03T20:26:55.915103",
     "status": "completed"
    },
    "tags": []
   },
   "outputs": [],
   "source": [
    "dfmr = df.head(1000000)"
   ]
  },
  {
   "cell_type": "code",
   "execution_count": 7,
   "metadata": {
    "execution": {
     "iopub.execute_input": "2020-12-03T20:26:56.063043Z",
     "iopub.status.busy": "2020-12-03T20:26:56.062191Z",
     "iopub.status.idle": "2020-12-03T20:27:26.188527Z",
     "shell.execute_reply": "2020-12-03T20:27:26.187888Z"
    },
    "papermill": {
     "duration": 30.193825,
     "end_time": "2020-12-03T20:27:26.188668",
     "exception": false,
     "start_time": "2020-12-03T20:26:55.994843",
     "status": "completed"
    },
    "tags": []
   },
   "outputs": [],
   "source": [
    "dfmr = dfmr.groupby('product').filter(lambda x:x['rating'].count() >=1000)"
   ]
  },
  {
   "cell_type": "code",
   "execution_count": 8,
   "metadata": {
    "execution": {
     "iopub.execute_input": "2020-12-03T20:27:26.266758Z",
     "iopub.status.busy": "2020-12-03T20:27:26.265871Z",
     "iopub.status.idle": "2020-12-03T20:27:26.270643Z",
     "shell.execute_reply": "2020-12-03T20:27:26.269841Z"
    },
    "papermill": {
     "duration": 0.045876,
     "end_time": "2020-12-03T20:27:26.270779",
     "exception": false,
     "start_time": "2020-12-03T20:27:26.224903",
     "status": "completed"
    },
    "tags": []
   },
   "outputs": [
    {
     "data": {
      "text/plain": [
       "(183204, 4)"
      ]
     },
     "execution_count": 8,
     "metadata": {},
     "output_type": "execute_result"
    }
   ],
   "source": [
    "dfmr.shape"
   ]
  },
  {
   "cell_type": "code",
   "execution_count": 9,
   "metadata": {
    "execution": {
     "iopub.execute_input": "2020-12-03T20:27:26.363864Z",
     "iopub.status.busy": "2020-12-03T20:27:26.353187Z",
     "iopub.status.idle": "2020-12-03T20:27:26.386541Z",
     "shell.execute_reply": "2020-12-03T20:27:26.385912Z"
    },
    "papermill": {
     "duration": 0.079505,
     "end_time": "2020-12-03T20:27:26.386673",
     "exception": false,
     "start_time": "2020-12-03T20:27:26.307168",
     "status": "completed"
    },
    "tags": []
   },
   "outputs": [
    {
     "data": {
      "text/html": [
       "<div>\n",
       "<style scoped>\n",
       "    .dataframe tbody tr th:only-of-type {\n",
       "        vertical-align: middle;\n",
       "    }\n",
       "\n",
       "    .dataframe tbody tr th {\n",
       "        vertical-align: top;\n",
       "    }\n",
       "\n",
       "    .dataframe thead th {\n",
       "        text-align: right;\n",
       "    }\n",
       "</style>\n",
       "<table border=\"1\" class=\"dataframe\">\n",
       "  <thead>\n",
       "    <tr style=\"text-align: right;\">\n",
       "      <th></th>\n",
       "      <th>rating</th>\n",
       "    </tr>\n",
       "    <tr>\n",
       "      <th>product</th>\n",
       "      <th></th>\n",
       "    </tr>\n",
       "  </thead>\n",
       "  <tbody>\n",
       "    <tr>\n",
       "      <th>0002007770</th>\n",
       "      <td>4.398934</td>\n",
       "    </tr>\n",
       "    <tr>\n",
       "      <th>0002247399</th>\n",
       "      <td>3.796694</td>\n",
       "    </tr>\n",
       "    <tr>\n",
       "      <th>0006514006</th>\n",
       "      <td>4.318261</td>\n",
       "    </tr>\n",
       "    <tr>\n",
       "      <th>0007124015</th>\n",
       "      <td>4.633418</td>\n",
       "    </tr>\n",
       "    <tr>\n",
       "      <th>0007205236</th>\n",
       "      <td>4.403127</td>\n",
       "    </tr>\n",
       "  </tbody>\n",
       "</table>\n",
       "</div>"
      ],
      "text/plain": [
       "              rating\n",
       "product             \n",
       "0002007770  4.398934\n",
       "0002247399  3.796694\n",
       "0006514006  4.318261\n",
       "0007124015  4.633418\n",
       "0007205236  4.403127"
      ]
     },
     "execution_count": 9,
     "metadata": {},
     "output_type": "execute_result"
    }
   ],
   "source": [
    "df_top = pd.DataFrame(dfmr.groupby('product')['rating'].mean())\n",
    "df_top.head()"
   ]
  },
  {
   "cell_type": "code",
   "execution_count": 10,
   "metadata": {
    "execution": {
     "iopub.execute_input": "2020-12-03T20:27:26.471784Z",
     "iopub.status.busy": "2020-12-03T20:27:26.471006Z",
     "iopub.status.idle": "2020-12-03T20:27:26.503617Z",
     "shell.execute_reply": "2020-12-03T20:27:26.502889Z"
    },
    "papermill": {
     "duration": 0.080016,
     "end_time": "2020-12-03T20:27:26.503749",
     "exception": false,
     "start_time": "2020-12-03T20:27:26.423733",
     "status": "completed"
    },
    "tags": []
   },
   "outputs": [
    {
     "data": {
      "text/html": [
       "<div>\n",
       "<style scoped>\n",
       "    .dataframe tbody tr th:only-of-type {\n",
       "        vertical-align: middle;\n",
       "    }\n",
       "\n",
       "    .dataframe tbody tr th {\n",
       "        vertical-align: top;\n",
       "    }\n",
       "\n",
       "    .dataframe thead th {\n",
       "        text-align: right;\n",
       "    }\n",
       "</style>\n",
       "<table border=\"1\" class=\"dataframe\">\n",
       "  <thead>\n",
       "    <tr style=\"text-align: right;\">\n",
       "      <th></th>\n",
       "      <th>rating</th>\n",
       "      <th>NtimesRated</th>\n",
       "    </tr>\n",
       "    <tr>\n",
       "      <th>product</th>\n",
       "      <th></th>\n",
       "      <th></th>\n",
       "    </tr>\n",
       "  </thead>\n",
       "  <tbody>\n",
       "    <tr>\n",
       "      <th>0002007770</th>\n",
       "      <td>4.398934</td>\n",
       "      <td>6001</td>\n",
       "    </tr>\n",
       "    <tr>\n",
       "      <th>0002247399</th>\n",
       "      <td>3.796694</td>\n",
       "      <td>6473</td>\n",
       "    </tr>\n",
       "    <tr>\n",
       "      <th>0006514006</th>\n",
       "      <td>4.318261</td>\n",
       "      <td>1150</td>\n",
       "    </tr>\n",
       "    <tr>\n",
       "      <th>0007124015</th>\n",
       "      <td>4.633418</td>\n",
       "      <td>4321</td>\n",
       "    </tr>\n",
       "    <tr>\n",
       "      <th>0007205236</th>\n",
       "      <td>4.403127</td>\n",
       "      <td>1471</td>\n",
       "    </tr>\n",
       "    <tr>\n",
       "      <th>...</th>\n",
       "      <td>...</td>\n",
       "      <td>...</td>\n",
       "    </tr>\n",
       "    <tr>\n",
       "      <th>006222543X</th>\n",
       "      <td>4.198523</td>\n",
       "      <td>1219</td>\n",
       "    </tr>\n",
       "    <tr>\n",
       "      <th>0062255657</th>\n",
       "      <td>4.174059</td>\n",
       "      <td>2976</td>\n",
       "    </tr>\n",
       "    <tr>\n",
       "      <th>006226768X</th>\n",
       "      <td>4.019742</td>\n",
       "      <td>1165</td>\n",
       "    </tr>\n",
       "    <tr>\n",
       "      <th>0062270486</th>\n",
       "      <td>4.467772</td>\n",
       "      <td>1086</td>\n",
       "    </tr>\n",
       "    <tr>\n",
       "      <th>0062278789</th>\n",
       "      <td>4.315404</td>\n",
       "      <td>3551</td>\n",
       "    </tr>\n",
       "  </tbody>\n",
       "</table>\n",
       "<p>80 rows × 2 columns</p>\n",
       "</div>"
      ],
      "text/plain": [
       "              rating  NtimesRated\n",
       "product                          \n",
       "0002007770  4.398934         6001\n",
       "0002247399  3.796694         6473\n",
       "0006514006  4.318261         1150\n",
       "0007124015  4.633418         4321\n",
       "0007205236  4.403127         1471\n",
       "...              ...          ...\n",
       "006222543X  4.198523         1219\n",
       "0062255657  4.174059         2976\n",
       "006226768X  4.019742         1165\n",
       "0062270486  4.467772         1086\n",
       "0062278789  4.315404         3551\n",
       "\n",
       "[80 rows x 2 columns]"
      ]
     },
     "execution_count": 10,
     "metadata": {},
     "output_type": "execute_result"
    }
   ],
   "source": [
    "df_top['NtimesRated'] = pd.DataFrame(dfmr.groupby('product')['rating'].count())\n",
    "df_top"
   ]
  },
  {
   "cell_type": "code",
   "execution_count": 11,
   "metadata": {
    "execution": {
     "iopub.execute_input": "2020-12-03T20:27:26.589786Z",
     "iopub.status.busy": "2020-12-03T20:27:26.588797Z",
     "iopub.status.idle": "2020-12-03T20:27:28.203275Z",
     "shell.execute_reply": "2020-12-03T20:27:28.202431Z"
    },
    "papermill": {
     "duration": 1.661252,
     "end_time": "2020-12-03T20:27:28.203420",
     "exception": false,
     "start_time": "2020-12-03T20:27:26.542168",
     "status": "completed"
    },
    "tags": []
   },
   "outputs": [
    {
     "name": "stderr",
     "output_type": "stream",
     "text": [
      "/opt/conda/lib/python3.7/site-packages/seaborn/axisgrid.py:2079: UserWarning: The `size` parameter has been renamed to `height`; please update your code.\n",
      "  warnings.warn(msg, UserWarning)\n"
     ]
    },
    {
     "data": {
      "text/plain": [
       "<seaborn.axisgrid.PairGrid at 0x7f47e36fa090>"
      ]
     },
     "execution_count": 11,
     "metadata": {},
     "output_type": "execute_result"
    },
    {
     "data": {
      "image/png": "[encoded data removed]",
      "text/plain": [
       "<Figure size 720x720 with 6 Axes>"
      ]
     },
     "metadata": {
      "needs_background": "light"
     },
     "output_type": "display_data"
    }
   ],
   "source": [
    " sns.pairplot(df_top[['rating','NtimesRated']],size=5)"
   ]
  },
  {
   "cell_type": "markdown",
   "metadata": {
    "papermill": {
     "duration": 0.040674,
     "end_time": "2020-12-03T20:27:28.284450",
     "exception": false,
     "start_time": "2020-12-03T20:27:28.243776",
     "status": "completed"
    },
    "tags": []
   },
   "source": [
    "Most popular products always have a decent rating (3.5 or 4.0), that's a good start for our query."
   ]
  },
  {
   "cell_type": "code",
   "execution_count": 12,
   "metadata": {
    "execution": {
     "iopub.execute_input": "2020-12-03T20:27:28.375847Z",
     "iopub.status.busy": "2020-12-03T20:27:28.375034Z",
     "iopub.status.idle": "2020-12-03T20:27:28.379073Z",
     "shell.execute_reply": "2020-12-03T20:27:28.378337Z"
    },
    "papermill": {
     "duration": 0.050235,
     "end_time": "2020-12-03T20:27:28.379196",
     "exception": false,
     "start_time": "2020-12-03T20:27:28.328961",
     "status": "completed"
    },
    "tags": []
   },
   "outputs": [],
   "source": [
    "df_top_1 = df_top[df_top['rating'] > 4.0]"
   ]
  },
  {
   "cell_type": "code",
   "execution_count": 13,
   "metadata": {
    "execution": {
     "iopub.execute_input": "2020-12-03T20:27:28.466942Z",
     "iopub.status.busy": "2020-12-03T20:27:28.466049Z",
     "iopub.status.idle": "2020-12-03T20:27:28.470642Z",
     "shell.execute_reply": "2020-12-03T20:27:28.470018Z"
    },
    "papermill": {
     "duration": 0.050349,
     "end_time": "2020-12-03T20:27:28.470775",
     "exception": false,
     "start_time": "2020-12-03T20:27:28.420426",
     "status": "completed"
    },
    "tags": []
   },
   "outputs": [
    {
     "data": {
      "text/plain": [
       "(65, 2)"
      ]
     },
     "execution_count": 13,
     "metadata": {},
     "output_type": "execute_result"
    }
   ],
   "source": [
    "df_top_1\n",
    "df_top_1.shape"
   ]
  },
  {
   "cell_type": "code",
   "execution_count": 14,
   "metadata": {
    "execution": {
     "iopub.execute_input": "2020-12-03T20:27:28.560193Z",
     "iopub.status.busy": "2020-12-03T20:27:28.559352Z",
     "iopub.status.idle": "2020-12-03T20:27:28.564672Z",
     "shell.execute_reply": "2020-12-03T20:27:28.563912Z"
    },
    "papermill": {
     "duration": 0.053185,
     "end_time": "2020-12-03T20:27:28.564810",
     "exception": false,
     "start_time": "2020-12-03T20:27:28.511625",
     "status": "completed"
    },
    "tags": []
   },
   "outputs": [
    {
     "data": {
      "text/plain": [
       "(65,)"
      ]
     },
     "execution_count": 14,
     "metadata": {},
     "output_type": "execute_result"
    }
   ],
   "source": [
    "topsellers = df_top_1.NtimesRated.sort_values(ascending=False)\n",
    "topsellers.shape"
   ]
  },
  {
   "cell_type": "code",
   "execution_count": 15,
   "metadata": {
    "execution": {
     "iopub.execute_input": "2020-12-03T20:27:28.657131Z",
     "iopub.status.busy": "2020-12-03T20:27:28.655991Z",
     "iopub.status.idle": "2020-12-03T20:27:28.660357Z",
     "shell.execute_reply": "2020-12-03T20:27:28.659712Z"
    },
    "papermill": {
     "duration": 0.053346,
     "end_time": "2020-12-03T20:27:28.660490",
     "exception": false,
     "start_time": "2020-12-03T20:27:28.607144",
     "status": "completed"
    },
    "tags": []
   },
   "outputs": [
    {
     "data": {
      "text/plain": [
       "product\n",
       "0007442920    10172\n",
       "0007386648     9062\n",
       "0061950726     6612\n",
       "0002007770     6001\n",
       "0061537934     4736\n",
       "              ...  \n",
       "0007281447     1072\n",
       "006218850X     1040\n",
       "0062217208     1013\n",
       "0061147958     1011\n",
       "0007493754     1001\n",
       "Name: NtimesRated, Length: 65, dtype: int64"
      ]
     },
     "execution_count": 15,
     "metadata": {},
     "output_type": "execute_result"
    }
   ],
   "source": [
    "topsellers"
   ]
  },
  {
   "cell_type": "markdown",
   "metadata": {
    "papermill": {
     "duration": 0.042462,
     "end_time": "2020-12-03T20:27:28.746133",
     "exception": false,
     "start_time": "2020-12-03T20:27:28.703671",
     "status": "completed"
    },
    "tags": []
   },
   "source": [
    "you can query Amazon API with the product identification number to get the idea what that items are\n",
    "\n",
    "for example:"
   ]
  },
  {
   "cell_type": "code",
   "execution_count": 16,
   "metadata": {
    "execution": {
     "iopub.execute_input": "2020-12-03T20:27:28.836584Z",
     "iopub.status.busy": "2020-12-03T20:27:28.835757Z",
     "iopub.status.idle": "2020-12-03T20:27:28.840660Z",
     "shell.execute_reply": "2020-12-03T20:27:28.839847Z"
    },
    "papermill": {
     "duration": 0.052312,
     "end_time": "2020-12-03T20:27:28.840792",
     "exception": false,
     "start_time": "2020-12-03T20:27:28.788480",
     "status": "completed"
    },
    "tags": []
   },
   "outputs": [],
   "source": [
    "import webbrowser\n",
    "prodid = topsellers.index[0]\n",
    "webpath = 'https://www.amazon.com/dp/'+prodid"
   ]
  },
  {
   "cell_type": "code",
   "execution_count": 17,
   "metadata": {
    "collapsed": true,
    "execution": {
     "iopub.execute_input": "2020-12-03T20:27:28.930907Z",
     "iopub.status.busy": "2020-12-03T20:27:28.930089Z",
     "iopub.status.idle": "2020-12-03T20:27:28.936434Z",
     "shell.execute_reply": "2020-12-03T20:27:28.937022Z"
    },
    "papermill": {
     "duration": 0.053661,
     "end_time": "2020-12-03T20:27:28.937181",
     "exception": false,
     "start_time": "2020-12-03T20:27:28.883520",
     "status": "completed"
    },
    "tags": []
   },
   "outputs": [
    {
     "data": {
      "text/plain": [
       "False"
      ]
     },
     "execution_count": 17,
     "metadata": {},
     "output_type": "execute_result"
    }
   ],
   "source": [
    "webbrowser.open(webpath)"
   ]
  },
  {
   "cell_type": "markdown",
   "metadata": {
    "papermill": {
     "duration": 0.043277,
     "end_time": "2020-12-03T20:27:29.023401",
     "exception": false,
     "start_time": "2020-12-03T20:27:28.980124",
     "status": "completed"
    },
    "tags": []
   },
   "source": [
    "your web browser should open locally that page . you would need an Amazon API key for real queries tho"
   ]
  },
  {
   "cell_type": "markdown",
   "metadata": {
    "papermill": {
     "duration": 0.043127,
     "end_time": "2020-12-03T20:27:29.110576",
     "exception": false,
     "start_time": "2020-12-03T20:27:29.067449",
     "status": "completed"
    },
    "tags": []
   },
   "source": [
    "COLLABORATIVE FILTERING"
   ]
  },
  {
   "cell_type": "code",
   "execution_count": 18,
   "metadata": {
    "execution": {
     "iopub.execute_input": "2020-12-03T20:27:29.206887Z",
     "iopub.status.busy": "2020-12-03T20:27:29.201734Z",
     "iopub.status.idle": "2020-12-03T20:27:29.218243Z",
     "shell.execute_reply": "2020-12-03T20:27:29.217448Z"
    },
    "papermill": {
     "duration": 0.064273,
     "end_time": "2020-12-03T20:27:29.218392",
     "exception": false,
     "start_time": "2020-12-03T20:27:29.154119",
     "status": "completed"
    },
    "tags": []
   },
   "outputs": [
    {
     "data": {
      "text/plain": [
       "(20000, 4)"
      ]
     },
     "execution_count": 18,
     "metadata": {},
     "output_type": "execute_result"
    }
   ],
   "source": [
    "cf_df = dfmr.sample(20000)\n",
    "cf_df.shape"
   ]
  },
  {
   "cell_type": "code",
   "execution_count": 19,
   "metadata": {
    "execution": {
     "iopub.execute_input": "2020-12-03T20:27:29.322470Z",
     "iopub.status.busy": "2020-12-03T20:27:29.320118Z",
     "iopub.status.idle": "2020-12-03T20:27:29.624228Z",
     "shell.execute_reply": "2020-12-03T20:27:29.623605Z"
    },
    "papermill": {
     "duration": 0.361152,
     "end_time": "2020-12-03T20:27:29.624381",
     "exception": false,
     "start_time": "2020-12-03T20:27:29.263229",
     "status": "completed"
    },
    "tags": []
   },
   "outputs": [],
   "source": [
    "cf_df_r = cf_df.pivot_table(index='user',values='rating',columns='product',fill_value=0)\n",
    "cf_df_r_T = cf_df_r.T"
   ]
  },
  {
   "cell_type": "markdown",
   "metadata": {
    "papermill": {
     "duration": 0.044049,
     "end_time": "2020-12-03T20:27:29.712876",
     "exception": false,
     "start_time": "2020-12-03T20:27:29.668827",
     "status": "completed"
    },
    "tags": []
   },
   "source": [
    "**calculating Truncated SVD**\n",
    "\n",
    "run svd once to get the initial parameters to calculate components"
   ]
  },
  {
   "cell_type": "code",
   "execution_count": 20,
   "metadata": {
    "execution": {
     "iopub.execute_input": "2020-12-03T20:27:29.809385Z",
     "iopub.status.busy": "2020-12-03T20:27:29.808344Z",
     "iopub.status.idle": "2020-12-03T20:27:29.811713Z",
     "shell.execute_reply": "2020-12-03T20:27:29.810919Z"
    },
    "papermill": {
     "duration": 0.055252,
     "end_time": "2020-12-03T20:27:29.811842",
     "exception": false,
     "start_time": "2020-12-03T20:27:29.756590",
     "status": "completed"
    },
    "tags": []
   },
   "outputs": [],
   "source": [
    "SVD = TruncatedSVD(n_components=(cf_df_r_T.shape[1]-1)//2)"
   ]
  },
  {
   "cell_type": "code",
   "execution_count": 21,
   "metadata": {
    "execution": {
     "iopub.execute_input": "2020-12-03T20:27:29.913297Z",
     "iopub.status.busy": "2020-12-03T20:27:29.912137Z",
     "iopub.status.idle": "2020-12-03T20:29:13.272090Z",
     "shell.execute_reply": "2020-12-03T20:29:13.271272Z"
    },
    "papermill": {
     "duration": 103.414616,
     "end_time": "2020-12-03T20:29:13.272251",
     "exception": false,
     "start_time": "2020-12-03T20:27:29.857635",
     "status": "completed"
    },
    "tags": []
   },
   "outputs": [],
   "source": [
    "X_SVD = SVD.fit(cf_df_r_T)"
   ]
  },
  {
   "cell_type": "code",
   "execution_count": 22,
   "metadata": {
    "execution": {
     "iopub.execute_input": "2020-12-03T20:29:13.379335Z",
     "iopub.status.busy": "2020-12-03T20:29:13.378188Z",
     "iopub.status.idle": "2020-12-03T20:29:13.381582Z",
     "shell.execute_reply": "2020-12-03T20:29:13.380940Z"
    },
    "papermill": {
     "duration": 0.057866,
     "end_time": "2020-12-03T20:29:13.381708",
     "exception": false,
     "start_time": "2020-12-03T20:29:13.323842",
     "status": "completed"
    },
    "tags": []
   },
   "outputs": [],
   "source": [
    "#creating list of explained variances\n",
    "SVD_exp_var = SVD.explained_variance_ratio_"
   ]
  },
  {
   "cell_type": "markdown",
   "metadata": {
    "papermill": {
     "duration": 0.043648,
     "end_time": "2020-12-03T20:29:13.470975",
     "exception": false,
     "start_time": "2020-12-03T20:29:13.427327",
     "status": "completed"
    },
    "tags": []
   },
   "source": [
    "now we need to calculate number of components for the svd."
   ]
  },
  {
   "cell_type": "code",
   "execution_count": 23,
   "metadata": {
    "execution": {
     "iopub.execute_input": "2020-12-03T20:29:13.567099Z",
     "iopub.status.busy": "2020-12-03T20:29:13.566014Z",
     "iopub.status.idle": "2020-12-03T20:29:13.569016Z",
     "shell.execute_reply": "2020-12-03T20:29:13.568439Z"
    },
    "papermill": {
     "duration": 0.054494,
     "end_time": "2020-12-03T20:29:13.569140",
     "exception": false,
     "start_time": "2020-12-03T20:29:13.514646",
     "status": "completed"
    },
    "tags": []
   },
   "outputs": [],
   "source": [
    "def calc_numb(exp_vars,final_ratio):\n",
    "    total_vars = 0.0\n",
    "    n_components = 0\n",
    "    for explained_variance in exp_vars:\n",
    "        total_vars += explained_variance\n",
    "        n_components += 1\n",
    "        if total_vars >= final_ratio:\n",
    "            break\n",
    "    return n_components"
   ]
  },
  {
   "cell_type": "code",
   "execution_count": 24,
   "metadata": {
    "execution": {
     "iopub.execute_input": "2020-12-03T20:29:13.664081Z",
     "iopub.status.busy": "2020-12-03T20:29:13.662909Z",
     "iopub.status.idle": "2020-12-03T20:29:13.667113Z",
     "shell.execute_reply": "2020-12-03T20:29:13.667878Z"
    },
    "papermill": {
     "duration": 0.054592,
     "end_time": "2020-12-03T20:29:13.668071",
     "exception": false,
     "start_time": "2020-12-03T20:29:13.613479",
     "status": "completed"
    },
    "tags": []
   },
   "outputs": [
    {
     "data": {
      "text/plain": [
       "62"
      ]
     },
     "execution_count": 24,
     "metadata": {},
     "output_type": "execute_result"
    }
   ],
   "source": [
    "components = calc_numb(SVD_exp_var,0.9)\n",
    "components"
   ]
  },
  {
   "cell_type": "code",
   "execution_count": 25,
   "metadata": {
    "execution": {
     "iopub.execute_input": "2020-12-03T20:29:13.764587Z",
     "iopub.status.busy": "2020-12-03T20:29:13.763784Z",
     "iopub.status.idle": "2020-12-03T20:29:13.767417Z",
     "shell.execute_reply": "2020-12-03T20:29:13.766687Z"
    },
    "papermill": {
     "duration": 0.054194,
     "end_time": "2020-12-03T20:29:13.767543",
     "exception": false,
     "start_time": "2020-12-03T20:29:13.713349",
     "status": "completed"
    },
    "tags": []
   },
   "outputs": [],
   "source": [
    "SVD_1 = TruncatedSVD(n_components=components)"
   ]
  },
  {
   "cell_type": "code",
   "execution_count": 26,
   "metadata": {
    "execution": {
     "iopub.execute_input": "2020-12-03T20:29:13.918884Z",
     "iopub.status.busy": "2020-12-03T20:29:13.891525Z",
     "iopub.status.idle": "2020-12-03T20:29:14.335169Z",
     "shell.execute_reply": "2020-12-03T20:29:14.334457Z"
    },
    "papermill": {
     "duration": 0.522008,
     "end_time": "2020-12-03T20:29:14.335349",
     "exception": false,
     "start_time": "2020-12-03T20:29:13.813341",
     "status": "completed"
    },
    "tags": []
   },
   "outputs": [],
   "source": [
    "decomposed_matrix = SVD_1.fit_transform(cf_df_r_T)"
   ]
  },
  {
   "cell_type": "code",
   "execution_count": 27,
   "metadata": {
    "execution": {
     "iopub.execute_input": "2020-12-03T20:29:14.434753Z",
     "iopub.status.busy": "2020-12-03T20:29:14.433737Z",
     "iopub.status.idle": "2020-12-03T20:29:14.438583Z",
     "shell.execute_reply": "2020-12-03T20:29:14.437835Z"
    },
    "papermill": {
     "duration": 0.0552,
     "end_time": "2020-12-03T20:29:14.438717",
     "exception": false,
     "start_time": "2020-12-03T20:29:14.383517",
     "status": "completed"
    },
    "tags": []
   },
   "outputs": [
    {
     "data": {
      "text/plain": [
       "(80, 62)"
      ]
     },
     "execution_count": 27,
     "metadata": {},
     "output_type": "execute_result"
    }
   ],
   "source": [
    "decomposed_matrix.shape"
   ]
  },
  {
   "cell_type": "code",
   "execution_count": 28,
   "metadata": {
    "execution": {
     "iopub.execute_input": "2020-12-03T20:29:14.537750Z",
     "iopub.status.busy": "2020-12-03T20:29:14.536660Z",
     "iopub.status.idle": "2020-12-03T20:29:14.544685Z",
     "shell.execute_reply": "2020-12-03T20:29:14.543939Z"
    },
    "papermill": {
     "duration": 0.059044,
     "end_time": "2020-12-03T20:29:14.544808",
     "exception": false,
     "start_time": "2020-12-03T20:29:14.485764",
     "status": "completed"
    },
    "tags": []
   },
   "outputs": [
    {
     "data": {
      "text/plain": [
       "(80, 80)"
      ]
     },
     "execution_count": 28,
     "metadata": {},
     "output_type": "execute_result"
    }
   ],
   "source": [
    "corr_matrix = np.corrcoef(decomposed_matrix)\n",
    "corr_matrix.shape"
   ]
  },
  {
   "cell_type": "markdown",
   "metadata": {
    "papermill": {
     "duration": 0.046493,
     "end_time": "2020-12-03T20:29:14.638169",
     "exception": false,
     "start_time": "2020-12-03T20:29:14.591676",
     "status": "completed"
    },
    "tags": []
   },
   "source": [
    "we got matrix of product indexes, now we can query any product and get relation "
   ]
  },
  {
   "cell_type": "code",
   "execution_count": 29,
   "metadata": {
    "execution": {
     "iopub.execute_input": "2020-12-03T20:29:14.740903Z",
     "iopub.status.busy": "2020-12-03T20:29:14.740079Z",
     "iopub.status.idle": "2020-12-03T20:29:14.744630Z",
     "shell.execute_reply": "2020-12-03T20:29:14.744047Z"
    },
    "papermill": {
     "duration": 0.059225,
     "end_time": "2020-12-03T20:29:14.744752",
     "exception": false,
     "start_time": "2020-12-03T20:29:14.685527",
     "status": "completed"
    },
    "tags": []
   },
   "outputs": [
    {
     "data": {
      "text/plain": [
       "(74, '0062217208')"
      ]
     },
     "execution_count": 29,
     "metadata": {},
     "output_type": "execute_result"
    }
   ],
   "source": [
    "ind1 = cf_df_r_T.index[74]\n",
    "prod_names = list(cf_df_r_T.index)\n",
    "prod_id = prod_names.index(ind1)\n",
    "prod_id,ind1"
   ]
  },
  {
   "cell_type": "code",
   "execution_count": 30,
   "metadata": {
    "execution": {
     "iopub.execute_input": "2020-12-03T20:29:14.845384Z",
     "iopub.status.busy": "2020-12-03T20:29:14.844280Z",
     "iopub.status.idle": "2020-12-03T20:29:14.849587Z",
     "shell.execute_reply": "2020-12-03T20:29:14.848959Z"
    },
    "papermill": {
     "duration": 0.057729,
     "end_time": "2020-12-03T20:29:14.849718",
     "exception": false,
     "start_time": "2020-12-03T20:29:14.791989",
     "status": "completed"
    },
    "tags": []
   },
   "outputs": [
    {
     "data": {
      "text/plain": [
       "(80,)"
      ]
     },
     "execution_count": 30,
     "metadata": {},
     "output_type": "execute_result"
    }
   ],
   "source": [
    "corr_prod_ids = corr_matrix[prod_id]\n",
    "corr_prod_ids.shape"
   ]
  },
  {
   "cell_type": "markdown",
   "metadata": {
    "papermill": {
     "duration": 0.04975,
     "end_time": "2020-12-03T20:29:14.948141",
     "exception": false,
     "start_time": "2020-12-03T20:29:14.898391",
     "status": "completed"
    },
    "tags": []
   },
   "source": [
    "Recommending highly correlated products in sequence"
   ]
  },
  {
   "cell_type": "code",
   "execution_count": 31,
   "metadata": {
    "execution": {
     "iopub.execute_input": "2020-12-03T20:29:15.068610Z",
     "iopub.status.busy": "2020-12-03T20:29:15.067458Z",
     "iopub.status.idle": "2020-12-03T20:29:15.070995Z",
     "shell.execute_reply": "2020-12-03T20:29:15.070105Z"
    },
    "papermill": {
     "duration": 0.073485,
     "end_time": "2020-12-03T20:29:15.071183",
     "exception": false,
     "start_time": "2020-12-03T20:29:14.997698",
     "status": "completed"
    },
    "tags": []
   },
   "outputs": [],
   "source": [
    "reclist = list(cf_df_r_T.index[corr_prod_ids > 0.5])\n",
    "reclist.remove(ind1)"
   ]
  },
  {
   "cell_type": "code",
   "execution_count": 32,
   "metadata": {
    "execution": {
     "iopub.execute_input": "2020-12-03T20:29:15.195184Z",
     "iopub.status.busy": "2020-12-03T20:29:15.194054Z",
     "iopub.status.idle": "2020-12-03T20:29:15.198879Z",
     "shell.execute_reply": "2020-12-03T20:29:15.198109Z"
    },
    "papermill": {
     "duration": 0.068766,
     "end_time": "2020-12-03T20:29:15.199006",
     "exception": false,
     "start_time": "2020-12-03T20:29:15.130240",
     "status": "completed"
    },
    "tags": []
   },
   "outputs": [
    {
     "data": {
      "text/plain": [
       "['0061147931']"
      ]
     },
     "execution_count": 32,
     "metadata": {},
     "output_type": "execute_result"
    }
   ],
   "source": [
    "reclist"
   ]
  },
  {
   "cell_type": "markdown",
   "metadata": {
    "papermill": {
     "duration": 0.048358,
     "end_time": "2020-12-03T20:29:15.297046",
     "exception": false,
     "start_time": "2020-12-03T20:29:15.248688",
     "status": "completed"
    },
    "tags": []
   },
   "source": [
    "and we can check what kind of product is that ."
   ]
  },
  {
   "cell_type": "code",
   "execution_count": 33,
   "metadata": {
    "execution": {
     "iopub.execute_input": "2020-12-03T20:29:15.399922Z",
     "iopub.status.busy": "2020-12-03T20:29:15.399048Z",
     "iopub.status.idle": "2020-12-03T20:29:15.404069Z",
     "shell.execute_reply": "2020-12-03T20:29:15.403327Z"
    },
    "papermill": {
     "duration": 0.059007,
     "end_time": "2020-12-03T20:29:15.404195",
     "exception": false,
     "start_time": "2020-12-03T20:29:15.345188",
     "status": "completed"
    },
    "tags": []
   },
   "outputs": [
    {
     "data": {
      "text/plain": [
       "False"
      ]
     },
     "execution_count": 33,
     "metadata": {},
     "output_type": "execute_result"
    }
   ],
   "source": [
    "webpath1 = 'https://www.amazon.com/dp/'+ind1\n",
    "webbrowser.open(webpath1)"
   ]
  },
  {
   "cell_type": "markdown",
   "metadata": {
    "papermill": {
     "duration": 0.048263,
     "end_time": "2020-12-03T20:29:15.501808",
     "exception": false,
     "start_time": "2020-12-03T20:29:15.453545",
     "status": "completed"
    },
    "tags": []
   },
   "source": [
    "![](https://images-na.ssl-images-amazon.com/images/I/51I3O9EGDQL._SX330_BO1,204,203,200_.jpg)"
   ]
  },
  {
   "cell_type": "markdown",
   "metadata": {
    "papermill": {
     "duration": 0.048204,
     "end_time": "2020-12-03T20:29:15.598937",
     "exception": false,
     "start_time": "2020-12-03T20:29:15.550733",
     "status": "completed"
    },
    "tags": []
   },
   "source": [
    "and we can check recommendations in the exact same way\n",
    "\n",
    "![](https://images-na.ssl-images-amazon.com/images/I/51-zJEmZn8L._SX324_BO1,204,203,200_.jpg)\n",
    "![](https://images-na.ssl-images-amazon.com/images/I/51FUkRLXLsL._SX328_BO1,204,203,200_.jpg)\n",
    "![](https://images-na.ssl-images-amazon.com/images/I/51gREdA2jqL._SX329_BO1,204,203,200_.jpg)\n",
    "![](https://images-na.ssl-images-amazon.com/images/I/512rYFkWCCL._SX329_BO1,204,203,200_.jpg)\n",
    "![](https://images-na.ssl-images-amazon.com/images/I/51p3FIHUcfL._SX329_BO1,204,203,200_.jpg)"
   ]
  }
 ],
 "metadata": {
  "kernelspec": {
   "display_name": "Python 3",
   "language": "python",
   "name": "python3"
  },
  "language_info": {
   "codemirror_mode": {
    "name": "ipython",
    "version": 3
   },
   "file_extension": ".py",
   "mimetype": "text/x-python",
   "name": "python",
   "nbconvert_exporter": "python",
   "pygments_lexer": "ipython3",
   "version": "3.7.6"
  },
  "papermill": {
   "duration": 196.244776,
   "end_time": "2020-12-03T20:29:16.734883",
   "environment_variables": {},
   "exception": null,
   "input_path": "__notebook__.ipynb",
   "output_path": "__notebook__.ipynb",
   "parameters": {},
   "start_time": "2020-12-03T20:26:00.490107",
   "version": "2.1.0"
  }
 },
 "nbformat": 4,
 "nbformat_minor": 4
}
