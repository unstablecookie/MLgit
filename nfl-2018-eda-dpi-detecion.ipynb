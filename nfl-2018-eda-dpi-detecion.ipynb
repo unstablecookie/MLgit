{
 "cells": [
  {
   "cell_type": "code",
   "execution_count": 1,
   "metadata": {
    "_cell_guid": "b1076dfc-b9ad-4769-8c92-a6c4dae69d19",
    "_uuid": "8f2839f25d086af736a60e9eeb907d3b93b6e0e5",
    "execution": {
     "iopub.execute_input": "2020-12-23T07:27:09.252087Z",
     "iopub.status.busy": "2020-12-23T07:27:09.251087Z",
     "iopub.status.idle": "2020-12-23T07:27:10.922181Z",
     "shell.execute_reply": "2020-12-23T07:27:10.921490Z"
    },
    "papermill": {
     "duration": 1.732993,
     "end_time": "2020-12-23T07:27:10.922324",
     "exception": false,
     "start_time": "2020-12-23T07:27:09.189331",
     "status": "completed"
    },
    "tags": []
   },
   "outputs": [],
   "source": [
    "import pandas as pd\n",
    "import numpy as np\n",
    "import matplotlib.pyplot as plt\n",
    "import seaborn as sns\n",
    "import re\n",
    "\n",
    "from pathlib import Path\n",
    "from sklearn.preprocessing import MinMaxScaler,StandardScaler\n",
    "from sklearn.model_selection import train_test_split\n",
    "from sklearn.svm import LinearSVC\n",
    "\n",
    "import warnings\n",
    "warnings.filterwarnings(\"ignore\")"
   ]
  },
  {
   "cell_type": "markdown",
   "metadata": {
    "papermill": {
     "duration": 0.056006,
     "end_time": "2020-12-23T07:27:11.034692",
     "exception": false,
     "start_time": "2020-12-23T07:27:10.978686",
     "status": "completed"
    },
    "tags": []
   },
   "source": [
    "![](https://i.ibb.co/5TfQCc0/nfl.png)"
   ]
  },
  {
   "cell_type": "markdown",
   "metadata": {
    "papermill": {
     "duration": 0.051855,
     "end_time": "2020-12-23T07:27:11.142033",
     "exception": false,
     "start_time": "2020-12-23T07:27:11.090178",
     "status": "completed"
    },
    "tags": []
   },
   "source": [
    "# Table of Contents\n",
    "\n",
    "* [upload the data](#one)\n",
    "* [Exploratory Data Analysis of defence team composition](#two)\n",
    "* [Most popular offence formations and team composition](#three)\n",
    "* [Dropbacks and penalties](#four)\n",
    "* [Detailed play analysis](#five)\n",
    "\n",
    "    * [Plotting a play](#six)\n",
    "    * [Defence pass interference](#seven)\n",
    "    * [Data preparation](#eight)\n",
    "    * [Model creation](#nine)\n",
    "    * [model score](#ten)\n",
    "    * [conclusion](#eleven)"
   ]
  },
  {
   "cell_type": "markdown",
   "metadata": {
    "papermill": {
     "duration": 0.051862,
     "end_time": "2020-12-23T07:27:11.247169",
     "exception": false,
     "start_time": "2020-12-23T07:27:11.195307",
     "status": "completed"
    },
    "tags": []
   },
   "source": [
    "<a id=\"one\"></a>\n",
    "# upload the data"
   ]
  },
  {
   "cell_type": "code",
   "execution_count": 2,
   "metadata": {
    "execution": {
     "iopub.execute_input": "2020-12-23T07:27:11.361767Z",
     "iopub.status.busy": "2020-12-23T07:27:11.361077Z",
     "iopub.status.idle": "2020-12-23T07:27:15.959714Z",
     "shell.execute_reply": "2020-12-23T07:27:15.959050Z"
    },
    "papermill": {
     "duration": 4.65929,
     "end_time": "2020-12-23T07:27:15.959869",
     "exception": false,
     "start_time": "2020-12-23T07:27:11.300579",
     "status": "completed"
    },
    "tags": []
   },
   "outputs": [],
   "source": [
    "path = Path('/kaggle/input/nfl-big-data-bowl-2021')\n",
    "df_games = pd.read_csv(path/'games.csv')\n",
    "df_players = pd.read_csv(path/'players.csv')\n",
    "df_plays = pd.read_csv(path/'plays.csv')\n",
    "df_week1 = pd.read_csv(path/'week1.csv')"
   ]
  },
  {
   "cell_type": "markdown",
   "metadata": {
    "papermill": {
     "duration": 0.050656,
     "end_time": "2020-12-23T07:27:16.063278",
     "exception": false,
     "start_time": "2020-12-23T07:27:16.012622",
     "status": "completed"
    },
    "tags": []
   },
   "source": [
    "That's a lot of dataframes . i'll skip standard NaN\\null , values check ,implying anyone who is looking this notebook is familiar with data.\n",
    "\n",
    "First of all, i want to make new dataframe with high score\\low score brackets to get the idea about team composition"
   ]
  },
  {
   "cell_type": "code",
   "execution_count": 3,
   "metadata": {
    "execution": {
     "iopub.execute_input": "2020-12-23T07:27:16.184990Z",
     "iopub.status.busy": "2020-12-23T07:27:16.184020Z",
     "iopub.status.idle": "2020-12-23T07:27:16.188472Z",
     "shell.execute_reply": "2020-12-23T07:27:16.188973Z"
    },
    "papermill": {
     "duration": 0.074659,
     "end_time": "2020-12-23T07:27:16.189127",
     "exception": false,
     "start_time": "2020-12-23T07:27:16.114468",
     "status": "completed"
    },
    "tags": []
   },
   "outputs": [
    {
     "data": {
      "text/plain": [
       "array([ True,  True,  True,  True,  True,  True,  True,  True,  True,\n",
       "        True,  True,  True,  True,  True,  True,  True,  True,  True,\n",
       "        True,  True,  True,  True,  True,  True,  True,  True,  True,\n",
       "        True,  True,  True,  True,  True])"
      ]
     },
     "execution_count": 3,
     "metadata": {},
     "output_type": "execute_result"
    }
   ],
   "source": [
    "df_games.visitorTeamAbbr.sort_values().unique() == df_games.homeTeamAbbr.sort_values().unique()"
   ]
  },
  {
   "cell_type": "code",
   "execution_count": 4,
   "metadata": {
    "execution": {
     "iopub.execute_input": "2020-12-23T07:27:16.302873Z",
     "iopub.status.busy": "2020-12-23T07:27:16.301700Z",
     "iopub.status.idle": "2020-12-23T07:27:16.304794Z",
     "shell.execute_reply": "2020-12-23T07:27:16.305316Z"
    },
    "papermill": {
     "duration": 0.063719,
     "end_time": "2020-12-23T07:27:16.305472",
     "exception": false,
     "start_time": "2020-12-23T07:27:16.241753",
     "status": "completed"
    },
    "tags": []
   },
   "outputs": [],
   "source": [
    "team_names = df_games.visitorTeamAbbr.sort_values().unique()\n",
    "df_teams = pd.DataFrame(team_names,columns=['team'])"
   ]
  },
  {
   "cell_type": "code",
   "execution_count": 5,
   "metadata": {
    "execution": {
     "iopub.execute_input": "2020-12-23T07:27:16.417066Z",
     "iopub.status.busy": "2020-12-23T07:27:16.416106Z",
     "iopub.status.idle": "2020-12-23T07:27:16.419463Z",
     "shell.execute_reply": "2020-12-23T07:27:16.418904Z"
    },
    "papermill": {
     "duration": 0.061818,
     "end_time": "2020-12-23T07:27:16.419572",
     "exception": false,
     "start_time": "2020-12-23T07:27:16.357754",
     "status": "completed"
    },
    "tags": []
   },
   "outputs": [],
   "source": [
    "df_teams['wins'] = 0\n",
    "df_teams['score'] = 0"
   ]
  },
  {
   "cell_type": "code",
   "execution_count": 6,
   "metadata": {
    "execution": {
     "iopub.execute_input": "2020-12-23T07:27:16.536191Z",
     "iopub.status.busy": "2020-12-23T07:27:16.535476Z",
     "iopub.status.idle": "2020-12-23T07:27:16.538356Z",
     "shell.execute_reply": "2020-12-23T07:27:16.537714Z"
    },
    "papermill": {
     "duration": 0.066347,
     "end_time": "2020-12-23T07:27:16.538478",
     "exception": false,
     "start_time": "2020-12-23T07:27:16.472131",
     "status": "completed"
    },
    "tags": []
   },
   "outputs": [],
   "source": [
    "#creating columns for the offence formation\n",
    "df_teams['I_FORM'] = 0\n",
    "df_teams['SINGLEBACK'] = 0\n",
    "df_teams['SHOTGUN'] = 0\n",
    "df_teams['EMPTY'] = 0\n",
    "df_teams['PISTOL'] = 0\n",
    "df_teams['WILDCAT'] = 0\n",
    "df_teams['JUMBO'] = 0"
   ]
  },
  {
   "cell_type": "code",
   "execution_count": 7,
   "metadata": {
    "_kg_hide-input": false,
    "execution": {
     "iopub.execute_input": "2020-12-23T07:27:16.661403Z",
     "iopub.status.busy": "2020-12-23T07:27:16.659035Z",
     "iopub.status.idle": "2020-12-23T07:27:23.158323Z",
     "shell.execute_reply": "2020-12-23T07:27:23.158818Z"
    },
    "papermill": {
     "duration": 6.568248,
     "end_time": "2020-12-23T07:27:23.159011",
     "exception": false,
     "start_time": "2020-12-23T07:27:16.590763",
     "status": "completed"
    },
    "tags": []
   },
   "outputs": [],
   "source": [
    "for index,game in df_games.iterrows():\n",
    "    home_team = game.homeTeamAbbr\n",
    "    visitor_team = game.visitorTeamAbbr\n",
    "    home_team_index = df_teams[df_teams.team == home_team].index\n",
    "    visitor_team_index = df_teams[df_teams.team == visitor_team].index\n",
    "    #total score and index\n",
    "    home_score = df_plays[df_plays.gameId == game.gameId].preSnapHomeScore.max()\n",
    "    visitor_score = df_plays[df_plays.gameId == game.gameId].preSnapVisitorScore.max()\n",
    "    if home_score > visitor_score:\n",
    "        total_wins = df_teams[df_teams.team == home_team].wins.values\n",
    "        df_teams['wins'][home_team_index] = total_wins + 1\n",
    "    elif visitor_score > home_score:\n",
    "        total_wins = df_teams[df_teams.team == visitor_team].wins.values\n",
    "        df_teams['wins'][visitor_team_index] = total_wins + 1\n",
    "    else:\n",
    "        pass\n",
    "    total_home_score = df_teams[df_teams.team == home_team].score.values\n",
    "    total_visiter_score = df_teams[df_teams.team == visitor_team].score.values\n",
    "    df_teams['score'][home_team_index] = total_home_score + home_score\n",
    "    df_teams['score'][visitor_team_index] = total_visiter_score + visitor_score\n",
    "    #offence\n",
    "    ht_offence = df_plays[(df_plays.gameId == game.gameId) & (df_plays.possessionTeam == home_team)].offenseFormation.value_counts()\n",
    "    vt_offence = df_plays[(df_plays.gameId == game.gameId) & (df_plays.possessionTeam == visitor_team)].offenseFormation.value_counts()\n",
    "    ht_offence_dict = ht_offence.to_dict()\n",
    "    for k,v in ht_offence_dict.items():\n",
    "        total_of = df_teams[df_teams.team == home_team][k].values\n",
    "        df_teams[k][home_team_index] = total_of + v\n",
    "    vt_offence_dict = vt_offence.to_dict()\n",
    "    for k,v in vt_offence_dict.items():\n",
    "        total_of = df_teams[df_teams.team == visitor_team][k].values\n",
    "        df_teams[k][visitor_team_index] = total_of + v"
   ]
  },
  {
   "cell_type": "code",
   "execution_count": 8,
   "metadata": {
    "execution": {
     "iopub.execute_input": "2020-12-23T07:27:23.270424Z",
     "iopub.status.busy": "2020-12-23T07:27:23.269381Z",
     "iopub.status.idle": "2020-12-23T07:27:23.307853Z",
     "shell.execute_reply": "2020-12-23T07:27:23.307256Z"
    },
    "papermill": {
     "duration": 0.095438,
     "end_time": "2020-12-23T07:27:23.307971",
     "exception": false,
     "start_time": "2020-12-23T07:27:23.212533",
     "status": "completed"
    },
    "tags": []
   },
   "outputs": [
    {
     "data": {
      "text/html": [
       "<div>\n",
       "<style scoped>\n",
       "    .dataframe tbody tr th:only-of-type {\n",
       "        vertical-align: middle;\n",
       "    }\n",
       "\n",
       "    .dataframe tbody tr th {\n",
       "        vertical-align: top;\n",
       "    }\n",
       "\n",
       "    .dataframe thead th {\n",
       "        text-align: right;\n",
       "    }\n",
       "</style>\n",
       "<table border=\"1\" class=\"dataframe\">\n",
       "  <thead>\n",
       "    <tr style=\"text-align: right;\">\n",
       "      <th></th>\n",
       "      <th>team</th>\n",
       "      <th>wins</th>\n",
       "      <th>score</th>\n",
       "      <th>I_FORM</th>\n",
       "      <th>SINGLEBACK</th>\n",
       "      <th>SHOTGUN</th>\n",
       "      <th>EMPTY</th>\n",
       "      <th>PISTOL</th>\n",
       "      <th>WILDCAT</th>\n",
       "      <th>JUMBO</th>\n",
       "    </tr>\n",
       "  </thead>\n",
       "  <tbody>\n",
       "    <tr>\n",
       "      <th>16</th>\n",
       "      <td>LA</td>\n",
       "      <td>12</td>\n",
       "      <td>524.0</td>\n",
       "      <td>4</td>\n",
       "      <td>218</td>\n",
       "      <td>271</td>\n",
       "      <td>113</td>\n",
       "      <td>6</td>\n",
       "      <td>0</td>\n",
       "      <td>0</td>\n",
       "    </tr>\n",
       "    <tr>\n",
       "      <th>15</th>\n",
       "      <td>KC</td>\n",
       "      <td>12</td>\n",
       "      <td>524.0</td>\n",
       "      <td>9</td>\n",
       "      <td>49</td>\n",
       "      <td>448</td>\n",
       "      <td>77</td>\n",
       "      <td>11</td>\n",
       "      <td>0</td>\n",
       "      <td>0</td>\n",
       "    </tr>\n",
       "    <tr>\n",
       "      <th>21</th>\n",
       "      <td>NO</td>\n",
       "      <td>12</td>\n",
       "      <td>483.0</td>\n",
       "      <td>34</td>\n",
       "      <td>109</td>\n",
       "      <td>297</td>\n",
       "      <td>99</td>\n",
       "      <td>4</td>\n",
       "      <td>6</td>\n",
       "      <td>4</td>\n",
       "    </tr>\n",
       "    <tr>\n",
       "      <th>20</th>\n",
       "      <td>NE</td>\n",
       "      <td>11</td>\n",
       "      <td>433.0</td>\n",
       "      <td>61</td>\n",
       "      <td>107</td>\n",
       "      <td>343</td>\n",
       "      <td>96</td>\n",
       "      <td>3</td>\n",
       "      <td>1</td>\n",
       "      <td>1</td>\n",
       "    </tr>\n",
       "    <tr>\n",
       "      <th>26</th>\n",
       "      <td>PIT</td>\n",
       "      <td>9</td>\n",
       "      <td>421.0</td>\n",
       "      <td>9</td>\n",
       "      <td>45</td>\n",
       "      <td>484</td>\n",
       "      <td>189</td>\n",
       "      <td>3</td>\n",
       "      <td>0</td>\n",
       "      <td>3</td>\n",
       "    </tr>\n",
       "    <tr>\n",
       "      <th>5</th>\n",
       "      <td>CHI</td>\n",
       "      <td>12</td>\n",
       "      <td>421.0</td>\n",
       "      <td>14</td>\n",
       "      <td>30</td>\n",
       "      <td>419</td>\n",
       "      <td>71</td>\n",
       "      <td>7</td>\n",
       "      <td>1</td>\n",
       "      <td>1</td>\n",
       "    </tr>\n",
       "    <tr>\n",
       "      <th>13</th>\n",
       "      <td>IND</td>\n",
       "      <td>9</td>\n",
       "      <td>416.0</td>\n",
       "      <td>9</td>\n",
       "      <td>74</td>\n",
       "      <td>503</td>\n",
       "      <td>87</td>\n",
       "      <td>5</td>\n",
       "      <td>1</td>\n",
       "      <td>3</td>\n",
       "    </tr>\n",
       "    <tr>\n",
       "      <th>1</th>\n",
       "      <td>ATL</td>\n",
       "      <td>6</td>\n",
       "      <td>392.0</td>\n",
       "      <td>63</td>\n",
       "      <td>153</td>\n",
       "      <td>339</td>\n",
       "      <td>108</td>\n",
       "      <td>3</td>\n",
       "      <td>0</td>\n",
       "      <td>0</td>\n",
       "    </tr>\n",
       "    <tr>\n",
       "      <th>12</th>\n",
       "      <td>HOU</td>\n",
       "      <td>10</td>\n",
       "      <td>389.0</td>\n",
       "      <td>8</td>\n",
       "      <td>80</td>\n",
       "      <td>345</td>\n",
       "      <td>125</td>\n",
       "      <td>4</td>\n",
       "      <td>20</td>\n",
       "      <td>0</td>\n",
       "    </tr>\n",
       "    <tr>\n",
       "      <th>17</th>\n",
       "      <td>LAC</td>\n",
       "      <td>11</td>\n",
       "      <td>389.0</td>\n",
       "      <td>31</td>\n",
       "      <td>93</td>\n",
       "      <td>300</td>\n",
       "      <td>78</td>\n",
       "      <td>3</td>\n",
       "      <td>0</td>\n",
       "      <td>1</td>\n",
       "    </tr>\n",
       "    <tr>\n",
       "      <th>27</th>\n",
       "      <td>SEA</td>\n",
       "      <td>7</td>\n",
       "      <td>388.0</td>\n",
       "      <td>30</td>\n",
       "      <td>70</td>\n",
       "      <td>312</td>\n",
       "      <td>36</td>\n",
       "      <td>2</td>\n",
       "      <td>0</td>\n",
       "      <td>2</td>\n",
       "    </tr>\n",
       "    <tr>\n",
       "      <th>29</th>\n",
       "      <td>TB</td>\n",
       "      <td>5</td>\n",
       "      <td>386.0</td>\n",
       "      <td>48</td>\n",
       "      <td>97</td>\n",
       "      <td>484</td>\n",
       "      <td>55</td>\n",
       "      <td>3</td>\n",
       "      <td>0</td>\n",
       "      <td>1</td>\n",
       "    </tr>\n",
       "    <tr>\n",
       "      <th>2</th>\n",
       "      <td>BAL</td>\n",
       "      <td>10</td>\n",
       "      <td>376.0</td>\n",
       "      <td>25</td>\n",
       "      <td>52</td>\n",
       "      <td>363</td>\n",
       "      <td>91</td>\n",
       "      <td>65</td>\n",
       "      <td>5</td>\n",
       "      <td>1</td>\n",
       "    </tr>\n",
       "    <tr>\n",
       "      <th>11</th>\n",
       "      <td>GB</td>\n",
       "      <td>5</td>\n",
       "      <td>361.0</td>\n",
       "      <td>33</td>\n",
       "      <td>89</td>\n",
       "      <td>512</td>\n",
       "      <td>47</td>\n",
       "      <td>13</td>\n",
       "      <td>0</td>\n",
       "      <td>4</td>\n",
       "    </tr>\n",
       "    <tr>\n",
       "      <th>4</th>\n",
       "      <td>CAR</td>\n",
       "      <td>6</td>\n",
       "      <td>360.0</td>\n",
       "      <td>21</td>\n",
       "      <td>42</td>\n",
       "      <td>438</td>\n",
       "      <td>80</td>\n",
       "      <td>12</td>\n",
       "      <td>0</td>\n",
       "      <td>6</td>\n",
       "    </tr>\n",
       "    <tr>\n",
       "      <th>6</th>\n",
       "      <td>CIN</td>\n",
       "      <td>5</td>\n",
       "      <td>358.0</td>\n",
       "      <td>10</td>\n",
       "      <td>95</td>\n",
       "      <td>420</td>\n",
       "      <td>60</td>\n",
       "      <td>6</td>\n",
       "      <td>0</td>\n",
       "      <td>4</td>\n",
       "    </tr>\n",
       "    <tr>\n",
       "      <th>25</th>\n",
       "      <td>PHI</td>\n",
       "      <td>9</td>\n",
       "      <td>357.0</td>\n",
       "      <td>1</td>\n",
       "      <td>79</td>\n",
       "      <td>508</td>\n",
       "      <td>64</td>\n",
       "      <td>4</td>\n",
       "      <td>0</td>\n",
       "      <td>1</td>\n",
       "    </tr>\n",
       "    <tr>\n",
       "      <th>22</th>\n",
       "      <td>NYG</td>\n",
       "      <td>6</td>\n",
       "      <td>351.0</td>\n",
       "      <td>53</td>\n",
       "      <td>89</td>\n",
       "      <td>450</td>\n",
       "      <td>43</td>\n",
       "      <td>5</td>\n",
       "      <td>0</td>\n",
       "      <td>2</td>\n",
       "    </tr>\n",
       "    <tr>\n",
       "      <th>7</th>\n",
       "      <td>CLE</td>\n",
       "      <td>6</td>\n",
       "      <td>350.0</td>\n",
       "      <td>30</td>\n",
       "      <td>80</td>\n",
       "      <td>402</td>\n",
       "      <td>97</td>\n",
       "      <td>15</td>\n",
       "      <td>1</td>\n",
       "      <td>3</td>\n",
       "    </tr>\n",
       "    <tr>\n",
       "      <th>23</th>\n",
       "      <td>NYJ</td>\n",
       "      <td>4</td>\n",
       "      <td>333.0</td>\n",
       "      <td>16</td>\n",
       "      <td>90</td>\n",
       "      <td>365</td>\n",
       "      <td>92</td>\n",
       "      <td>1</td>\n",
       "      <td>0</td>\n",
       "      <td>0</td>\n",
       "    </tr>\n",
       "    <tr>\n",
       "      <th>8</th>\n",
       "      <td>DAL</td>\n",
       "      <td>7</td>\n",
       "      <td>327.0</td>\n",
       "      <td>31</td>\n",
       "      <td>75</td>\n",
       "      <td>416</td>\n",
       "      <td>72</td>\n",
       "      <td>3</td>\n",
       "      <td>0</td>\n",
       "      <td>1</td>\n",
       "    </tr>\n",
       "    <tr>\n",
       "      <th>19</th>\n",
       "      <td>MIN</td>\n",
       "      <td>7</td>\n",
       "      <td>323.0</td>\n",
       "      <td>27</td>\n",
       "      <td>101</td>\n",
       "      <td>435</td>\n",
       "      <td>47</td>\n",
       "      <td>7</td>\n",
       "      <td>0</td>\n",
       "      <td>1</td>\n",
       "    </tr>\n",
       "    <tr>\n",
       "      <th>10</th>\n",
       "      <td>DET</td>\n",
       "      <td>7</td>\n",
       "      <td>321.0</td>\n",
       "      <td>18</td>\n",
       "      <td>73</td>\n",
       "      <td>495</td>\n",
       "      <td>42</td>\n",
       "      <td>5</td>\n",
       "      <td>0</td>\n",
       "      <td>0</td>\n",
       "    </tr>\n",
       "    <tr>\n",
       "      <th>28</th>\n",
       "      <td>SF</td>\n",
       "      <td>3</td>\n",
       "      <td>306.0</td>\n",
       "      <td>114</td>\n",
       "      <td>89</td>\n",
       "      <td>254</td>\n",
       "      <td>95</td>\n",
       "      <td>10</td>\n",
       "      <td>0</td>\n",
       "      <td>1</td>\n",
       "    </tr>\n",
       "    <tr>\n",
       "      <th>18</th>\n",
       "      <td>MIA</td>\n",
       "      <td>5</td>\n",
       "      <td>303.0</td>\n",
       "      <td>17</td>\n",
       "      <td>85</td>\n",
       "      <td>351</td>\n",
       "      <td>63</td>\n",
       "      <td>4</td>\n",
       "      <td>0</td>\n",
       "      <td>0</td>\n",
       "    </tr>\n",
       "    <tr>\n",
       "      <th>9</th>\n",
       "      <td>DEN</td>\n",
       "      <td>4</td>\n",
       "      <td>289.0</td>\n",
       "      <td>47</td>\n",
       "      <td>86</td>\n",
       "      <td>360</td>\n",
       "      <td>99</td>\n",
       "      <td>0</td>\n",
       "      <td>0</td>\n",
       "      <td>1</td>\n",
       "    </tr>\n",
       "    <tr>\n",
       "      <th>30</th>\n",
       "      <td>TEN</td>\n",
       "      <td>9</td>\n",
       "      <td>282.0</td>\n",
       "      <td>29</td>\n",
       "      <td>94</td>\n",
       "      <td>294</td>\n",
       "      <td>49</td>\n",
       "      <td>24</td>\n",
       "      <td>1</td>\n",
       "      <td>2</td>\n",
       "    </tr>\n",
       "    <tr>\n",
       "      <th>24</th>\n",
       "      <td>OAK</td>\n",
       "      <td>2</td>\n",
       "      <td>278.0</td>\n",
       "      <td>38</td>\n",
       "      <td>95</td>\n",
       "      <td>417</td>\n",
       "      <td>52</td>\n",
       "      <td>2</td>\n",
       "      <td>0</td>\n",
       "      <td>4</td>\n",
       "    </tr>\n",
       "    <tr>\n",
       "      <th>31</th>\n",
       "      <td>WAS</td>\n",
       "      <td>6</td>\n",
       "      <td>275.0</td>\n",
       "      <td>8</td>\n",
       "      <td>83</td>\n",
       "      <td>394</td>\n",
       "      <td>71</td>\n",
       "      <td>7</td>\n",
       "      <td>0</td>\n",
       "      <td>0</td>\n",
       "    </tr>\n",
       "    <tr>\n",
       "      <th>3</th>\n",
       "      <td>BUF</td>\n",
       "      <td>5</td>\n",
       "      <td>253.0</td>\n",
       "      <td>30</td>\n",
       "      <td>100</td>\n",
       "      <td>341</td>\n",
       "      <td>70</td>\n",
       "      <td>8</td>\n",
       "      <td>0</td>\n",
       "      <td>1</td>\n",
       "    </tr>\n",
       "    <tr>\n",
       "      <th>14</th>\n",
       "      <td>JAX</td>\n",
       "      <td>5</td>\n",
       "      <td>232.0</td>\n",
       "      <td>32</td>\n",
       "      <td>57</td>\n",
       "      <td>485</td>\n",
       "      <td>20</td>\n",
       "      <td>1</td>\n",
       "      <td>0</td>\n",
       "      <td>2</td>\n",
       "    </tr>\n",
       "    <tr>\n",
       "      <th>0</th>\n",
       "      <td>ARI</td>\n",
       "      <td>4</td>\n",
       "      <td>225.0</td>\n",
       "      <td>15</td>\n",
       "      <td>111</td>\n",
       "      <td>382</td>\n",
       "      <td>40</td>\n",
       "      <td>5</td>\n",
       "      <td>0</td>\n",
       "      <td>1</td>\n",
       "    </tr>\n",
       "  </tbody>\n",
       "</table>\n",
       "</div>"
      ],
      "text/plain": [
       "   team  wins  score  I_FORM  SINGLEBACK  SHOTGUN  EMPTY  PISTOL  WILDCAT  \\\n",
       "16   LA    12  524.0       4         218      271    113       6        0   \n",
       "15   KC    12  524.0       9          49      448     77      11        0   \n",
       "21   NO    12  483.0      34         109      297     99       4        6   \n",
       "20   NE    11  433.0      61         107      343     96       3        1   \n",
       "26  PIT     9  421.0       9          45      484    189       3        0   \n",
       "5   CHI    12  421.0      14          30      419     71       7        1   \n",
       "13  IND     9  416.0       9          74      503     87       5        1   \n",
       "1   ATL     6  392.0      63         153      339    108       3        0   \n",
       "12  HOU    10  389.0       8          80      345    125       4       20   \n",
       "17  LAC    11  389.0      31          93      300     78       3        0   \n",
       "27  SEA     7  388.0      30          70      312     36       2        0   \n",
       "29   TB     5  386.0      48          97      484     55       3        0   \n",
       "2   BAL    10  376.0      25          52      363     91      65        5   \n",
       "11   GB     5  361.0      33          89      512     47      13        0   \n",
       "4   CAR     6  360.0      21          42      438     80      12        0   \n",
       "6   CIN     5  358.0      10          95      420     60       6        0   \n",
       "25  PHI     9  357.0       1          79      508     64       4        0   \n",
       "22  NYG     6  351.0      53          89      450     43       5        0   \n",
       "7   CLE     6  350.0      30          80      402     97      15        1   \n",
       "23  NYJ     4  333.0      16          90      365     92       1        0   \n",
       "8   DAL     7  327.0      31          75      416     72       3        0   \n",
       "19  MIN     7  323.0      27         101      435     47       7        0   \n",
       "10  DET     7  321.0      18          73      495     42       5        0   \n",
       "28   SF     3  306.0     114          89      254     95      10        0   \n",
       "18  MIA     5  303.0      17          85      351     63       4        0   \n",
       "9   DEN     4  289.0      47          86      360     99       0        0   \n",
       "30  TEN     9  282.0      29          94      294     49      24        1   \n",
       "24  OAK     2  278.0      38          95      417     52       2        0   \n",
       "31  WAS     6  275.0       8          83      394     71       7        0   \n",
       "3   BUF     5  253.0      30         100      341     70       8        0   \n",
       "14  JAX     5  232.0      32          57      485     20       1        0   \n",
       "0   ARI     4  225.0      15         111      382     40       5        0   \n",
       "\n",
       "    JUMBO  \n",
       "16      0  \n",
       "15      0  \n",
       "21      4  \n",
       "20      1  \n",
       "26      3  \n",
       "5       1  \n",
       "13      3  \n",
       "1       0  \n",
       "12      0  \n",
       "17      1  \n",
       "27      2  \n",
       "29      1  \n",
       "2       1  \n",
       "11      4  \n",
       "4       6  \n",
       "6       4  \n",
       "25      1  \n",
       "22      2  \n",
       "7       3  \n",
       "23      0  \n",
       "8       1  \n",
       "19      1  \n",
       "10      0  \n",
       "28      1  \n",
       "18      0  \n",
       "9       1  \n",
       "30      2  \n",
       "24      4  \n",
       "31      0  \n",
       "3       1  \n",
       "14      2  \n",
       "0       1  "
      ]
     },
     "execution_count": 8,
     "metadata": {},
     "output_type": "execute_result"
    }
   ],
   "source": [
    "df_teams.sort_values(by='score', ascending=False)"
   ]
  },
  {
   "cell_type": "markdown",
   "metadata": {
    "papermill": {
     "duration": 0.054946,
     "end_time": "2020-12-23T07:27:23.418012",
     "exception": false,
     "start_time": "2020-12-23T07:27:23.363066",
     "status": "completed"
    },
    "tags": []
   },
   "source": [
    "with that data you can have a basic understanding what to expect from team.\n",
    " And i want to go deeper into Exploratory Data Analysis of defence team composition"
   ]
  },
  {
   "cell_type": "markdown",
   "metadata": {
    "papermill": {
     "duration": 0.059968,
     "end_time": "2020-12-23T07:27:23.546599",
     "exception": false,
     "start_time": "2020-12-23T07:27:23.486631",
     "status": "completed"
    },
    "tags": []
   },
   "source": [
    "<a id=\"two\"></a>\n",
    "# Exploratory Data Analysis of defence team composition"
   ]
  },
  {
   "cell_type": "code",
   "execution_count": 9,
   "metadata": {
    "execution": {
     "iopub.execute_input": "2020-12-23T07:27:23.660638Z",
     "iopub.status.busy": "2020-12-23T07:27:23.659597Z",
     "iopub.status.idle": "2020-12-23T07:27:23.680615Z",
     "shell.execute_reply": "2020-12-23T07:27:23.681171Z"
    },
    "papermill": {
     "duration": 0.077964,
     "end_time": "2020-12-23T07:27:23.681331",
     "exception": false,
     "start_time": "2020-12-23T07:27:23.603367",
     "status": "completed"
    },
    "tags": []
   },
   "outputs": [],
   "source": [
    "df_offence_persd = df_plays.groupby('offenseFormation')['personnelD'].value_counts()\n",
    "df_offence_defbox = df_plays.groupby('offenseFormation')['defendersInTheBox'].value_counts()"
   ]
  },
  {
   "cell_type": "markdown",
   "metadata": {
    "papermill": {
     "duration": 0.05368,
     "end_time": "2020-12-23T07:27:23.788145",
     "exception": false,
     "start_time": "2020-12-23T07:27:23.734465",
     "status": "completed"
    },
    "tags": []
   },
   "source": [
    "**defence against EMPTY fromation**"
   ]
  },
  {
   "cell_type": "code",
   "execution_count": 10,
   "metadata": {
    "execution": {
     "iopub.execute_input": "2020-12-23T07:27:23.900486Z",
     "iopub.status.busy": "2020-12-23T07:27:23.899453Z",
     "iopub.status.idle": "2020-12-23T07:27:23.911536Z",
     "shell.execute_reply": "2020-12-23T07:27:23.912041Z"
    },
    "papermill": {
     "duration": 0.069023,
     "end_time": "2020-12-23T07:27:23.912203",
     "exception": false,
     "start_time": "2020-12-23T07:27:23.843180",
     "status": "completed"
    },
    "tags": []
   },
   "outputs": [
    {
     "data": {
      "text/plain": [
       "(personnelD\n",
       " 4 DL, 2 LB, 5 DB    939\n",
       " 3 DL, 3 LB, 5 DB    368\n",
       " 2 DL, 4 LB, 5 DB    257\n",
       " 4 DL, 3 LB, 4 DB    223\n",
       " 4 DL, 1 LB, 6 DB    154\n",
       " 3 DL, 2 LB, 6 DB    142\n",
       " 2 DL, 3 LB, 6 DB    132\n",
       " Name: personnelD, dtype: int64,\n",
       " defendersInTheBox\n",
       " 5.0    1014\n",
       " 6.0     867\n",
       " 4.0     374\n",
       " 7.0     140\n",
       " Name: defendersInTheBox, dtype: int64)"
      ]
     },
     "execution_count": 10,
     "metadata": {},
     "output_type": "execute_result"
    }
   ],
   "source": [
    "df_offence_persd['EMPTY'].head(7),df_offence_defbox['EMPTY'].sort_values(ascending=False).head(4)"
   ]
  },
  {
   "cell_type": "markdown",
   "metadata": {
    "papermill": {
     "duration": 0.053613,
     "end_time": "2020-12-23T07:27:24.021516",
     "exception": false,
     "start_time": "2020-12-23T07:27:23.967903",
     "status": "completed"
    },
    "tags": []
   },
   "source": [
    "if you facing offence formation and happend to have no idea what defence pattern is more preferable.\n",
    "Use this data to begin with. Also helps to get the idea what defence pattern you could be facing otherwise"
   ]
  },
  {
   "cell_type": "markdown",
   "metadata": {
    "papermill": {
     "duration": 0.053821,
     "end_time": "2020-12-23T07:27:24.129344",
     "exception": false,
     "start_time": "2020-12-23T07:27:24.075523",
     "status": "completed"
    },
    "tags": []
   },
   "source": [
    "**defence against I_FORM formation**"
   ]
  },
  {
   "cell_type": "code",
   "execution_count": 11,
   "metadata": {
    "execution": {
     "iopub.execute_input": "2020-12-23T07:27:24.246885Z",
     "iopub.status.busy": "2020-12-23T07:27:24.245946Z",
     "iopub.status.idle": "2020-12-23T07:27:24.250965Z",
     "shell.execute_reply": "2020-12-23T07:27:24.250291Z"
    },
    "papermill": {
     "duration": 0.067388,
     "end_time": "2020-12-23T07:27:24.251078",
     "exception": false,
     "start_time": "2020-12-23T07:27:24.183690",
     "status": "completed"
    },
    "tags": []
   },
   "outputs": [
    {
     "data": {
      "text/plain": [
       "(personnelD\n",
       " 4 DL, 3 LB, 4 DB    514\n",
       " 3 DL, 4 LB, 4 DB    150\n",
       " 4 DL, 2 LB, 5 DB    119\n",
       " 3 DL, 3 LB, 5 DB     51\n",
       " 2 DL, 4 LB, 5 DB     30\n",
       " 5 DL, 2 LB, 4 DB     28\n",
       " Name: personnelD, dtype: int64,\n",
       " defendersInTheBox\n",
       " 7.0    467\n",
       " 8.0    275\n",
       " 6.0    135\n",
       " 9.0     24\n",
       " 5.0     12\n",
       " Name: defendersInTheBox, dtype: int64)"
      ]
     },
     "execution_count": 11,
     "metadata": {},
     "output_type": "execute_result"
    }
   ],
   "source": [
    "df_offence_persd['I_FORM'].head(6),df_offence_defbox['I_FORM'].sort_values(ascending=False).head(5)"
   ]
  },
  {
   "cell_type": "markdown",
   "metadata": {
    "papermill": {
     "duration": 0.055548,
     "end_time": "2020-12-23T07:27:24.361175",
     "exception": false,
     "start_time": "2020-12-23T07:27:24.305627",
     "status": "completed"
    },
    "tags": []
   },
   "source": [
    "**defence against SINGLEBACK formation**"
   ]
  },
  {
   "cell_type": "code",
   "execution_count": 12,
   "metadata": {
    "execution": {
     "iopub.execute_input": "2020-12-23T07:27:24.482594Z",
     "iopub.status.busy": "2020-12-23T07:27:24.481558Z",
     "iopub.status.idle": "2020-12-23T07:27:24.487455Z",
     "shell.execute_reply": "2020-12-23T07:27:24.486747Z"
    },
    "papermill": {
     "duration": 0.07203,
     "end_time": "2020-12-23T07:27:24.487572",
     "exception": false,
     "start_time": "2020-12-23T07:27:24.415542",
     "status": "completed"
    },
    "tags": []
   },
   "outputs": [
    {
     "data": {
      "text/plain": [
       "(personnelD\n",
       " 4 DL, 2 LB, 5 DB    891\n",
       " 4 DL, 3 LB, 4 DB    869\n",
       " 3 DL, 3 LB, 5 DB    346\n",
       " 2 DL, 4 LB, 5 DB    285\n",
       " 3 DL, 4 LB, 4 DB    260\n",
       " Name: personnelD, dtype: int64,\n",
       " defendersInTheBox\n",
       " 7.0    1319\n",
       " 6.0     865\n",
       " 8.0     501\n",
       " 5.0      61\n",
       " 9.0      36\n",
       " Name: defendersInTheBox, dtype: int64)"
      ]
     },
     "execution_count": 12,
     "metadata": {},
     "output_type": "execute_result"
    }
   ],
   "source": [
    "df_offence_persd['SINGLEBACK'].head(5),df_offence_defbox['SINGLEBACK'].sort_values(ascending=False).head(5)"
   ]
  },
  {
   "cell_type": "markdown",
   "metadata": {
    "papermill": {
     "duration": 0.058741,
     "end_time": "2020-12-23T07:27:24.604673",
     "exception": false,
     "start_time": "2020-12-23T07:27:24.545932",
     "status": "completed"
    },
    "tags": []
   },
   "source": [
    "**defence against SHOTGUN formation**"
   ]
  },
  {
   "cell_type": "code",
   "execution_count": 13,
   "metadata": {
    "execution": {
     "iopub.execute_input": "2020-12-23T07:27:24.734516Z",
     "iopub.status.busy": "2020-12-23T07:27:24.733534Z",
     "iopub.status.idle": "2020-12-23T07:27:24.738153Z",
     "shell.execute_reply": "2020-12-23T07:27:24.738741Z"
    },
    "papermill": {
     "duration": 0.075762,
     "end_time": "2020-12-23T07:27:24.738917",
     "exception": false,
     "start_time": "2020-12-23T07:27:24.663155",
     "status": "completed"
    },
    "tags": []
   },
   "outputs": [
    {
     "data": {
      "text/plain": [
       "(personnelD\n",
       " 4 DL, 2 LB, 5 DB    4571\n",
       " 3 DL, 3 LB, 5 DB    2289\n",
       " 2 DL, 4 LB, 5 DB    1508\n",
       " 3 DL, 2 LB, 6 DB     870\n",
       " 4 DL, 1 LB, 6 DB     867\n",
       " 4 DL, 3 LB, 4 DB     724\n",
       " 2 DL, 3 LB, 6 DB     719\n",
       " Name: personnelD, dtype: int64,\n",
       " defendersInTheBox\n",
       " 6.0    6809\n",
       " 7.0    2364\n",
       " 5.0    2314\n",
       " 4.0     767\n",
       " 8.0     243\n",
       " Name: defendersInTheBox, dtype: int64)"
      ]
     },
     "execution_count": 13,
     "metadata": {},
     "output_type": "execute_result"
    }
   ],
   "source": [
    "df_offence_persd['SHOTGUN'].head(7),df_offence_defbox['SHOTGUN'].sort_values(ascending=False).head(5)"
   ]
  },
  {
   "cell_type": "markdown",
   "metadata": {
    "papermill": {
     "duration": 0.058652,
     "end_time": "2020-12-23T07:27:24.857803",
     "exception": false,
     "start_time": "2020-12-23T07:27:24.799151",
     "status": "completed"
    },
    "tags": []
   },
   "source": [
    "**defence against PISTOL formation**"
   ]
  },
  {
   "cell_type": "code",
   "execution_count": 14,
   "metadata": {
    "execution": {
     "iopub.execute_input": "2020-12-23T07:27:24.985187Z",
     "iopub.status.busy": "2020-12-23T07:27:24.984314Z",
     "iopub.status.idle": "2020-12-23T07:27:24.993854Z",
     "shell.execute_reply": "2020-12-23T07:27:24.993199Z"
    },
    "papermill": {
     "duration": 0.076553,
     "end_time": "2020-12-23T07:27:24.994005",
     "exception": false,
     "start_time": "2020-12-23T07:27:24.917452",
     "status": "completed"
    },
    "tags": []
   },
   "outputs": [
    {
     "data": {
      "text/plain": [
       "(personnelD\n",
       " 4 DL, 2 LB, 5 DB    85\n",
       " 4 DL, 3 LB, 4 DB    61\n",
       " 3 DL, 3 LB, 5 DB    33\n",
       " 4 DL, 1 LB, 6 DB    23\n",
       " 2 DL, 4 LB, 5 DB    19\n",
       " 3 DL, 4 LB, 4 DB    14\n",
       " 3 DL, 2 LB, 6 DB     8\n",
       " Name: personnelD, dtype: int64,\n",
       " defendersInTheBox\n",
       " 6.0    102\n",
       " 7.0     93\n",
       " 8.0     27\n",
       " 5.0     23\n",
       " Name: defendersInTheBox, dtype: int64)"
      ]
     },
     "execution_count": 14,
     "metadata": {},
     "output_type": "execute_result"
    }
   ],
   "source": [
    "df_offence_persd['PISTOL'].head(7),df_offence_defbox['PISTOL'].sort_values(ascending=False).head(4)"
   ]
  },
  {
   "cell_type": "markdown",
   "metadata": {
    "papermill": {
     "duration": 0.059175,
     "end_time": "2020-12-23T07:27:25.113677",
     "exception": false,
     "start_time": "2020-12-23T07:27:25.054502",
     "status": "completed"
    },
    "tags": []
   },
   "source": [
    "**defence against WILDCAT formation**"
   ]
  },
  {
   "cell_type": "code",
   "execution_count": 15,
   "metadata": {
    "execution": {
     "iopub.execute_input": "2020-12-23T07:27:25.242851Z",
     "iopub.status.busy": "2020-12-23T07:27:25.241775Z",
     "iopub.status.idle": "2020-12-23T07:27:25.249644Z",
     "shell.execute_reply": "2020-12-23T07:27:25.249053Z"
    },
    "papermill": {
     "duration": 0.076377,
     "end_time": "2020-12-23T07:27:25.249769",
     "exception": false,
     "start_time": "2020-12-23T07:27:25.173392",
     "status": "completed"
    },
    "tags": []
   },
   "outputs": [
    {
     "data": {
      "text/plain": [
       "(personnelD\n",
       " 4 DL, 2 LB, 5 DB    16\n",
       " 4 DL, 1 LB, 6 DB     7\n",
       " 4 DL, 3 LB, 4 DB     6\n",
       " 2 DL, 4 LB, 5 DB     3\n",
       " Name: personnelD, dtype: int64,\n",
       " defendersInTheBox\n",
       " 6.0    17\n",
       " 7.0     9\n",
       " 5.0     9\n",
       " Name: defendersInTheBox, dtype: int64)"
      ]
     },
     "execution_count": 15,
     "metadata": {},
     "output_type": "execute_result"
    }
   ],
   "source": [
    "df_offence_persd['WILDCAT'].head(4),df_offence_defbox['WILDCAT'].sort_values(ascending=False).head(3)"
   ]
  },
  {
   "cell_type": "markdown",
   "metadata": {
    "papermill": {
     "duration": 0.059476,
     "end_time": "2020-12-23T07:27:25.369070",
     "exception": false,
     "start_time": "2020-12-23T07:27:25.309594",
     "status": "completed"
    },
    "tags": []
   },
   "source": [
    "**defence against JUMBO formation**"
   ]
  },
  {
   "cell_type": "code",
   "execution_count": 16,
   "metadata": {
    "execution": {
     "iopub.execute_input": "2020-12-23T07:27:25.501045Z",
     "iopub.status.busy": "2020-12-23T07:27:25.500259Z",
     "iopub.status.idle": "2020-12-23T07:27:25.504595Z",
     "shell.execute_reply": "2020-12-23T07:27:25.504033Z"
    },
    "papermill": {
     "duration": 0.076097,
     "end_time": "2020-12-23T07:27:25.504718",
     "exception": false,
     "start_time": "2020-12-23T07:27:25.428621",
     "status": "completed"
    },
    "tags": []
   },
   "outputs": [
    {
     "data": {
      "text/plain": [
       "(personnelD\n",
       " 5 DL, 3 LB, 3 DB          9\n",
       " 6 DL, 4 LB, 1 DB          9\n",
       " 6 DL, 3 LB, 2 DB          8\n",
       " 4 DL, 4 LB, 3 DB          7\n",
       " 4 DL, 3 LB, 4 DB          5\n",
       " 4 DL, 5 LB, 2 DB          4\n",
       " 6 DL, 2 LB, 3 DB          3\n",
       " 5 DL, 3 LB, 2 DB, 1 OL    2\n",
       " Name: personnelD, dtype: int64,\n",
       " defendersInTheBox\n",
       " 10.0    24\n",
       " 11.0    14\n",
       " 9.0      6\n",
       " 8.0      6\n",
       " Name: defendersInTheBox, dtype: int64)"
      ]
     },
     "execution_count": 16,
     "metadata": {},
     "output_type": "execute_result"
    }
   ],
   "source": [
    "df_offence_persd['JUMBO'].head(8),df_offence_defbox['JUMBO'].sort_values(ascending=False).head(4)"
   ]
  },
  {
   "cell_type": "markdown",
   "metadata": {
    "papermill": {
     "duration": 0.057919,
     "end_time": "2020-12-23T07:27:25.620036",
     "exception": false,
     "start_time": "2020-12-23T07:27:25.562117",
     "status": "completed"
    },
    "tags": []
   },
   "source": [
    "<a id=\"three\"></a>\n",
    "# Most popular offence formations and team composition"
   ]
  },
  {
   "cell_type": "code",
   "execution_count": 17,
   "metadata": {
    "execution": {
     "iopub.execute_input": "2020-12-23T07:27:25.747448Z",
     "iopub.status.busy": "2020-12-23T07:27:25.746636Z",
     "iopub.status.idle": "2020-12-23T07:27:25.979719Z",
     "shell.execute_reply": "2020-12-23T07:27:25.980306Z"
    },
    "papermill": {
     "duration": 0.303073,
     "end_time": "2020-12-23T07:27:25.980450",
     "exception": false,
     "start_time": "2020-12-23T07:27:25.677377",
     "status": "completed"
    },
    "tags": []
   },
   "outputs": [
    {
     "data": {
      "text/plain": [
       "<matplotlib.axes._subplots.AxesSubplot at 0x7f43fdf87050>"
      ]
     },
     "execution_count": 17,
     "metadata": {},
     "output_type": "execute_result"
    },
    {
     "data": {
      "image/png": "[encoded data removed]",
      "text/plain": [
       "<Figure size 432x288 with 1 Axes>"
      ]
     },
     "metadata": {
      "needs_background": "light"
     },
     "output_type": "display_data"
    }
   ],
   "source": [
    "df_formation_counts = df_plays.offenseFormation.value_counts().to_frame()\n",
    "df_formation_counts.plot(kind='bar',title='Offence Formations')"
   ]
  },
  {
   "cell_type": "code",
   "execution_count": 18,
   "metadata": {
    "execution": {
     "iopub.execute_input": "2020-12-23T07:27:26.102052Z",
     "iopub.status.busy": "2020-12-23T07:27:26.101019Z",
     "iopub.status.idle": "2020-12-23T07:27:26.119981Z",
     "shell.execute_reply": "2020-12-23T07:27:26.120544Z"
    },
    "papermill": {
     "duration": 0.082127,
     "end_time": "2020-12-23T07:27:26.120695",
     "exception": false,
     "start_time": "2020-12-23T07:27:26.038568",
     "status": "completed"
    },
    "tags": []
   },
   "outputs": [],
   "source": [
    "df_offence_perso = df_plays.groupby('offenseFormation')['personnelO'].value_counts()\n",
    "df_offence_rushers = df_plays.groupby('offenseFormation')['numberOfPassRushers'].value_counts()"
   ]
  },
  {
   "cell_type": "markdown",
   "metadata": {
    "papermill": {
     "duration": 0.058787,
     "end_time": "2020-12-23T07:27:26.238317",
     "exception": false,
     "start_time": "2020-12-23T07:27:26.179530",
     "status": "completed"
    },
    "tags": []
   },
   "source": [
    "**recommended team composition with I_FORM formation**"
   ]
  },
  {
   "cell_type": "code",
   "execution_count": 19,
   "metadata": {
    "execution": {
     "iopub.execute_input": "2020-12-23T07:27:26.364305Z",
     "iopub.status.busy": "2020-12-23T07:27:26.363229Z",
     "iopub.status.idle": "2020-12-23T07:27:26.371645Z",
     "shell.execute_reply": "2020-12-23T07:27:26.372181Z"
    },
    "papermill": {
     "duration": 0.074522,
     "end_time": "2020-12-23T07:27:26.372326",
     "exception": false,
     "start_time": "2020-12-23T07:27:26.297804",
     "status": "completed"
    },
    "tags": []
   },
   "outputs": [
    {
     "data": {
      "text/plain": [
       "(personnelO\n",
       " 2 RB, 1 TE, 2 WR          450\n",
       " 1 RB, 2 TE, 2 WR          166\n",
       " 2 RB, 2 TE, 1 WR           91\n",
       " 1 RB, 1 TE, 3 WR           86\n",
       " 1 RB, 3 TE, 1 WR           51\n",
       " 2 RB, 0 TE, 3 WR           26\n",
       " 6 OL, 2 RB, 1 TE, 1 WR     10\n",
       " Name: personnelO, dtype: int64,\n",
       " numberOfPassRushers\n",
       " 4.0    478\n",
       " 5.0    235\n",
       " 6.0     83\n",
       " 3.0     54\n",
       " 7.0     21\n",
       " 2.0     11\n",
       " Name: numberOfPassRushers, dtype: int64)"
      ]
     },
     "execution_count": 19,
     "metadata": {},
     "output_type": "execute_result"
    }
   ],
   "source": [
    "df_offence_perso['I_FORM'].head(7),df_offence_rushers['I_FORM'].sort_values(ascending=False).head(6)"
   ]
  },
  {
   "cell_type": "markdown",
   "metadata": {
    "papermill": {
     "duration": 0.060214,
     "end_time": "2020-12-23T07:27:26.492793",
     "exception": false,
     "start_time": "2020-12-23T07:27:26.432579",
     "status": "completed"
    },
    "tags": []
   },
   "source": [
    "**recommended team composition with SINGLEBACK formation**"
   ]
  },
  {
   "cell_type": "code",
   "execution_count": 20,
   "metadata": {
    "execution": {
     "iopub.execute_input": "2020-12-23T07:27:26.622284Z",
     "iopub.status.busy": "2020-12-23T07:27:26.621532Z",
     "iopub.status.idle": "2020-12-23T07:27:26.625555Z",
     "shell.execute_reply": "2020-12-23T07:27:26.624928Z"
    },
    "papermill": {
     "duration": 0.072996,
     "end_time": "2020-12-23T07:27:26.625662",
     "exception": false,
     "start_time": "2020-12-23T07:27:26.552666",
     "status": "completed"
    },
    "tags": []
   },
   "outputs": [
    {
     "data": {
      "text/plain": [
       "(personnelO\n",
       " 1 RB, 1 TE, 3 WR          1267\n",
       " 1 RB, 2 TE, 2 WR          1046\n",
       " 1 RB, 3 TE, 1 WR           183\n",
       " 6 OL, 1 RB, 1 TE, 2 WR      86\n",
       " 2 RB, 1 TE, 2 WR            81\n",
       " Name: personnelO, dtype: int64,\n",
       " numberOfPassRushers\n",
       " 4.0    1470\n",
       " 5.0     612\n",
       " 6.0     245\n",
       " 3.0     234\n",
       " 7.0      77\n",
       " Name: numberOfPassRushers, dtype: int64)"
      ]
     },
     "execution_count": 20,
     "metadata": {},
     "output_type": "execute_result"
    }
   ],
   "source": [
    "df_offence_perso['SINGLEBACK'].head(5),df_offence_rushers['SINGLEBACK'].sort_values(ascending=False).head(5)"
   ]
  },
  {
   "cell_type": "markdown",
   "metadata": {
    "papermill": {
     "duration": 0.05902,
     "end_time": "2020-12-23T07:27:26.744135",
     "exception": false,
     "start_time": "2020-12-23T07:27:26.685115",
     "status": "completed"
    },
    "tags": []
   },
   "source": [
    "**recommended team composition with SHOTGUN formation**"
   ]
  },
  {
   "cell_type": "code",
   "execution_count": 21,
   "metadata": {
    "execution": {
     "iopub.execute_input": "2020-12-23T07:27:26.874263Z",
     "iopub.status.busy": "2020-12-23T07:27:26.873583Z",
     "iopub.status.idle": "2020-12-23T07:27:26.876283Z",
     "shell.execute_reply": "2020-12-23T07:27:26.876741Z"
    },
    "papermill": {
     "duration": 0.072164,
     "end_time": "2020-12-23T07:27:26.876905",
     "exception": false,
     "start_time": "2020-12-23T07:27:26.804741",
     "status": "completed"
    },
    "tags": []
   },
   "outputs": [
    {
     "data": {
      "text/plain": [
       "(personnelO\n",
       " 1 RB, 1 TE, 3 WR    10505\n",
       " 1 RB, 2 TE, 2 WR     1148\n",
       " 2 RB, 1 TE, 2 WR      411\n",
       " 1 RB, 0 TE, 4 WR      214\n",
       " 2 RB, 0 TE, 3 WR      100\n",
       " Name: personnelO, dtype: int64,\n",
       " numberOfPassRushers\n",
       " 4.0    7904\n",
       " 5.0    2312\n",
       " 3.0     935\n",
       " 6.0     723\n",
       " 2.0     169\n",
       " 7.0     118\n",
       " Name: numberOfPassRushers, dtype: int64)"
      ]
     },
     "execution_count": 21,
     "metadata": {},
     "output_type": "execute_result"
    }
   ],
   "source": [
    "df_offence_perso['SHOTGUN'].head(5),df_offence_rushers['SHOTGUN'].sort_values(ascending=False).head(6)"
   ]
  },
  {
   "cell_type": "markdown",
   "metadata": {
    "papermill": {
     "duration": 0.05958,
     "end_time": "2020-12-23T07:27:26.996867",
     "exception": false,
     "start_time": "2020-12-23T07:27:26.937287",
     "status": "completed"
    },
    "tags": []
   },
   "source": [
    "**recommended team composition with EMPTY formation**"
   ]
  },
  {
   "cell_type": "code",
   "execution_count": 22,
   "metadata": {
    "execution": {
     "iopub.execute_input": "2020-12-23T07:27:27.121714Z",
     "iopub.status.busy": "2020-12-23T07:27:27.121031Z",
     "iopub.status.idle": "2020-12-23T07:27:27.129194Z",
     "shell.execute_reply": "2020-12-23T07:27:27.129764Z"
    },
    "papermill": {
     "duration": 0.071941,
     "end_time": "2020-12-23T07:27:27.129941",
     "exception": false,
     "start_time": "2020-12-23T07:27:27.058000",
     "status": "completed"
    },
    "tags": []
   },
   "outputs": [
    {
     "data": {
      "text/plain": [
       "(personnelO\n",
       " 1 RB, 1 TE, 3 WR    1652\n",
       " 1 RB, 2 TE, 2 WR     291\n",
       " 0 RB, 1 TE, 4 WR     142\n",
       " 2 RB, 1 TE, 2 WR     122\n",
       " 1 RB, 3 TE, 1 WR      66\n",
       " 1 RB, 0 TE, 4 WR      53\n",
       " Name: personnelO, dtype: int64,\n",
       " numberOfPassRushers\n",
       " 4.0    1509\n",
       " 5.0     419\n",
       " 3.0     341\n",
       " 6.0      54\n",
       " 2.0      17\n",
       " Name: numberOfPassRushers, dtype: int64)"
      ]
     },
     "execution_count": 22,
     "metadata": {},
     "output_type": "execute_result"
    }
   ],
   "source": [
    "df_offence_perso['EMPTY'].head(6),df_offence_rushers['EMPTY'].sort_values(ascending=False).head(5)"
   ]
  },
  {
   "cell_type": "markdown",
   "metadata": {
    "papermill": {
     "duration": 0.060563,
     "end_time": "2020-12-23T07:27:27.251085",
     "exception": false,
     "start_time": "2020-12-23T07:27:27.190522",
     "status": "completed"
    },
    "tags": []
   },
   "source": [
    "**recommended team composition with PISTOL formation**"
   ]
  },
  {
   "cell_type": "code",
   "execution_count": 23,
   "metadata": {
    "execution": {
     "iopub.execute_input": "2020-12-23T07:27:27.381415Z",
     "iopub.status.busy": "2020-12-23T07:27:27.380676Z",
     "iopub.status.idle": "2020-12-23T07:27:27.389246Z",
     "shell.execute_reply": "2020-12-23T07:27:27.389746Z"
    },
    "papermill": {
     "duration": 0.073261,
     "end_time": "2020-12-23T07:27:27.389922",
     "exception": false,
     "start_time": "2020-12-23T07:27:27.316661",
     "status": "completed"
    },
    "tags": []
   },
   "outputs": [
    {
     "data": {
      "text/plain": [
       "(personnelO\n",
       " 1 RB, 1 TE, 3 WR    124\n",
       " 1 RB, 2 TE, 2 WR     76\n",
       " 2 RB, 1 TE, 2 WR     19\n",
       " 1 RB, 3 TE, 1 WR     13\n",
       " Name: personnelO, dtype: int64,\n",
       " numberOfPassRushers\n",
       " 4.0    134\n",
       " 5.0     53\n",
       " 3.0     25\n",
       " 6.0     15\n",
       " Name: numberOfPassRushers, dtype: int64)"
      ]
     },
     "execution_count": 23,
     "metadata": {},
     "output_type": "execute_result"
    }
   ],
   "source": [
    "df_offence_perso['PISTOL'].head(4),df_offence_rushers['PISTOL'].sort_values(ascending=False).head(4)"
   ]
  },
  {
   "cell_type": "markdown",
   "metadata": {
    "papermill": {
     "duration": 0.063372,
     "end_time": "2020-12-23T07:27:27.515421",
     "exception": false,
     "start_time": "2020-12-23T07:27:27.452049",
     "status": "completed"
    },
    "tags": []
   },
   "source": [
    "**recommended team composition with WILDCAT formation**"
   ]
  },
  {
   "cell_type": "code",
   "execution_count": 24,
   "metadata": {
    "execution": {
     "iopub.execute_input": "2020-12-23T07:27:27.643674Z",
     "iopub.status.busy": "2020-12-23T07:27:27.642939Z",
     "iopub.status.idle": "2020-12-23T07:27:27.652743Z",
     "shell.execute_reply": "2020-12-23T07:27:27.652035Z"
    },
    "papermill": {
     "duration": 0.074837,
     "end_time": "2020-12-23T07:27:27.652875",
     "exception": false,
     "start_time": "2020-12-23T07:27:27.578038",
     "status": "completed"
    },
    "tags": []
   },
   "outputs": [
    {
     "data": {
      "text/plain": [
       "(personnelO\n",
       " 2 QB, 1 RB, 1 TE, 2 WR    28\n",
       " 2 QB, 1 RB, 2 TE, 1 WR     3\n",
       " 1 RB, 2 TE, 2 WR           2\n",
       " 2 QB, 0 RB, 1 TE, 3 WR     2\n",
       " 1 RB, 1 TE, 3 WR           1\n",
       " Name: personnelO, dtype: int64,\n",
       " numberOfPassRushers\n",
       " 4.0    21\n",
       " 3.0     6\n",
       " 5.0     4\n",
       " Name: numberOfPassRushers, dtype: int64)"
      ]
     },
     "execution_count": 24,
     "metadata": {},
     "output_type": "execute_result"
    }
   ],
   "source": [
    "df_offence_perso['WILDCAT'],df_offence_rushers['WILDCAT'].sort_values(ascending=False).head(3)"
   ]
  },
  {
   "cell_type": "markdown",
   "metadata": {
    "papermill": {
     "duration": 0.061032,
     "end_time": "2020-12-23T07:27:27.775817",
     "exception": false,
     "start_time": "2020-12-23T07:27:27.714785",
     "status": "completed"
    },
    "tags": []
   },
   "source": [
    "**recommended team composition with JUMBO formation**"
   ]
  },
  {
   "cell_type": "code",
   "execution_count": 25,
   "metadata": {
    "execution": {
     "iopub.execute_input": "2020-12-23T07:27:27.911038Z",
     "iopub.status.busy": "2020-12-23T07:27:27.910065Z",
     "iopub.status.idle": "2020-12-23T07:27:27.913755Z",
     "shell.execute_reply": "2020-12-23T07:27:27.914270Z"
    },
    "papermill": {
     "duration": 0.075873,
     "end_time": "2020-12-23T07:27:27.914412",
     "exception": false,
     "start_time": "2020-12-23T07:27:27.838539",
     "status": "completed"
    },
    "tags": []
   },
   "outputs": [
    {
     "data": {
      "text/plain": [
       "(personnelO\n",
       " 6 OL, 2 RB, 2 TE, 0 WR         18\n",
       " 6 OL, 1 RB, 3 TE, 0 WR          8\n",
       " 2 RB, 3 TE, 0 WR                7\n",
       " 1 RB, 4 TE, 0 WR                5\n",
       " 1 RB, 3 TE, 1 WR                4\n",
       " 6 OL, 1 RB, 2 TE, 0 WR,1 DL     4\n",
       " 6 OL, 2 RB, 1 TE, 0 WR,1 DL     3\n",
       " Name: personnelO, dtype: int64,\n",
       " numberOfPassRushers\n",
       " 6.0    15\n",
       " 7.0    13\n",
       " 5.0     8\n",
       " 8.0     7\n",
       " Name: numberOfPassRushers, dtype: int64)"
      ]
     },
     "execution_count": 25,
     "metadata": {},
     "output_type": "execute_result"
    }
   ],
   "source": [
    "df_offence_perso['JUMBO'].head(7),df_offence_rushers['JUMBO'].sort_values(ascending=False).head(4)"
   ]
  },
  {
   "cell_type": "markdown",
   "metadata": {
    "papermill": {
     "duration": 0.062499,
     "end_time": "2020-12-23T07:27:28.039008",
     "exception": false,
     "start_time": "2020-12-23T07:27:27.976509",
     "status": "completed"
    },
    "tags": []
   },
   "source": [
    "We have a data about dropbacks, it's literally asking to be plotted"
   ]
  },
  {
   "cell_type": "markdown",
   "metadata": {
    "papermill": {
     "duration": 0.061799,
     "end_time": "2020-12-23T07:27:28.165121",
     "exception": false,
     "start_time": "2020-12-23T07:27:28.103322",
     "status": "completed"
    },
    "tags": []
   },
   "source": [
    "<a id=\"four\"></a>\n",
    "# Dropbacks and penalties"
   ]
  },
  {
   "cell_type": "code",
   "execution_count": 26,
   "metadata": {
    "execution": {
     "iopub.execute_input": "2020-12-23T07:27:28.309740Z",
     "iopub.status.busy": "2020-12-23T07:27:28.308965Z",
     "iopub.status.idle": "2020-12-23T07:27:28.311999Z",
     "shell.execute_reply": "2020-12-23T07:27:28.312567Z"
    },
    "papermill": {
     "duration": 0.083371,
     "end_time": "2020-12-23T07:27:28.312722",
     "exception": false,
     "start_time": "2020-12-23T07:27:28.229351",
     "status": "completed"
    },
    "tags": []
   },
   "outputs": [],
   "source": [
    "    df_dropback = df_plays.typeDropback.value_counts().reset_index()"
   ]
  },
  {
   "cell_type": "code",
   "execution_count": 27,
   "metadata": {
    "execution": {
     "iopub.execute_input": "2020-12-23T07:27:28.442756Z",
     "iopub.status.busy": "2020-12-23T07:27:28.442037Z",
     "iopub.status.idle": "2020-12-23T07:27:28.678472Z",
     "shell.execute_reply": "2020-12-23T07:27:28.679011Z"
    },
    "papermill": {
     "duration": 0.303916,
     "end_time": "2020-12-23T07:27:28.679156",
     "exception": false,
     "start_time": "2020-12-23T07:27:28.375240",
     "status": "completed"
    },
    "tags": []
   },
   "outputs": [
    {
     "data": {
      "text/plain": [
       "Text(0.5, 1.0, 'dropback type')"
      ]
     },
     "execution_count": 27,
     "metadata": {},
     "output_type": "execute_result"
    },
    {
     "data": {
      "image/png": "[encoded data removed]",
      "text/plain": [
       "<Figure size 360x360 with 1 Axes>"
      ]
     },
     "metadata": {
      "needs_background": "light"
     },
     "output_type": "display_data"
    }
   ],
   "source": [
    "sns.catplot(data=df_dropback,x='typeDropback',y='index',kind='bar',palette=\"viridis\")\n",
    "plt.title('dropback type')"
   ]
  },
  {
   "cell_type": "code",
   "execution_count": 28,
   "metadata": {
    "execution": {
     "iopub.execute_input": "2020-12-23T07:27:28.820782Z",
     "iopub.status.busy": "2020-12-23T07:27:28.819961Z",
     "iopub.status.idle": "2020-12-23T07:27:29.138199Z",
     "shell.execute_reply": "2020-12-23T07:27:29.137612Z"
    },
    "papermill": {
     "duration": 0.394717,
     "end_time": "2020-12-23T07:27:29.138336",
     "exception": false,
     "start_time": "2020-12-23T07:27:28.743619",
     "status": "completed"
    },
    "tags": []
   },
   "outputs": [
    {
     "data": {
      "text/plain": [
       "Text(0.5, 1.0, 'top penalties')"
      ]
     },
     "execution_count": 28,
     "metadata": {},
     "output_type": "execute_result"
    },
    {
     "data": {
      "image/png": "[encoded data removed]",
      "text/plain": [
       "<Figure size 360x360 with 1 Axes>"
      ]
     },
     "metadata": {
      "needs_background": "light"
     },
     "output_type": "display_data"
    }
   ],
   "source": [
    "df_penalties = df_plays.penaltyCodes.value_counts().head(10).reset_index()\n",
    "sns.catplot(data=df_penalties,x='penaltyCodes',y='index',kind='bar',palette=\"magma\")\n",
    "plt.title('top penalties')"
   ]
  },
  {
   "cell_type": "markdown",
   "metadata": {
    "papermill": {
     "duration": 0.065921,
     "end_time": "2020-12-23T07:27:29.271605",
     "exception": false,
     "start_time": "2020-12-23T07:27:29.205684",
     "status": "completed"
    },
    "tags": []
   },
   "source": [
    "<a id=\"five\"></a>\n",
    "# DETAILED PLAY ANALYSIS"
   ]
  },
  {
   "cell_type": "markdown",
   "metadata": {
    "papermill": {
     "duration": 0.070811,
     "end_time": "2020-12-23T07:27:29.409050",
     "exception": false,
     "start_time": "2020-12-23T07:27:29.338239",
     "status": "completed"
    },
    "tags": []
   },
   "source": [
    "<a id=\"six\"></a>\n",
    "# Plotting a play\n",
    "lets finally take a look at play"
   ]
  },
  {
   "cell_type": "code",
   "execution_count": 29,
   "metadata": {
    "execution": {
     "iopub.execute_input": "2020-12-23T07:27:29.552134Z",
     "iopub.status.busy": "2020-12-23T07:27:29.550942Z",
     "iopub.status.idle": "2020-12-23T07:27:29.554895Z",
     "shell.execute_reply": "2020-12-23T07:27:29.554321Z"
    },
    "papermill": {
     "duration": 0.078797,
     "end_time": "2020-12-23T07:27:29.555030",
     "exception": false,
     "start_time": "2020-12-23T07:27:29.476233",
     "status": "completed"
    },
    "tags": []
   },
   "outputs": [],
   "source": [
    "def get_teams(players):\n",
    "    away_team = []\n",
    "    home_team = []\n",
    "    for k,v in players.index:\n",
    "        if k == 'away':\n",
    "            away_team.append(v)\n",
    "        elif k == 'home':\n",
    "            home_team.append(v)\n",
    "        else:\n",
    "            pass\n",
    "    return away_team,home_team"
   ]
  },
  {
   "cell_type": "code",
   "execution_count": 30,
   "metadata": {
    "execution": {
     "iopub.execute_input": "2020-12-23T07:27:29.709445Z",
     "iopub.status.busy": "2020-12-23T07:27:29.704642Z",
     "iopub.status.idle": "2020-12-23T07:27:29.713234Z",
     "shell.execute_reply": "2020-12-23T07:27:29.712634Z"
    },
    "papermill": {
     "duration": 0.0897,
     "end_time": "2020-12-23T07:27:29.713358",
     "exception": false,
     "start_time": "2020-12-23T07:27:29.623658",
     "status": "completed"
    },
    "tags": []
   },
   "outputs": [],
   "source": [
    "def plot_play(gameid,playid,df_week):\n",
    "    players = df_week[(df_week.playId == playid) & (df_week.gameId == gameid)].groupby('team')['nflId'].value_counts()\n",
    "    away_team,home_team = get_teams(players)\n",
    "    plt.figure(figsize=(12,6))\n",
    "    plt.xlim(0,120)\n",
    "    plt.ylim(0,53.3)\n",
    "    for at in away_team:\n",
    "        df = pd.DataFrame(df_week[(df_week.playId == playid) & (df_week.gameId == gameid) & (df_week.nflId == at)]['x'])\n",
    "        df['y'] = df_week[(df_week.playId == playid) & (df_week.gameId == gameid) & (df_week.nflId == at)]['y']\n",
    "        df.reset_index()\n",
    "        plt.scatter(df.iloc[0]['x'],df.iloc[0]['y'],c='r')\n",
    "        plt.plot('x','y',data=df,c='r')\n",
    "    for ht in home_team:\n",
    "        df = pd.DataFrame(df_week[(df_week.playId == playid) & (df_week.gameId == gameid) & (df_week.nflId == ht)]['x'])\n",
    "        df['y'] = df_week[(df_week.playId == playid) & (df_week.gameId == gameid) & (df_week.nflId == ht)]['y']\n",
    "        df.reset_index()\n",
    "        plt.scatter(df.iloc[0]['x'],df.iloc[0]['y'],c='b')\n",
    "        plt.plot('x','y',data=df,c='b')\n",
    "    dfball = pd.DataFrame(df_week[(df_week.playId == playid) & (df_week.gameId == gameid) & (df_week.displayName == 'Football')]['x'])\n",
    "    dfball['y'] = df_week[(df_week.playId == playid) & (df_week.gameId == gameid) & (df_week.displayName == 'Football')]['y']\n",
    "    dfball.reset_index()\n",
    "    plt.scatter(dfball.iloc[0]['x'],dfball.iloc[0]['y'],c='g')\n",
    "    plt.plot('x','y',data=dfball,c='g',alpha=0.8,ls='dashed')\n",
    "    plt.show()"
   ]
  },
  {
   "cell_type": "code",
   "execution_count": 31,
   "metadata": {
    "execution": {
     "iopub.execute_input": "2020-12-23T07:27:29.852441Z",
     "iopub.status.busy": "2020-12-23T07:27:29.851535Z",
     "iopub.status.idle": "2020-12-23T07:27:30.561529Z",
     "shell.execute_reply": "2020-12-23T07:27:30.560963Z"
    },
    "papermill": {
     "duration": 0.781906,
     "end_time": "2020-12-23T07:27:30.561669",
     "exception": false,
     "start_time": "2020-12-23T07:27:29.779763",
     "status": "completed"
    },
    "tags": []
   },
   "outputs": [
    {
     "data": {
      "image/png": "[encoded data removed]",
      "text/plain": [
       "<Figure size 864x432 with 1 Axes>"
      ]
     },
     "metadata": {
      "needs_background": "light"
     },
     "output_type": "display_data"
    }
   ],
   "source": [
    "plot_play(2018090909,2430,df_week1)"
   ]
  },
  {
   "cell_type": "markdown",
   "metadata": {
    "papermill": {
     "duration": 0.06615,
     "end_time": "2020-12-23T07:27:30.695694",
     "exception": false,
     "start_time": "2020-12-23T07:27:30.629544",
     "status": "completed"
    },
    "tags": []
   },
   "source": [
    "dot's are starting positions.\n",
    "Green line is a ball, red\\blue are players from the opposite teams"
   ]
  },
  {
   "cell_type": "markdown",
   "metadata": {
    "papermill": {
     "duration": 0.067426,
     "end_time": "2020-12-23T07:27:30.831101",
     "exception": false,
     "start_time": "2020-12-23T07:27:30.763675",
     "status": "completed"
    },
    "tags": []
   },
   "source": [
    "For an another task submission, i've picked up an algorithm , which can predict defence pass interference"
   ]
  },
  {
   "cell_type": "markdown",
   "metadata": {
    "papermill": {
     "duration": 0.066681,
     "end_time": "2020-12-23T07:27:30.964346",
     "exception": false,
     "start_time": "2020-12-23T07:27:30.897665",
     "status": "completed"
    },
    "tags": []
   },
   "source": [
    "<a id=\"seven\"></a>\n",
    "# Defence Pass Interference"
   ]
  },
  {
   "cell_type": "markdown",
   "metadata": {
    "papermill": {
     "duration": 0.066786,
     "end_time": "2020-12-23T07:27:31.100961",
     "exception": false,
     "start_time": "2020-12-23T07:27:31.034175",
     "status": "completed"
    },
    "tags": []
   },
   "source": [
    "we need prepare the data first. DPI occures with at least 2 players , \n",
    "\n",
    "to predict that kind of penalty i want to transform every pair of players,\n",
    "\n",
    "in the oppisite teams, into vectorized distance as a features.\n",
    "\n",
    "i will also use distance to a ball ."
   ]
  },
  {
   "cell_type": "markdown",
   "metadata": {
    "papermill": {
     "duration": 0.066513,
     "end_time": "2020-12-23T07:27:31.235588",
     "exception": false,
     "start_time": "2020-12-23T07:27:31.169075",
     "status": "completed"
    },
    "tags": []
   },
   "source": [
    "**DPI PRIME EXAMPLE**"
   ]
  },
  {
   "cell_type": "code",
   "execution_count": 32,
   "metadata": {
    "execution": {
     "iopub.execute_input": "2020-12-23T07:27:31.375603Z",
     "iopub.status.busy": "2020-12-23T07:27:31.374791Z",
     "iopub.status.idle": "2020-12-23T07:27:36.513497Z",
     "shell.execute_reply": "2020-12-23T07:27:36.514123Z"
    },
    "papermill": {
     "duration": 5.211895,
     "end_time": "2020-12-23T07:27:36.514286",
     "exception": false,
     "start_time": "2020-12-23T07:27:31.302391",
     "status": "completed"
    },
    "tags": []
   },
   "outputs": [],
   "source": [
    "df_week16 = pd.read_csv(path/'week16.csv')"
   ]
  },
  {
   "cell_type": "code",
   "execution_count": 33,
   "metadata": {
    "execution": {
     "iopub.execute_input": "2020-12-23T07:27:36.658026Z",
     "iopub.status.busy": "2020-12-23T07:27:36.656601Z",
     "iopub.status.idle": "2020-12-23T07:27:37.468074Z",
     "shell.execute_reply": "2020-12-23T07:27:37.467292Z"
    },
    "papermill": {
     "duration": 0.88543,
     "end_time": "2020-12-23T07:27:37.468195",
     "exception": false,
     "start_time": "2020-12-23T07:27:36.582765",
     "status": "completed"
    },
    "tags": []
   },
   "outputs": [
    {
     "data": {
      "image/png": "[encoded data removed]",
      "text/plain": [
       "<Figure size 864x432 with 1 Axes>"
      ]
     },
     "metadata": {
      "needs_background": "light"
     },
     "output_type": "display_data"
    }
   ],
   "source": [
    "df_plays.iloc[19237].playDescription\n",
    "plot_play(2018122201,1719,df_week16)"
   ]
  },
  {
   "cell_type": "code",
   "execution_count": 34,
   "metadata": {
    "_kg_hide-input": false,
    "execution": {
     "iopub.execute_input": "2020-12-23T07:27:37.635813Z",
     "iopub.status.busy": "2020-12-23T07:27:37.634529Z",
     "iopub.status.idle": "2020-12-23T07:27:38.893957Z",
     "shell.execute_reply": "2020-12-23T07:27:38.893249Z"
    },
    "papermill": {
     "duration": 1.354339,
     "end_time": "2020-12-23T07:27:38.894074",
     "exception": false,
     "start_time": "2020-12-23T07:27:37.539735",
     "status": "completed"
    },
    "tags": []
   },
   "outputs": [
    {
     "data": {
      "text/plain": [
       "[<matplotlib.lines.Line2D at 0x7f43fa27cd10>]"
      ]
     },
     "execution_count": 34,
     "metadata": {},
     "output_type": "execute_result"
    },
    {
     "data": {
      "image/png": "[encoded data removed]",
      "text/plain": [
       "<Figure size 864x432 with 1 Axes>"
      ]
     },
     "metadata": {
      "needs_background": "light"
     },
     "output_type": "display_data"
    }
   ],
   "source": [
    "plt.figure(figsize=(12,6))\n",
    "plt.xlim(67.5,77.5)\n",
    "plt.ylim(17.5,27.5)\n",
    "#\n",
    "df1 = pd.DataFrame(df_week16[(df_week16.gameId == 2018122201) & (df_week16.playId == 1719) & (df_week16.displayName == 'Keenan Allen') & (df_week16.frameId > 35) & (df_week16.frameId < 40)]['x'])\n",
    "df1['y'] = df_week16[(df_week16.gameId == 2018122201) & (df_week16.playId == 1719) & (df_week16.displayName == 'Keenan Allen') & (df_week16.frameId > 35) & (df_week16.frameId < 40)]['y']\n",
    "df1.reset_index()\n",
    "plt.scatter(df1.iloc[0]['x'],df1.iloc[0]['y'],c='b')\n",
    "plt.plot('x','y',data=df1,c='b')\n",
    "#\n",
    "df2 = pd.DataFrame(df_week16[(df_week16.gameId == 2018122201) & (df_week16.playId == 1719) & (df_week16.displayName == 'Tony Jefferson') & (df_week16.frameId > 35) & (df_week16.frameId < 40)]['x'])\n",
    "df2['y'] = df_week16[(df_week16.gameId == 2018122201) & (df_week16.playId == 1719) & (df_week16.displayName == 'Tony Jefferson') & (df_week16.frameId > 35) & (df_week16.frameId < 40)]['y']\n",
    "df2.reset_index()\n",
    "plt.scatter(df2.iloc[0]['x'],df2.iloc[0]['y'],c='r')\n",
    "plt.plot('x','y',data=df2,c='r')\n",
    "#\n",
    "dfb = pd.DataFrame(df_week16[(df_week16.gameId == 2018122201) & (df_week16.playId == 1719) & (df_week16.displayName == 'Football') & (df_week16.frameId > 35) & (df_week16.frameId < 40)]['x'])\n",
    "dfb['y'] = df_week16[(df_week16.gameId == 2018122201) & (df_week16.playId == 1719) & (df_week16.displayName == 'Football') & (df_week16.frameId > 35) & (df_week16.frameId < 40)]['y']\n",
    "dfb.reset_index()\n",
    "plt.scatter(dfb.iloc[0]['x'],dfb.iloc[0]['y'],c='g')\n",
    "plt.plot('x','y',data=dfb,c='g',alpha=0.8,ls='dashed')"
   ]
  },
  {
   "cell_type": "markdown",
   "metadata": {
    "papermill": {
     "duration": 0.07313,
     "end_time": "2020-12-23T07:27:39.039534",
     "exception": false,
     "start_time": "2020-12-23T07:27:38.966404",
     "status": "completed"
    },
    "tags": []
   },
   "source": [
    "so this is how pre-DPI situation looks like.\n",
    "\n",
    "pass receiver is slowing to catch a ball, tackler is moving at high speed towards him or with him.\n",
    "\n",
    "ball is moving at high speed in close proximity.\n",
    "\n",
    "that generally should be a sign for an algorithm that DPI could be there."
   ]
  },
  {
   "cell_type": "markdown",
   "metadata": {
    "papermill": {
     "duration": 0.069868,
     "end_time": "2020-12-23T07:27:39.180070",
     "exception": false,
     "start_time": "2020-12-23T07:27:39.110202",
     "status": "completed"
    },
    "tags": []
   },
   "source": [
    "<a id=\"eight\"></a>\n",
    "# DATA PREPARATION"
   ]
  },
  {
   "cell_type": "markdown",
   "metadata": {
    "papermill": {
     "duration": 0.071662,
     "end_time": "2020-12-23T07:27:39.322580",
     "exception": false,
     "start_time": "2020-12-23T07:27:39.250918",
     "status": "completed"
    },
    "tags": []
   },
   "source": [
    "this is made for demonstration purpose , and i want to work with one week only due to computqation\\time limits.\n",
    "\n",
    "But that should be enough to get the idea"
   ]
  },
  {
   "cell_type": "code",
   "execution_count": 35,
   "metadata": {
    "execution": {
     "iopub.execute_input": "2020-12-23T07:27:39.482953Z",
     "iopub.status.busy": "2020-12-23T07:27:39.473142Z",
     "iopub.status.idle": "2020-12-23T07:27:39.496902Z",
     "shell.execute_reply": "2020-12-23T07:27:39.496150Z"
    },
    "papermill": {
     "duration": 0.103072,
     "end_time": "2020-12-23T07:27:39.497044",
     "exception": false,
     "start_time": "2020-12-23T07:27:39.393972",
     "status": "completed"
    },
    "tags": []
   },
   "outputs": [],
   "source": [
    "# getting full list of games and plays with DPI\n",
    "df_week1_plays_ = pd.DataFrame(df_plays[df_plays.penaltyCodes == 'DPI'].groupby('gameId')['playId'].unique())"
   ]
  },
  {
   "cell_type": "code",
   "execution_count": 36,
   "metadata": {
    "execution": {
     "iopub.execute_input": "2020-12-23T07:27:39.652171Z",
     "iopub.status.busy": "2020-12-23T07:27:39.651145Z",
     "iopub.status.idle": "2020-12-23T07:27:39.660562Z",
     "shell.execute_reply": "2020-12-23T07:27:39.661273Z"
    },
    "papermill": {
     "duration": 0.09235,
     "end_time": "2020-12-23T07:27:39.661449",
     "exception": false,
     "start_time": "2020-12-23T07:27:39.569099",
     "status": "completed"
    },
    "tags": []
   },
   "outputs": [],
   "source": [
    "unique_games_week1 = df_week1.gameId.unique()"
   ]
  },
  {
   "cell_type": "code",
   "execution_count": 37,
   "metadata": {
    "execution": {
     "iopub.execute_input": "2020-12-23T07:27:39.815431Z",
     "iopub.status.busy": "2020-12-23T07:27:39.814551Z",
     "iopub.status.idle": "2020-12-23T07:27:39.819691Z",
     "shell.execute_reply": "2020-12-23T07:27:39.818962Z"
    },
    "papermill": {
     "duration": 0.08625,
     "end_time": "2020-12-23T07:27:39.819814",
     "exception": false,
     "start_time": "2020-12-23T07:27:39.733564",
     "status": "completed"
    },
    "tags": []
   },
   "outputs": [],
   "source": [
    "#i need a function to filter last names of players, don't see other way to get them in a case i query the data\n",
    "def last_name_filter(desc):\n",
    "    result = []\n",
    "    result_2 = []\n",
    "    str1 = str(desc)\n",
    "    re1 = re.compile(r'([A-Z]([a-z]+)?\\.[A-Z][a-z]+)')\n",
    "    s1 = re1.findall(str1)\n",
    "    for f in s1[1:]:\n",
    "        str2 = str(f)\n",
    "        re2 = re.compile(r'(\\.[A-Z][a-z]+)')\n",
    "        s2 = re2.findall(str2)\n",
    "        result.append(s2[0])\n",
    "    for d in result:\n",
    "        re3 = re.compile(r'([A-Z][a-z]+)')\n",
    "        str3 = str(d)\n",
    "        s3 = re3.findall(str3)\n",
    "        result_2.append(s3[0])\n",
    "    return result_2"
   ]
  },
  {
   "cell_type": "markdown",
   "metadata": {
    "papermill": {
     "duration": 0.069969,
     "end_time": "2020-12-23T07:27:39.960248",
     "exception": false,
     "start_time": "2020-12-23T07:27:39.890279",
     "status": "completed"
    },
    "tags": []
   },
   "source": [
    "**creating dataframe for the DPI data**"
   ]
  },
  {
   "cell_type": "code",
   "execution_count": 38,
   "metadata": {
    "execution": {
     "iopub.execute_input": "2020-12-23T07:27:40.113678Z",
     "iopub.status.busy": "2020-12-23T07:27:40.112866Z",
     "iopub.status.idle": "2020-12-23T07:27:40.116237Z",
     "shell.execute_reply": "2020-12-23T07:27:40.116711Z"
    },
    "papermill": {
     "duration": 0.084298,
     "end_time": "2020-12-23T07:27:40.116886",
     "exception": false,
     "start_time": "2020-12-23T07:27:40.032588",
     "status": "completed"
    },
    "tags": []
   },
   "outputs": [],
   "source": [
    "df_dpi = pd.DataFrame(columns=['p1p2x','p1p2y','p1bx','p1by','p2bx','p2by','pl1speed','pl2speed','bspeed','dpi'])"
   ]
  },
  {
   "cell_type": "markdown",
   "metadata": {
    "papermill": {
     "duration": 0.071447,
     "end_time": "2020-12-23T07:27:40.258972",
     "exception": false,
     "start_time": "2020-12-23T07:27:40.187525",
     "status": "completed"
    },
    "tags": []
   },
   "source": [
    "* 'p1p2x' - distance between players by X\n",
    "* 'p1p2y' - distance between players by y\n",
    "* 'p1bx'  - distance between player 1 and a ball by X\n",
    "* 'p1by'  - distance between player 1 and a ball by y\n",
    "* 'p2bx'  - distance between player 2 and a ball by X\n",
    "* 'p2by'  - distance between player 2 and a ball by y\n",
    "* 'pl1speed' - speed of player1\n",
    "* 'pl2speed' - speed of player2\n",
    "* 'bspeed'   - speed of the ball\n",
    "* 'dpi'      - dpi occurrence"
   ]
  },
  {
   "cell_type": "code",
   "execution_count": 39,
   "metadata": {
    "_kg_hide-input": false,
    "execution": {
     "iopub.execute_input": "2020-12-23T07:27:40.414467Z",
     "iopub.status.busy": "2020-12-23T07:27:40.408906Z",
     "iopub.status.idle": "2020-12-23T07:27:40.436699Z",
     "shell.execute_reply": "2020-12-23T07:27:40.436150Z"
    },
    "papermill": {
     "duration": 0.10718,
     "end_time": "2020-12-23T07:27:40.436821",
     "exception": false,
     "start_time": "2020-12-23T07:27:40.329641",
     "status": "completed"
    },
    "tags": []
   },
   "outputs": [],
   "source": [
    "#creating main function to query data with DPI\n",
    "#finding 'pass outcome incomplete' frame id\n",
    "#we need just last 3-5 frames before that (feel free to experiment with more\\less frames tho)\n",
    "def dpi_positive(game_id_dpi):\n",
    "    global df_dpi\n",
    "    try:\n",
    "        play_dpi_id_list = df_week1_plays_.loc[game_id_dpi]['playId']\n",
    "        for k in play_dpi_id_list:\n",
    "            play_dpi_id = int(k)\n",
    "            frameId_num = df_week1[(df_week1.gameId == game_id_dpi) & (df_week1.playId == play_dpi_id) & (df_week1.event == 'pass_outcome_incomplete')].frameId.mean()\n",
    "            description = df_plays[(df_plays.gameId == game_id_dpi) & (df_plays.playId == play_dpi_id) & (df_plays.penaltyCodes == 'DPI')]['playDescription'].values\n",
    "            lnf = last_name_filter(description)\n",
    "            if len(lnf) < 2 or len(lnf) > 2:\n",
    "                pass\n",
    "            pl1x = df_week1[(df_week1.gameId == game_id_dpi) & (df_week1.playId == play_dpi_id) & (df_week1.displayName.str.endswith(lnf[0])) & (df_week1.frameId > (frameId_num-4)) & (df_week1.frameId < frameId_num)]['x'].mean()\n",
    "            pl1y = df_week1[(df_week1.gameId == game_id_dpi) & (df_week1.playId == play_dpi_id) & (df_week1.displayName.str.endswith(lnf[0])) & (df_week1.frameId > (frameId_num-4)) & (df_week1.frameId < frameId_num)]['y'].mean()\n",
    "            pl1speed = df_week1[(df_week1.gameId == game_id_dpi) & (df_week1.playId == play_dpi_id) & (df_week1.displayName.str.endswith(lnf[0])) & (df_week1.frameId > (frameId_num-4)) & (df_week1.frameId < frameId_num)]['s'].mean()\n",
    "            pl2x = df_week1[(df_week1.gameId == game_id_dpi) & (df_week1.playId == play_dpi_id) & (df_week1.displayName.str.endswith(lnf[1])) & (df_week1.frameId > (frameId_num-4)) & (df_week1.frameId < frameId_num)]['x'].mean()\n",
    "            pl2y = df_week1[(df_week1.gameId == game_id_dpi) & (df_week1.playId == play_dpi_id) & (df_week1.displayName.str.endswith(lnf[1])) & (df_week1.frameId > (frameId_num-4)) & (df_week1.frameId < frameId_num)]['y'].mean()\n",
    "            pl2speed = df_week1[(df_week1.gameId == game_id_dpi) & (df_week1.playId == play_dpi_id) & (df_week1.displayName.str.endswith(lnf[1])) & (df_week1.frameId > (frameId_num-4)) & (df_week1.frameId < frameId_num)]['s'].mean()\n",
    "            bx = df_week1[(df_week1.gameId == game_id_dpi) & (df_week1.playId == play_dpi_id) & (df_week1.displayName.str.endswith('Football')) & (df_week1.frameId > (frameId_num-4)) & (df_week1.frameId < frameId_num)]['x'].mean()\n",
    "            by = df_week1[(df_week1.gameId == game_id_dpi) & (df_week1.playId == play_dpi_id) & (df_week1.displayName.str.endswith('Football')) & (df_week1.frameId > (frameId_num-4)) & (df_week1.frameId < frameId_num)]['y'].mean()\n",
    "            bspeed = df_week1[(df_week1.gameId == game_id_dpi) & (df_week1.playId == play_dpi_id) & (df_week1.displayName.str.endswith('Football')) & (df_week1.frameId > (frameId_num-4)) & (df_week1.frameId < frameId_num)]['s'].mean()\n",
    "            p1p2x = abs(pl1x - pl2x)\n",
    "            p1p2y = abs(pl1y - pl2y)\n",
    "            p1bx = abs(pl1x - bx)\n",
    "            p1by = abs(pl1y - by)\n",
    "            p2bx = abs(pl2x - bx)\n",
    "            p2by = abs(pl2y - by)\n",
    "            dpi = 1\n",
    "            new_row = {'p1p2x':p1p2x,'p1p2y':p1p2y,'p1bx':p1bx,'p1by':p1by,'p2bx':p2bx,'p2by':p2by,'pl1speed':pl1speed,'pl2speed':pl2speed,'bspeed':bspeed,'dpi':dpi}\n",
    "            df_dpi = df_dpi.append(new_row,ignore_index=True)\n",
    "    except:\n",
    "        pass"
   ]
  },
  {
   "cell_type": "markdown",
   "metadata": {
    "papermill": {
     "duration": 0.073952,
     "end_time": "2020-12-23T07:27:40.582508",
     "exception": false,
     "start_time": "2020-12-23T07:27:40.508556",
     "status": "completed"
    },
    "tags": []
   },
   "source": [
    "**FILLING DATAFRAME**"
   ]
  },
  {
   "cell_type": "code",
   "execution_count": 40,
   "metadata": {
    "execution": {
     "iopub.execute_input": "2020-12-23T07:27:40.734483Z",
     "iopub.status.busy": "2020-12-23T07:27:40.733482Z",
     "iopub.status.idle": "2020-12-23T07:28:48.413856Z",
     "shell.execute_reply": "2020-12-23T07:28:48.414416Z"
    },
    "papermill": {
     "duration": 67.75993,
     "end_time": "2020-12-23T07:28:48.414571",
     "exception": false,
     "start_time": "2020-12-23T07:27:40.654641",
     "status": "completed"
    },
    "tags": []
   },
   "outputs": [],
   "source": [
    "for game in unique_games_week1:\n",
    "    dpi_positive(game)"
   ]
  },
  {
   "cell_type": "code",
   "execution_count": 41,
   "metadata": {
    "execution": {
     "iopub.execute_input": "2020-12-23T07:28:48.567411Z",
     "iopub.status.busy": "2020-12-23T07:28:48.566291Z",
     "iopub.status.idle": "2020-12-23T07:28:48.572767Z",
     "shell.execute_reply": "2020-12-23T07:28:48.573390Z"
    },
    "papermill": {
     "duration": 0.087337,
     "end_time": "2020-12-23T07:28:48.573543",
     "exception": false,
     "start_time": "2020-12-23T07:28:48.486206",
     "status": "completed"
    },
    "tags": []
   },
   "outputs": [],
   "source": [
    "df_dpi.drop(df_dpi.index[14:],inplace=True)"
   ]
  },
  {
   "cell_type": "code",
   "execution_count": 42,
   "metadata": {
    "execution": {
     "iopub.execute_input": "2020-12-23T07:28:48.722101Z",
     "iopub.status.busy": "2020-12-23T07:28:48.721095Z",
     "iopub.status.idle": "2020-12-23T07:28:48.739241Z",
     "shell.execute_reply": "2020-12-23T07:28:48.738244Z"
    },
    "papermill": {
     "duration": 0.092575,
     "end_time": "2020-12-23T07:28:48.739402",
     "exception": false,
     "start_time": "2020-12-23T07:28:48.646827",
     "status": "completed"
    },
    "tags": []
   },
   "outputs": [
    {
     "data": {
      "text/html": [
       "<div>\n",
       "<style scoped>\n",
       "    .dataframe tbody tr th:only-of-type {\n",
       "        vertical-align: middle;\n",
       "    }\n",
       "\n",
       "    .dataframe tbody tr th {\n",
       "        vertical-align: top;\n",
       "    }\n",
       "\n",
       "    .dataframe thead th {\n",
       "        text-align: right;\n",
       "    }\n",
       "</style>\n",
       "<table border=\"1\" class=\"dataframe\">\n",
       "  <thead>\n",
       "    <tr style=\"text-align: right;\">\n",
       "      <th></th>\n",
       "      <th>p1p2x</th>\n",
       "      <th>p1p2y</th>\n",
       "      <th>p1bx</th>\n",
       "      <th>p1by</th>\n",
       "      <th>p2bx</th>\n",
       "      <th>p2by</th>\n",
       "      <th>pl1speed</th>\n",
       "      <th>pl2speed</th>\n",
       "      <th>bspeed</th>\n",
       "      <th>dpi</th>\n",
       "    </tr>\n",
       "  </thead>\n",
       "  <tbody>\n",
       "    <tr>\n",
       "      <th>2</th>\n",
       "      <td>1.106667</td>\n",
       "      <td>0.040000</td>\n",
       "      <td>2.636667</td>\n",
       "      <td>2.390000</td>\n",
       "      <td>1.530000</td>\n",
       "      <td>2.350000</td>\n",
       "      <td>5.746667</td>\n",
       "      <td>6.186667</td>\n",
       "      <td>20.560000</td>\n",
       "      <td>1.0</td>\n",
       "    </tr>\n",
       "    <tr>\n",
       "      <th>12</th>\n",
       "      <td>0.833333</td>\n",
       "      <td>0.086667</td>\n",
       "      <td>1.866667</td>\n",
       "      <td>0.896667</td>\n",
       "      <td>2.700000</td>\n",
       "      <td>0.983333</td>\n",
       "      <td>5.456667</td>\n",
       "      <td>5.456667</td>\n",
       "      <td>8.316667</td>\n",
       "      <td>1.0</td>\n",
       "    </tr>\n",
       "    <tr>\n",
       "      <th>7</th>\n",
       "      <td>0.166667</td>\n",
       "      <td>1.323333</td>\n",
       "      <td>1.736667</td>\n",
       "      <td>2.596667</td>\n",
       "      <td>1.903333</td>\n",
       "      <td>3.920000</td>\n",
       "      <td>6.810000</td>\n",
       "      <td>5.410000</td>\n",
       "      <td>18.663333</td>\n",
       "      <td>1.0</td>\n",
       "    </tr>\n",
       "    <tr>\n",
       "      <th>8</th>\n",
       "      <td>0.953333</td>\n",
       "      <td>0.376667</td>\n",
       "      <td>1.176667</td>\n",
       "      <td>0.463333</td>\n",
       "      <td>2.130000</td>\n",
       "      <td>0.840000</td>\n",
       "      <td>8.473333</td>\n",
       "      <td>8.403333</td>\n",
       "      <td>15.710000</td>\n",
       "      <td>1.0</td>\n",
       "    </tr>\n",
       "    <tr>\n",
       "      <th>10</th>\n",
       "      <td>0.343333</td>\n",
       "      <td>0.416667</td>\n",
       "      <td>0.730000</td>\n",
       "      <td>1.693333</td>\n",
       "      <td>1.073333</td>\n",
       "      <td>2.110000</td>\n",
       "      <td>6.963333</td>\n",
       "      <td>7.596667</td>\n",
       "      <td>6.980000</td>\n",
       "      <td>1.0</td>\n",
       "    </tr>\n",
       "  </tbody>\n",
       "</table>\n",
       "</div>"
      ],
      "text/plain": [
       "       p1p2x     p1p2y      p1bx      p1by      p2bx      p2by  pl1speed  \\\n",
       "2   1.106667  0.040000  2.636667  2.390000  1.530000  2.350000  5.746667   \n",
       "12  0.833333  0.086667  1.866667  0.896667  2.700000  0.983333  5.456667   \n",
       "7   0.166667  1.323333  1.736667  2.596667  1.903333  3.920000  6.810000   \n",
       "8   0.953333  0.376667  1.176667  0.463333  2.130000  0.840000  8.473333   \n",
       "10  0.343333  0.416667  0.730000  1.693333  1.073333  2.110000  6.963333   \n",
       "\n",
       "    pl2speed     bspeed  dpi  \n",
       "2   6.186667  20.560000  1.0  \n",
       "12  5.456667   8.316667  1.0  \n",
       "7   5.410000  18.663333  1.0  \n",
       "8   8.403333  15.710000  1.0  \n",
       "10  7.596667   6.980000  1.0  "
      ]
     },
     "execution_count": 42,
     "metadata": {},
     "output_type": "execute_result"
    }
   ],
   "source": [
    "#that's our data with DPI\n",
    "df_dpi.sample(5)"
   ]
  },
  {
   "cell_type": "markdown",
   "metadata": {
    "papermill": {
     "duration": 0.070853,
     "end_time": "2020-12-23T07:28:48.883718",
     "exception": false,
     "start_time": "2020-12-23T07:28:48.812865",
     "status": "completed"
    },
    "tags": []
   },
   "source": [
    "for the sake of example i'm going to grab almost random values, but from the same games for a negative classification"
   ]
  },
  {
   "cell_type": "code",
   "execution_count": 43,
   "metadata": {
    "execution": {
     "iopub.execute_input": "2020-12-23T07:28:49.038521Z",
     "iopub.status.busy": "2020-12-23T07:28:49.037413Z",
     "iopub.status.idle": "2020-12-23T07:28:49.040883Z",
     "shell.execute_reply": "2020-12-23T07:28:49.040182Z"
    },
    "papermill": {
     "duration": 0.085312,
     "end_time": "2020-12-23T07:28:49.041010",
     "exception": false,
     "start_time": "2020-12-23T07:28:48.955698",
     "status": "completed"
    },
    "tags": []
   },
   "outputs": [],
   "source": [
    "df_dpi_NEG = pd.DataFrame(columns=['p1p2x','p1p2y','p1bx','p1by','p2bx','p2by','pl1speed','pl2speed','bspeed','dpi'])"
   ]
  },
  {
   "cell_type": "code",
   "execution_count": 44,
   "metadata": {
    "execution": {
     "iopub.execute_input": "2020-12-23T07:28:49.220051Z",
     "iopub.status.busy": "2020-12-23T07:28:49.209061Z",
     "iopub.status.idle": "2020-12-23T07:28:49.223289Z",
     "shell.execute_reply": "2020-12-23T07:28:49.222690Z"
    },
    "papermill": {
     "duration": 0.110477,
     "end_time": "2020-12-23T07:28:49.223402",
     "exception": false,
     "start_time": "2020-12-23T07:28:49.112925",
     "status": "completed"
    },
    "tags": []
   },
   "outputs": [],
   "source": [
    "def dpi_NEG(game_id_dpi):\n",
    "    global df_dpi_NEG\n",
    "    try:\n",
    "        play_dpi_id_list = df_week1_plays_.loc[game_id_dpi]['playId']\n",
    "        for k in play_dpi_id_list:\n",
    "            play_dpi_id = int(k)\n",
    "            min1 = df_week1[(df_week1.gameId == game_id_dpi) & (df_week1.playId == play_dpi_id)].frameId.min()\n",
    "            max1 = df_week1[(df_week1.gameId == game_id_dpi) & (df_week1.playId == play_dpi_id)].frameId.max()\n",
    "            frameId_num = (min1 + max1)/2\n",
    "            lnf = []\n",
    "            lnf.append(df_week1[(df_week1.gameId == game_id_dpi) & (df_week1.playId == play_dpi_id) & (df_week1.team == 'home')]['displayName'].head(1).item())\n",
    "            lnf.append(df_week1[(df_week1.gameId == game_id_dpi) & (df_week1.playId == play_dpi_id) & (df_week1.team == 'away')]['displayName'].head(1).item())\n",
    "            if len(lnf) < 2 or len(lnf) > 2:\n",
    "                pass\n",
    "            pl1x = df_week1[(df_week1.gameId == game_id_dpi) & (df_week1.playId == play_dpi_id) & (df_week1.displayName.str.endswith(lnf[0])) & (df_week1.frameId > (frameId_num-4)) & (df_week1.frameId < frameId_num)]['x'].mean()\n",
    "            pl1y = df_week1[(df_week1.gameId == game_id_dpi) & (df_week1.playId == play_dpi_id) & (df_week1.displayName.str.endswith(lnf[0])) & (df_week1.frameId > (frameId_num-4)) & (df_week1.frameId < frameId_num)]['y'].mean()\n",
    "            pl1speed = df_week1[(df_week1.gameId == game_id_dpi) & (df_week1.playId == play_dpi_id) & (df_week1.displayName.str.endswith(lnf[0])) & (df_week1.frameId > (frameId_num-4)) & (df_week1.frameId < frameId_num)]['s'].mean()\n",
    "            pl2x = df_week1[(df_week1.gameId == game_id_dpi) & (df_week1.playId == play_dpi_id) & (df_week1.displayName.str.endswith(lnf[1])) & (df_week1.frameId > (frameId_num-4)) & (df_week1.frameId < frameId_num)]['x'].mean()\n",
    "            pl2y = df_week1[(df_week1.gameId == game_id_dpi) & (df_week1.playId == play_dpi_id) & (df_week1.displayName.str.endswith(lnf[1])) & (df_week1.frameId > (frameId_num-4)) & (df_week1.frameId < frameId_num)]['y'].mean()\n",
    "            pl2speed = df_week1[(df_week1.gameId == game_id_dpi) & (df_week1.playId == play_dpi_id) & (df_week1.displayName.str.endswith(lnf[1])) & (df_week1.frameId > (frameId_num-4)) & (df_week1.frameId < frameId_num)]['s'].mean()\n",
    "            bx = df_week1[(df_week1.gameId == game_id_dpi) & (df_week1.playId == play_dpi_id) & (df_week1.displayName.str.endswith('Football')) & (df_week1.frameId > (frameId_num-4)) & (df_week1.frameId < frameId_num)]['x'].mean()\n",
    "            by = df_week1[(df_week1.gameId == game_id_dpi) & (df_week1.playId == play_dpi_id) & (df_week1.displayName.str.endswith('Football')) & (df_week1.frameId > (frameId_num-4)) & (df_week1.frameId < frameId_num)]['y'].mean()\n",
    "            bspeed = df_week1[(df_week1.gameId == game_id_dpi) & (df_week1.playId == play_dpi_id) & (df_week1.displayName.str.endswith('Football')) & (df_week1.frameId > (frameId_num-4)) & (df_week1.frameId < frameId_num)]['s'].mean()\n",
    "            p1p2x = abs(pl1x - pl2x)\n",
    "            p1p2y = abs(pl1y - pl2y)\n",
    "            p1bx = abs(pl1x - bx)\n",
    "            p1by = abs(pl1y - by)\n",
    "            p2bx = abs(pl2x - bx)\n",
    "            p2by = abs(pl2y - by)\n",
    "            dpi = 0\n",
    "            new_row = {'p1p2x':p1p2x,'p1p2y':p1p2y,'p1bx':p1bx,'p1by':p1by,'p2bx':p2bx,'p2by':p2by,'pl1speed':pl1speed,'pl2speed':pl2speed,'bspeed':bspeed,'dpi':dpi}\n",
    "            df_dpi_NEG = df_dpi_NEG.append(new_row,ignore_index=True)\n",
    "    except:\n",
    "        pass"
   ]
  },
  {
   "cell_type": "code",
   "execution_count": 45,
   "metadata": {
    "execution": {
     "iopub.execute_input": "2020-12-23T07:28:49.370172Z",
     "iopub.status.busy": "2020-12-23T07:28:49.369483Z",
     "iopub.status.idle": "2020-12-23T07:30:00.121249Z",
     "shell.execute_reply": "2020-12-23T07:30:00.120543Z"
    },
    "papermill": {
     "duration": 70.825977,
     "end_time": "2020-12-23T07:30:00.121382",
     "exception": false,
     "start_time": "2020-12-23T07:28:49.295405",
     "status": "completed"
    },
    "tags": []
   },
   "outputs": [],
   "source": [
    "for game in unique_games_week1:\n",
    "    dpi_NEG(game)"
   ]
  },
  {
   "cell_type": "code",
   "execution_count": 46,
   "metadata": {
    "execution": {
     "iopub.execute_input": "2020-12-23T07:30:00.282118Z",
     "iopub.status.busy": "2020-12-23T07:30:00.281041Z",
     "iopub.status.idle": "2020-12-23T07:30:00.286219Z",
     "shell.execute_reply": "2020-12-23T07:30:00.286727Z"
    },
    "papermill": {
     "duration": 0.093381,
     "end_time": "2020-12-23T07:30:00.286886",
     "exception": false,
     "start_time": "2020-12-23T07:30:00.193505",
     "status": "completed"
    },
    "tags": []
   },
   "outputs": [
    {
     "data": {
      "text/html": [
       "<div>\n",
       "<style scoped>\n",
       "    .dataframe tbody tr th:only-of-type {\n",
       "        vertical-align: middle;\n",
       "    }\n",
       "\n",
       "    .dataframe tbody tr th {\n",
       "        vertical-align: top;\n",
       "    }\n",
       "\n",
       "    .dataframe thead th {\n",
       "        text-align: right;\n",
       "    }\n",
       "</style>\n",
       "<table border=\"1\" class=\"dataframe\">\n",
       "  <thead>\n",
       "    <tr style=\"text-align: right;\">\n",
       "      <th></th>\n",
       "      <th>p1p2x</th>\n",
       "      <th>p1p2y</th>\n",
       "      <th>p1bx</th>\n",
       "      <th>p1by</th>\n",
       "      <th>p2bx</th>\n",
       "      <th>p2by</th>\n",
       "      <th>pl1speed</th>\n",
       "      <th>pl2speed</th>\n",
       "      <th>bspeed</th>\n",
       "      <th>dpi</th>\n",
       "    </tr>\n",
       "  </thead>\n",
       "  <tbody>\n",
       "    <tr>\n",
       "      <th>11</th>\n",
       "      <td>1.313333</td>\n",
       "      <td>1.8400</td>\n",
       "      <td>9.110000</td>\n",
       "      <td>12.296667</td>\n",
       "      <td>7.796667</td>\n",
       "      <td>14.136667</td>\n",
       "      <td>3.773333</td>\n",
       "      <td>5.653333</td>\n",
       "      <td>1.286667</td>\n",
       "      <td>0.0</td>\n",
       "    </tr>\n",
       "    <tr>\n",
       "      <th>2</th>\n",
       "      <td>17.615000</td>\n",
       "      <td>7.2650</td>\n",
       "      <td>0.065000</td>\n",
       "      <td>0.487500</td>\n",
       "      <td>17.680000</td>\n",
       "      <td>7.752500</td>\n",
       "      <td>2.835000</td>\n",
       "      <td>2.645000</td>\n",
       "      <td>3.560000</td>\n",
       "      <td>0.0</td>\n",
       "    </tr>\n",
       "    <tr>\n",
       "      <th>4</th>\n",
       "      <td>22.107500</td>\n",
       "      <td>8.9925</td>\n",
       "      <td>0.452500</td>\n",
       "      <td>0.287500</td>\n",
       "      <td>22.560000</td>\n",
       "      <td>8.705000</td>\n",
       "      <td>0.855000</td>\n",
       "      <td>2.750000</td>\n",
       "      <td>0.590000</td>\n",
       "      <td>0.0</td>\n",
       "    </tr>\n",
       "    <tr>\n",
       "      <th>10</th>\n",
       "      <td>0.976667</td>\n",
       "      <td>2.0400</td>\n",
       "      <td>13.983333</td>\n",
       "      <td>5.420000</td>\n",
       "      <td>14.960000</td>\n",
       "      <td>7.460000</td>\n",
       "      <td>5.786667</td>\n",
       "      <td>3.300000</td>\n",
       "      <td>0.796667</td>\n",
       "      <td>0.0</td>\n",
       "    </tr>\n",
       "    <tr>\n",
       "      <th>3</th>\n",
       "      <td>23.753333</td>\n",
       "      <td>6.7100</td>\n",
       "      <td>0.170000</td>\n",
       "      <td>0.446667</td>\n",
       "      <td>23.583333</td>\n",
       "      <td>6.263333</td>\n",
       "      <td>2.740000</td>\n",
       "      <td>2.753333</td>\n",
       "      <td>1.590000</td>\n",
       "      <td>0.0</td>\n",
       "    </tr>\n",
       "  </tbody>\n",
       "</table>\n",
       "</div>"
      ],
      "text/plain": [
       "        p1p2x   p1p2y       p1bx       p1by       p2bx       p2by  pl1speed  \\\n",
       "11   1.313333  1.8400   9.110000  12.296667   7.796667  14.136667  3.773333   \n",
       "2   17.615000  7.2650   0.065000   0.487500  17.680000   7.752500  2.835000   \n",
       "4   22.107500  8.9925   0.452500   0.287500  22.560000   8.705000  0.855000   \n",
       "10   0.976667  2.0400  13.983333   5.420000  14.960000   7.460000  5.786667   \n",
       "3   23.753333  6.7100   0.170000   0.446667  23.583333   6.263333  2.740000   \n",
       "\n",
       "    pl2speed    bspeed  dpi  \n",
       "11  5.653333  1.286667  0.0  \n",
       "2   2.645000  3.560000  0.0  \n",
       "4   2.750000  0.590000  0.0  \n",
       "10  3.300000  0.796667  0.0  \n",
       "3   2.753333  1.590000  0.0  "
      ]
     },
     "execution_count": 46,
     "metadata": {},
     "output_type": "execute_result"
    }
   ],
   "source": [
    "df_dpi_NEG.sample(5)"
   ]
  },
  {
   "cell_type": "code",
   "execution_count": 47,
   "metadata": {
    "execution": {
     "iopub.execute_input": "2020-12-23T07:30:00.437422Z",
     "iopub.status.busy": "2020-12-23T07:30:00.436721Z",
     "iopub.status.idle": "2020-12-23T07:30:00.440608Z",
     "shell.execute_reply": "2020-12-23T07:30:00.439958Z"
    },
    "papermill": {
     "duration": 0.081626,
     "end_time": "2020-12-23T07:30:00.440721",
     "exception": false,
     "start_time": "2020-12-23T07:30:00.359095",
     "status": "completed"
    },
    "tags": []
   },
   "outputs": [],
   "source": [
    "frames = [df_dpi,df_dpi_NEG]\n",
    "df = pd.concat(frames)"
   ]
  },
  {
   "cell_type": "markdown",
   "metadata": {
    "papermill": {
     "duration": 0.073136,
     "end_time": "2020-12-23T07:30:00.588707",
     "exception": false,
     "start_time": "2020-12-23T07:30:00.515571",
     "status": "completed"
    },
    "tags": []
   },
   "source": [
    "<a id=\"nine\"></a>\n",
    "# Model creation"
   ]
  },
  {
   "cell_type": "markdown",
   "metadata": {
    "papermill": {
     "duration": 0.072388,
     "end_time": "2020-12-23T07:30:00.742142",
     "exception": false,
     "start_time": "2020-12-23T07:30:00.669754",
     "status": "completed"
    },
    "tags": []
   },
   "source": [
    "**Feature scaling**"
   ]
  },
  {
   "cell_type": "code",
   "execution_count": 48,
   "metadata": {
    "execution": {
     "iopub.execute_input": "2020-12-23T07:30:00.901094Z",
     "iopub.status.busy": "2020-12-23T07:30:00.898432Z",
     "iopub.status.idle": "2020-12-23T07:30:00.904733Z",
     "shell.execute_reply": "2020-12-23T07:30:00.905256Z"
    },
    "papermill": {
     "duration": 0.089454,
     "end_time": "2020-12-23T07:30:00.905413",
     "exception": false,
     "start_time": "2020-12-23T07:30:00.815959",
     "status": "completed"
    },
    "tags": []
   },
   "outputs": [],
   "source": [
    "scaler = StandardScaler()\n",
    "df[['p1p2x','p1p2y','p1bx','p1by','p2bx','p2by','pl1speed','pl2speed','bspeed']] = scaler.fit_transform(df[['p1p2x','p1p2y','p1bx','p1by','p2bx','p2by','pl1speed','pl2speed','bspeed']])"
   ]
  },
  {
   "cell_type": "code",
   "execution_count": 49,
   "metadata": {
    "execution": {
     "iopub.execute_input": "2020-12-23T07:30:01.060125Z",
     "iopub.status.busy": "2020-12-23T07:30:01.059084Z",
     "iopub.status.idle": "2020-12-23T07:30:01.076734Z",
     "shell.execute_reply": "2020-12-23T07:30:01.076139Z"
    },
    "papermill": {
     "duration": 0.098377,
     "end_time": "2020-12-23T07:30:01.076866",
     "exception": false,
     "start_time": "2020-12-23T07:30:00.978489",
     "status": "completed"
    },
    "tags": []
   },
   "outputs": [
    {
     "data": {
      "text/html": [
       "<div>\n",
       "<style scoped>\n",
       "    .dataframe tbody tr th:only-of-type {\n",
       "        vertical-align: middle;\n",
       "    }\n",
       "\n",
       "    .dataframe tbody tr th {\n",
       "        vertical-align: top;\n",
       "    }\n",
       "\n",
       "    .dataframe thead th {\n",
       "        text-align: right;\n",
       "    }\n",
       "</style>\n",
       "<table border=\"1\" class=\"dataframe\">\n",
       "  <thead>\n",
       "    <tr style=\"text-align: right;\">\n",
       "      <th></th>\n",
       "      <th>p1p2x</th>\n",
       "      <th>p1p2y</th>\n",
       "      <th>p1bx</th>\n",
       "      <th>p1by</th>\n",
       "      <th>p2bx</th>\n",
       "      <th>p2by</th>\n",
       "      <th>pl1speed</th>\n",
       "      <th>pl2speed</th>\n",
       "      <th>bspeed</th>\n",
       "      <th>dpi</th>\n",
       "    </tr>\n",
       "  </thead>\n",
       "  <tbody>\n",
       "    <tr>\n",
       "      <th>13</th>\n",
       "      <td>1.417974</td>\n",
       "      <td>1.247679</td>\n",
       "      <td>1.862335</td>\n",
       "      <td>-0.608464</td>\n",
       "      <td>-0.121233</td>\n",
       "      <td>1.605435</td>\n",
       "      <td>-1.422578</td>\n",
       "      <td>-0.453554</td>\n",
       "      <td>-0.172773</td>\n",
       "      <td>0.0</td>\n",
       "    </tr>\n",
       "    <tr>\n",
       "      <th>1</th>\n",
       "      <td>0.045124</td>\n",
       "      <td>2.175909</td>\n",
       "      <td>1.827493</td>\n",
       "      <td>0.089238</td>\n",
       "      <td>1.230452</td>\n",
       "      <td>2.398123</td>\n",
       "      <td>-1.762362</td>\n",
       "      <td>1.068817</td>\n",
       "      <td>-0.653976</td>\n",
       "      <td>0.0</td>\n",
       "    </tr>\n",
       "    <tr>\n",
       "      <th>9</th>\n",
       "      <td>-0.621353</td>\n",
       "      <td>2.040816</td>\n",
       "      <td>0.662086</td>\n",
       "      <td>3.019804</td>\n",
       "      <td>0.520793</td>\n",
       "      <td>0.237938</td>\n",
       "      <td>0.457225</td>\n",
       "      <td>0.088256</td>\n",
       "      <td>-0.851365</td>\n",
       "      <td>0.0</td>\n",
       "    </tr>\n",
       "    <tr>\n",
       "      <th>2</th>\n",
       "      <td>-0.688940</td>\n",
       "      <td>-0.759798</td>\n",
       "      <td>-0.491707</td>\n",
       "      <td>-0.276543</td>\n",
       "      <td>-0.782788</td>\n",
       "      <td>-0.530025</td>\n",
       "      <td>0.481727</td>\n",
       "      <td>0.492907</td>\n",
       "      <td>2.176504</td>\n",
       "      <td>1.0</td>\n",
       "    </tr>\n",
       "    <tr>\n",
       "      <th>3</th>\n",
       "      <td>2.499827</td>\n",
       "      <td>0.095648</td>\n",
       "      <td>-0.788065</td>\n",
       "      <td>-0.779493</td>\n",
       "      <td>2.368287</td>\n",
       "      <td>0.152996</td>\n",
       "      <td>-0.818317</td>\n",
       "      <td>-1.068109</td>\n",
       "      <td>-0.827087</td>\n",
       "      <td>0.0</td>\n",
       "    </tr>\n",
       "  </tbody>\n",
       "</table>\n",
       "</div>"
      ],
      "text/plain": [
       "       p1p2x     p1p2y      p1bx      p1by      p2bx      p2by  pl1speed  \\\n",
       "13  1.417974  1.247679  1.862335 -0.608464 -0.121233  1.605435 -1.422578   \n",
       "1   0.045124  2.175909  1.827493  0.089238  1.230452  2.398123 -1.762362   \n",
       "9  -0.621353  2.040816  0.662086  3.019804  0.520793  0.237938  0.457225   \n",
       "2  -0.688940 -0.759798 -0.491707 -0.276543 -0.782788 -0.530025  0.481727   \n",
       "3   2.499827  0.095648 -0.788065 -0.779493  2.368287  0.152996 -0.818317   \n",
       "\n",
       "    pl2speed    bspeed  dpi  \n",
       "13 -0.453554 -0.172773  0.0  \n",
       "1   1.068817 -0.653976  0.0  \n",
       "9   0.088256 -0.851365  0.0  \n",
       "2   0.492907  2.176504  1.0  \n",
       "3  -1.068109 -0.827087  0.0  "
      ]
     },
     "execution_count": 49,
     "metadata": {},
     "output_type": "execute_result"
    }
   ],
   "source": [
    "df.sample(5)"
   ]
  },
  {
   "cell_type": "markdown",
   "metadata": {
    "papermill": {
     "duration": 0.073786,
     "end_time": "2020-12-23T07:30:01.224031",
     "exception": false,
     "start_time": "2020-12-23T07:30:01.150245",
     "status": "completed"
    },
    "tags": []
   },
   "source": [
    "train\\test sets. \n",
    "\n",
    "i want to avoid cross validation this time, because ,once again, it's just demonstration.\n",
    "\n",
    "since i carelessly picked up data , no reason to test model multiple times"
   ]
  },
  {
   "cell_type": "code",
   "execution_count": 50,
   "metadata": {
    "execution": {
     "iopub.execute_input": "2020-12-23T07:30:01.378567Z",
     "iopub.status.busy": "2020-12-23T07:30:01.377478Z",
     "iopub.status.idle": "2020-12-23T07:30:01.384831Z",
     "shell.execute_reply": "2020-12-23T07:30:01.385356Z"
    },
    "papermill": {
     "duration": 0.087663,
     "end_time": "2020-12-23T07:30:01.385535",
     "exception": false,
     "start_time": "2020-12-23T07:30:01.297872",
     "status": "completed"
    },
    "tags": []
   },
   "outputs": [],
   "source": [
    "df.reset_index(inplace=True)\n",
    "X = df.drop(['dpi'],axis=1)\n",
    "y = df['dpi']"
   ]
  },
  {
   "cell_type": "code",
   "execution_count": 51,
   "metadata": {
    "execution": {
     "iopub.execute_input": "2020-12-23T07:30:01.540288Z",
     "iopub.status.busy": "2020-12-23T07:30:01.539236Z",
     "iopub.status.idle": "2020-12-23T07:30:01.547649Z",
     "shell.execute_reply": "2020-12-23T07:30:01.546926Z"
    },
    "papermill": {
     "duration": 0.087592,
     "end_time": "2020-12-23T07:30:01.547762",
     "exception": false,
     "start_time": "2020-12-23T07:30:01.460170",
     "status": "completed"
    },
    "tags": []
   },
   "outputs": [],
   "source": [
    "X_train,X_test,y_train,y_test = train_test_split(X,y,test_size=0.4,random_state=5)"
   ]
  },
  {
   "cell_type": "markdown",
   "metadata": {
    "papermill": {
     "duration": 0.07461,
     "end_time": "2020-12-23T07:30:01.698027",
     "exception": false,
     "start_time": "2020-12-23T07:30:01.623417",
     "status": "completed"
    },
    "tags": []
   },
   "source": [
    "<a id=\"ten\"></a>\n",
    "# model score"
   ]
  },
  {
   "cell_type": "code",
   "execution_count": 52,
   "metadata": {
    "execution": {
     "iopub.execute_input": "2020-12-23T07:30:01.854395Z",
     "iopub.status.busy": "2020-12-23T07:30:01.853651Z",
     "iopub.status.idle": "2020-12-23T07:30:01.860985Z",
     "shell.execute_reply": "2020-12-23T07:30:01.861482Z"
    },
    "papermill": {
     "duration": 0.090051,
     "end_time": "2020-12-23T07:30:01.861629",
     "exception": false,
     "start_time": "2020-12-23T07:30:01.771578",
     "status": "completed"
    },
    "tags": []
   },
   "outputs": [
    {
     "data": {
      "text/plain": [
       "0.9166666666666666"
      ]
     },
     "execution_count": 52,
     "metadata": {},
     "output_type": "execute_result"
    }
   ],
   "source": [
    "model = LinearSVC()\n",
    "model.fit(X_train,y_train)\n",
    "model.score(X_test,y_test)"
   ]
  },
  {
   "cell_type": "markdown",
   "metadata": {
    "papermill": {
     "duration": 0.078214,
     "end_time": "2020-12-23T07:30:02.014695",
     "exception": false,
     "start_time": "2020-12-23T07:30:01.936481",
     "status": "completed"
    },
    "tags": []
   },
   "source": [
    "<a id=\"eleven\"></a>\n",
    "# conclusion"
   ]
  },
  {
   "cell_type": "markdown",
   "metadata": {
    "papermill": {
     "duration": 0.079477,
     "end_time": "2020-12-23T07:30:02.172972",
     "exception": false,
     "start_time": "2020-12-23T07:30:02.093495",
     "status": "completed"
    },
    "tags": []
   },
   "source": [
    "With the last 3 frames per player\\ball we can determine with decent success (0.916 score) is there any DPI threat, before ball lands or DPI happends.\n",
    "\n",
    "Due to time\\cumputation limits i was carelessly pickig data. But with real task you should consider going though all played weeks and all players. \n",
    "\n",
    "And since this is basically binary classification, with more unbalanced data i would recommend to calculate F1 score, and confusion matrix.\n",
    "\n",
    "On top of that i recommend try different kernel types and models, and maybe add\\throw away some features and frames.\n",
    "\n",
    "There is a plenty ways for the experiment. \n"
   ]
  }
 ],
 "metadata": {
  "kernelspec": {
   "display_name": "Python 3",
   "language": "python",
   "name": "python3"
  },
  "language_info": {
   "codemirror_mode": {
    "name": "ipython",
    "version": 3
   },
   "file_extension": ".py",
   "mimetype": "text/x-python",
   "name": "python",
   "nbconvert_exporter": "python",
   "pygments_lexer": "ipython3",
   "version": "3.7.6"
  },
  "papermill": {
   "duration": 179.011929,
   "end_time": "2020-12-23T07:30:02.357828",
   "environment_variables": {},
   "exception": null,
   "input_path": "__notebook__.ipynb",
   "output_path": "__notebook__.ipynb",
   "parameters": {},
   "start_time": "2020-12-23T07:27:03.345899",
   "version": "2.1.0"
  }
 },
 "nbformat": 4,
 "nbformat_minor": 4
}
