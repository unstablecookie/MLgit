{
 "cells": [
  {
   "cell_type": "code",
   "execution_count": 1,
   "metadata": {
    "_cell_guid": "b1076dfc-b9ad-4769-8c92-a6c4dae69d19",
    "_uuid": "8f2839f25d086af736a60e9eeb907d3b93b6e0e5",
    "execution": {
     "iopub.execute_input": "2020-12-07T21:05:07.673407Z",
     "iopub.status.busy": "2020-12-07T21:05:07.672458Z",
     "iopub.status.idle": "2020-12-07T21:05:07.676653Z",
     "shell.execute_reply": "2020-12-07T21:05:07.677312Z"
    },
    "papermill": {
     "duration": 0.043981,
     "end_time": "2020-12-07T21:05:07.677547",
     "exception": false,
     "start_time": "2020-12-07T21:05:07.633566",
     "status": "completed"
    },
    "tags": []
   },
   "outputs": [],
   "source": [
    "import numpy as np # linear algebra\n",
    "import pandas as pd # data processing, CSV file I/O (e.g. pd.read_csv)\n",
    "import os"
   ]
  },
  {
   "cell_type": "code",
   "execution_count": 2,
   "metadata": {
    "_cell_guid": "79c7e3d0-c299-4dcb-8224-4455121ee9b0",
    "_uuid": "d629ff2d2480ee46fbb7e2d37f6b5fab8052498a",
    "execution": {
     "iopub.execute_input": "2020-12-07T21:05:07.749139Z",
     "iopub.status.busy": "2020-12-07T21:05:07.748265Z",
     "iopub.status.idle": "2020-12-07T21:05:07.760913Z",
     "shell.execute_reply": "2020-12-07T21:05:07.762372Z"
    },
    "papermill": {
     "duration": 0.052664,
     "end_time": "2020-12-07T21:05:07.762604",
     "exception": false,
     "start_time": "2020-12-07T21:05:07.709940",
     "status": "completed"
    },
    "tags": []
   },
   "outputs": [
    {
     "name": "stdout",
     "output_type": "stream",
     "text": [
      "/kaggle/input/employee-satisfaction-index-dataset/Employee Satisfaction Index.csv\n"
     ]
    }
   ],
   "source": [
    "for dirname, _, filenames in os.walk('/kaggle/input'):\n",
    "    for filename in filenames:\n",
    "        print(os.path.join(dirname, filename))"
   ]
  },
  {
   "cell_type": "code",
   "execution_count": 3,
   "metadata": {
    "execution": {
     "iopub.execute_input": "2020-12-07T21:05:07.837982Z",
     "iopub.status.busy": "2020-12-07T21:05:07.836963Z",
     "iopub.status.idle": "2020-12-07T21:05:09.872955Z",
     "shell.execute_reply": "2020-12-07T21:05:09.872105Z"
    },
    "papermill": {
     "duration": 2.077844,
     "end_time": "2020-12-07T21:05:09.873099",
     "exception": false,
     "start_time": "2020-12-07T21:05:07.795255",
     "status": "completed"
    },
    "tags": []
   },
   "outputs": [],
   "source": [
    "#more imports\n",
    "import numpy as np\n",
    "import pandas as pd\n",
    "import matplotlib.pyplot as plt\n",
    "import seaborn as sns\n",
    "import graphviz\n",
    "\n",
    "from pathlib import Path\n",
    "from sklearn.tree import DecisionTreeClassifier\n",
    "from sklearn.model_selection import train_test_split\n",
    "from sklearn.ensemble import RandomForestClassifier\n",
    "from sklearn import tree\n",
    "from sklearn.metrics import confusion_matrix"
   ]
  },
  {
   "cell_type": "code",
   "execution_count": 4,
   "metadata": {
    "execution": {
     "iopub.execute_input": "2020-12-07T21:05:09.938466Z",
     "iopub.status.busy": "2020-12-07T21:05:09.937612Z",
     "iopub.status.idle": "2020-12-07T21:05:09.953971Z",
     "shell.execute_reply": "2020-12-07T21:05:09.953135Z"
    },
    "papermill": {
     "duration": 0.052693,
     "end_time": "2020-12-07T21:05:09.954101",
     "exception": false,
     "start_time": "2020-12-07T21:05:09.901408",
     "status": "completed"
    },
    "tags": []
   },
   "outputs": [],
   "source": [
    "path = Path('/kaggle/input/employee-satisfaction-index-dataset/Employee Satisfaction Index.csv')\n",
    "df = pd.read_csv(path)"
   ]
  },
  {
   "cell_type": "markdown",
   "metadata": {
    "papermill": {
     "duration": 0.030905,
     "end_time": "2020-12-07T21:05:10.014936",
     "exception": false,
     "start_time": "2020-12-07T21:05:09.984031",
     "status": "completed"
    },
    "tags": []
   },
   "source": [
    "emp_id - Unique ID\n",
    "\n",
    "age - Age\n",
    "\n",
    "Dept - Department\n",
    "\n",
    "location - Employee location\n",
    "\n",
    "education - Employee's education status\n",
    "\n",
    "recruitment_type - Mode of recruitment\n",
    "\n",
    "job_level - 1 to 5. The job level of the employee. 1 being the least and 5 being the highest position\n",
    "\n",
    "rating - 1 to 5. The previous year rating of the employee. 1 being the least and 5 being the highest position\n",
    "\n",
    "onsite - Has the employee ever went to an onsite location? 0 and 1\n",
    "\n",
    "awards - No. of awards\n",
    "\n",
    "certifications - Is the employee certified?\n",
    "\n",
    "salary - Net Salary\n",
    "\n",
    "satisfied - Is the employee satisfied with his job?"
   ]
  },
  {
   "cell_type": "markdown",
   "metadata": {
    "papermill": {
     "duration": 0.030026,
     "end_time": "2020-12-07T21:05:10.074929",
     "exception": false,
     "start_time": "2020-12-07T21:05:10.044903",
     "status": "completed"
    },
    "tags": []
   },
   "source": [
    "checking for the head() and null values first"
   ]
  },
  {
   "cell_type": "code",
   "execution_count": 5,
   "metadata": {
    "execution": {
     "iopub.execute_input": "2020-12-07T21:05:10.159922Z",
     "iopub.status.busy": "2020-12-07T21:05:10.159077Z",
     "iopub.status.idle": "2020-12-07T21:05:10.173229Z",
     "shell.execute_reply": "2020-12-07T21:05:10.173906Z"
    },
    "papermill": {
     "duration": 0.069605,
     "end_time": "2020-12-07T21:05:10.174085",
     "exception": false,
     "start_time": "2020-12-07T21:05:10.104480",
     "status": "completed"
    },
    "tags": []
   },
   "outputs": [
    {
     "data": {
      "text/html": [
       "<div>\n",
       "<style scoped>\n",
       "    .dataframe tbody tr th:only-of-type {\n",
       "        vertical-align: middle;\n",
       "    }\n",
       "\n",
       "    .dataframe tbody tr th {\n",
       "        vertical-align: top;\n",
       "    }\n",
       "\n",
       "    .dataframe thead th {\n",
       "        text-align: right;\n",
       "    }\n",
       "</style>\n",
       "<table border=\"1\" class=\"dataframe\">\n",
       "  <thead>\n",
       "    <tr style=\"text-align: right;\">\n",
       "      <th></th>\n",
       "      <th>Unnamed: 0</th>\n",
       "      <th>emp_id</th>\n",
       "      <th>age</th>\n",
       "      <th>Dept</th>\n",
       "      <th>location</th>\n",
       "      <th>education</th>\n",
       "      <th>recruitment_type</th>\n",
       "      <th>job_level</th>\n",
       "      <th>rating</th>\n",
       "      <th>onsite</th>\n",
       "      <th>awards</th>\n",
       "      <th>certifications</th>\n",
       "      <th>salary</th>\n",
       "      <th>satisfied</th>\n",
       "    </tr>\n",
       "  </thead>\n",
       "  <tbody>\n",
       "    <tr>\n",
       "      <th>0</th>\n",
       "      <td>0</td>\n",
       "      <td>HR8270</td>\n",
       "      <td>28</td>\n",
       "      <td>HR</td>\n",
       "      <td>Suburb</td>\n",
       "      <td>PG</td>\n",
       "      <td>Referral</td>\n",
       "      <td>5</td>\n",
       "      <td>2</td>\n",
       "      <td>0</td>\n",
       "      <td>1</td>\n",
       "      <td>0</td>\n",
       "      <td>86750</td>\n",
       "      <td>1</td>\n",
       "    </tr>\n",
       "    <tr>\n",
       "      <th>1</th>\n",
       "      <td>1</td>\n",
       "      <td>TECH1860</td>\n",
       "      <td>50</td>\n",
       "      <td>Technology</td>\n",
       "      <td>Suburb</td>\n",
       "      <td>PG</td>\n",
       "      <td>Walk-in</td>\n",
       "      <td>3</td>\n",
       "      <td>5</td>\n",
       "      <td>1</td>\n",
       "      <td>2</td>\n",
       "      <td>1</td>\n",
       "      <td>42419</td>\n",
       "      <td>0</td>\n",
       "    </tr>\n",
       "    <tr>\n",
       "      <th>2</th>\n",
       "      <td>2</td>\n",
       "      <td>TECH6390</td>\n",
       "      <td>43</td>\n",
       "      <td>Technology</td>\n",
       "      <td>Suburb</td>\n",
       "      <td>UG</td>\n",
       "      <td>Referral</td>\n",
       "      <td>4</td>\n",
       "      <td>1</td>\n",
       "      <td>0</td>\n",
       "      <td>2</td>\n",
       "      <td>0</td>\n",
       "      <td>65715</td>\n",
       "      <td>0</td>\n",
       "    </tr>\n",
       "    <tr>\n",
       "      <th>3</th>\n",
       "      <td>3</td>\n",
       "      <td>SAL6191</td>\n",
       "      <td>44</td>\n",
       "      <td>Sales</td>\n",
       "      <td>City</td>\n",
       "      <td>PG</td>\n",
       "      <td>On-Campus</td>\n",
       "      <td>2</td>\n",
       "      <td>3</td>\n",
       "      <td>1</td>\n",
       "      <td>0</td>\n",
       "      <td>0</td>\n",
       "      <td>29805</td>\n",
       "      <td>1</td>\n",
       "    </tr>\n",
       "    <tr>\n",
       "      <th>4</th>\n",
       "      <td>4</td>\n",
       "      <td>HR6734</td>\n",
       "      <td>33</td>\n",
       "      <td>HR</td>\n",
       "      <td>City</td>\n",
       "      <td>UG</td>\n",
       "      <td>Recruitment Agency</td>\n",
       "      <td>2</td>\n",
       "      <td>1</td>\n",
       "      <td>0</td>\n",
       "      <td>5</td>\n",
       "      <td>0</td>\n",
       "      <td>29805</td>\n",
       "      <td>1</td>\n",
       "    </tr>\n",
       "  </tbody>\n",
       "</table>\n",
       "</div>"
      ],
      "text/plain": [
       "   Unnamed: 0    emp_id  age        Dept location education  \\\n",
       "0           0    HR8270   28          HR   Suburb        PG   \n",
       "1           1  TECH1860   50  Technology   Suburb        PG   \n",
       "2           2  TECH6390   43  Technology   Suburb        UG   \n",
       "3           3   SAL6191   44       Sales     City        PG   \n",
       "4           4    HR6734   33          HR     City        UG   \n",
       "\n",
       "     recruitment_type  job_level  rating  onsite  awards  certifications  \\\n",
       "0            Referral          5       2       0       1               0   \n",
       "1             Walk-in          3       5       1       2               1   \n",
       "2            Referral          4       1       0       2               0   \n",
       "3           On-Campus          2       3       1       0               0   \n",
       "4  Recruitment Agency          2       1       0       5               0   \n",
       "\n",
       "   salary  satisfied  \n",
       "0   86750          1  \n",
       "1   42419          0  \n",
       "2   65715          0  \n",
       "3   29805          1  \n",
       "4   29805          1  "
      ]
     },
     "execution_count": 5,
     "metadata": {},
     "output_type": "execute_result"
    }
   ],
   "source": [
    "df.head()"
   ]
  },
  {
   "cell_type": "code",
   "execution_count": 6,
   "metadata": {
    "execution": {
     "iopub.execute_input": "2020-12-07T21:05:10.247643Z",
     "iopub.status.busy": "2020-12-07T21:05:10.246654Z",
     "iopub.status.idle": "2020-12-07T21:05:10.252547Z",
     "shell.execute_reply": "2020-12-07T21:05:10.251561Z"
    },
    "papermill": {
     "duration": 0.047876,
     "end_time": "2020-12-07T21:05:10.252697",
     "exception": false,
     "start_time": "2020-12-07T21:05:10.204821",
     "status": "completed"
    },
    "tags": []
   },
   "outputs": [
    {
     "data": {
      "text/plain": [
       "(Unnamed: 0          0\n",
       " emp_id              0\n",
       " age                 0\n",
       " Dept                0\n",
       " location            0\n",
       " education           0\n",
       " recruitment_type    0\n",
       " job_level           0\n",
       " rating              0\n",
       " onsite              0\n",
       " awards              0\n",
       " certifications      0\n",
       " salary              0\n",
       " satisfied           0\n",
       " dtype: int64,\n",
       " Unnamed: 0          0\n",
       " emp_id              0\n",
       " age                 0\n",
       " Dept                0\n",
       " location            0\n",
       " education           0\n",
       " recruitment_type    0\n",
       " job_level           0\n",
       " rating              0\n",
       " onsite              0\n",
       " awards              0\n",
       " certifications      0\n",
       " salary              0\n",
       " satisfied           0\n",
       " dtype: int64)"
      ]
     },
     "execution_count": 6,
     "metadata": {},
     "output_type": "execute_result"
    }
   ],
   "source": [
    "df.isnull().sum(),df.isna().sum()"
   ]
  },
  {
   "cell_type": "markdown",
   "metadata": {
    "papermill": {
     "duration": 0.029279,
     "end_time": "2020-12-07T21:05:10.313629",
     "exception": false,
     "start_time": "2020-12-07T21:05:10.284350",
     "status": "completed"
    },
    "tags": []
   },
   "source": [
    "dropping unnecessary columns"
   ]
  },
  {
   "cell_type": "code",
   "execution_count": 7,
   "metadata": {
    "execution": {
     "iopub.execute_input": "2020-12-07T21:05:10.386599Z",
     "iopub.status.busy": "2020-12-07T21:05:10.385823Z",
     "iopub.status.idle": "2020-12-07T21:05:10.390329Z",
     "shell.execute_reply": "2020-12-07T21:05:10.389412Z"
    },
    "papermill": {
     "duration": 0.044258,
     "end_time": "2020-12-07T21:05:10.390487",
     "exception": false,
     "start_time": "2020-12-07T21:05:10.346229",
     "status": "completed"
    },
    "tags": []
   },
   "outputs": [],
   "source": [
    "df.drop(['Unnamed: 0','emp_id'],axis=1,inplace=True)"
   ]
  },
  {
   "cell_type": "code",
   "execution_count": 8,
   "metadata": {
    "execution": {
     "iopub.execute_input": "2020-12-07T21:05:10.463384Z",
     "iopub.status.busy": "2020-12-07T21:05:10.462239Z",
     "iopub.status.idle": "2020-12-07T21:05:10.467188Z",
     "shell.execute_reply": "2020-12-07T21:05:10.467794Z"
    },
    "papermill": {
     "duration": 0.044645,
     "end_time": "2020-12-07T21:05:10.467986",
     "exception": false,
     "start_time": "2020-12-07T21:05:10.423341",
     "status": "completed"
    },
    "tags": []
   },
   "outputs": [
    {
     "data": {
      "text/plain": [
       "(array(['HR', 'Technology', 'Sales', 'Purchasing', 'Marketing'],\n",
       "       dtype=object),\n",
       " array(['Suburb', 'City'], dtype=object),\n",
       " array(['Referral', 'Walk-in', 'On-Campus', 'Recruitment Agency'],\n",
       "       dtype=object))"
      ]
     },
     "execution_count": 8,
     "metadata": {},
     "output_type": "execute_result"
    }
   ],
   "source": [
    "df.Dept.unique(),df.location.unique(),df.recruitment_type.unique()"
   ]
  },
  {
   "cell_type": "markdown",
   "metadata": {
    "papermill": {
     "duration": 0.030784,
     "end_time": "2020-12-07T21:05:10.529593",
     "exception": false,
     "start_time": "2020-12-07T21:05:10.498809",
     "status": "completed"
    },
    "tags": []
   },
   "source": [
    "let's get visual representation of the data"
   ]
  },
  {
   "cell_type": "code",
   "execution_count": 9,
   "metadata": {
    "execution": {
     "iopub.execute_input": "2020-12-07T21:05:10.602888Z",
     "iopub.status.busy": "2020-12-07T21:05:10.597767Z",
     "iopub.status.idle": "2020-12-07T21:05:10.808673Z",
     "shell.execute_reply": "2020-12-07T21:05:10.807640Z"
    },
    "papermill": {
     "duration": 0.248439,
     "end_time": "2020-12-07T21:05:10.808848",
     "exception": false,
     "start_time": "2020-12-07T21:05:10.560409",
     "status": "completed"
    },
    "tags": []
   },
   "outputs": [
    {
     "data": {
      "text/plain": [
       "<matplotlib.axes._subplots.AxesSubplot at 0x7f75ace2b6d0>"
      ]
     },
     "execution_count": 9,
     "metadata": {},
     "output_type": "execute_result"
    },
    {
     "data": {
      "image/png": "[encoded data removed]",
      "text/plain": [
       "<Figure size 432x288 with 1 Axes>"
      ]
     },
     "metadata": {
      "needs_background": "light"
     },
     "output_type": "display_data"
    }
   ],
   "source": [
    "sns.countplot(x = 'Dept',data = df)"
   ]
  },
  {
   "cell_type": "code",
   "execution_count": 10,
   "metadata": {
    "execution": {
     "iopub.execute_input": "2020-12-07T21:05:10.903569Z",
     "iopub.status.busy": "2020-12-07T21:05:10.902682Z",
     "iopub.status.idle": "2020-12-07T21:05:11.032498Z",
     "shell.execute_reply": "2020-12-07T21:05:11.031659Z"
    },
    "papermill": {
     "duration": 0.191526,
     "end_time": "2020-12-07T21:05:11.032628",
     "exception": false,
     "start_time": "2020-12-07T21:05:10.841102",
     "status": "completed"
    },
    "tags": []
   },
   "outputs": [
    {
     "data": {
      "text/plain": [
       "<matplotlib.axes._subplots.AxesSubplot at 0x7f75acc3dd90>"
      ]
     },
     "execution_count": 10,
     "metadata": {},
     "output_type": "execute_result"
    },
    {
     "data": {
      "image/png": "[encoded data removed]",
      "text/plain": [
       "<Figure size 432x288 with 1 Axes>"
      ]
     },
     "metadata": {
      "needs_background": "light"
     },
     "output_type": "display_data"
    }
   ],
   "source": [
    "sns.countplot(x = 'satisfied',data = df,palette='rocket')"
   ]
  },
  {
   "cell_type": "code",
   "execution_count": 11,
   "metadata": {
    "execution": {
     "iopub.execute_input": "2020-12-07T21:05:11.116271Z",
     "iopub.status.busy": "2020-12-07T21:05:11.110093Z",
     "iopub.status.idle": "2020-12-07T21:05:11.387307Z",
     "shell.execute_reply": "2020-12-07T21:05:11.386500Z"
    },
    "papermill": {
     "duration": 0.31946,
     "end_time": "2020-12-07T21:05:11.387436",
     "exception": false,
     "start_time": "2020-12-07T21:05:11.067976",
     "status": "completed"
    },
    "tags": []
   },
   "outputs": [
    {
     "data": {
      "text/plain": [
       "<matplotlib.axes._subplots.AxesSubplot at 0x7f75acbbd5d0>"
      ]
     },
     "execution_count": 11,
     "metadata": {},
     "output_type": "execute_result"
    },
    {
     "data": {
      "image/png": "[encoded data removed]",
      "text/plain": [
       "<Figure size 432x288 with 1 Axes>"
      ]
     },
     "metadata": {
      "needs_background": "light"
     },
     "output_type": "display_data"
    }
   ],
   "source": [
    "sns.distplot(df['salary'])"
   ]
  },
  {
   "cell_type": "code",
   "execution_count": 12,
   "metadata": {
    "execution": {
     "iopub.execute_input": "2020-12-07T21:05:11.480274Z",
     "iopub.status.busy": "2020-12-07T21:05:11.478138Z",
     "iopub.status.idle": "2020-12-07T21:05:11.982474Z",
     "shell.execute_reply": "2020-12-07T21:05:11.983110Z"
    },
    "papermill": {
     "duration": 0.55803,
     "end_time": "2020-12-07T21:05:11.983271",
     "exception": false,
     "start_time": "2020-12-07T21:05:11.425241",
     "status": "completed"
    },
    "tags": []
   },
   "outputs": [
    {
     "data": {
      "text/plain": [
       "<matplotlib.axes._subplots.AxesSubplot at 0x7f75acb3a4d0>"
      ]
     },
     "execution_count": 12,
     "metadata": {},
     "output_type": "execute_result"
    },
    {
     "data": {
      "image/png": "[encoded data removed]",
      "text/plain": [
       "<Figure size 720x720 with 2 Axes>"
      ]
     },
     "metadata": {
      "needs_background": "light"
     },
     "output_type": "display_data"
    }
   ],
   "source": [
    "correlation = df.corr()\n",
    "plt.figure(1,figsize=(10,10))\n",
    "sns.heatmap(correlation,annot=True)"
   ]
  },
  {
   "cell_type": "markdown",
   "metadata": {
    "papermill": {
     "duration": 0.036808,
     "end_time": "2020-12-07T21:05:12.057442",
     "exception": false,
     "start_time": "2020-12-07T21:05:12.020634",
     "status": "completed"
    },
    "tags": []
   },
   "source": [
    "that's nice destribution right here.\n",
    "\n",
    "Converting columns to categorical datatype and i won't use one hot encoding for a reason."
   ]
  },
  {
   "cell_type": "code",
   "execution_count": 13,
   "metadata": {
    "execution": {
     "iopub.execute_input": "2020-12-07T21:05:12.140219Z",
     "iopub.status.busy": "2020-12-07T21:05:12.138898Z",
     "iopub.status.idle": "2020-12-07T21:05:12.147632Z",
     "shell.execute_reply": "2020-12-07T21:05:12.146838Z"
    },
    "papermill": {
     "duration": 0.053189,
     "end_time": "2020-12-07T21:05:12.147812",
     "exception": false,
     "start_time": "2020-12-07T21:05:12.094623",
     "status": "completed"
    },
    "tags": []
   },
   "outputs": [
    {
     "data": {
      "text/plain": [
       "(array(['HR', 'Technology', 'Sales', 'Purchasing', 'Marketing'],\n",
       "       dtype=object),\n",
       " array(['Suburb', 'City'], dtype=object),\n",
       " array(['Referral', 'Walk-in', 'On-Campus', 'Recruitment Agency'],\n",
       "       dtype=object),\n",
       " array(['PG', 'UG'], dtype=object))"
      ]
     },
     "execution_count": 13,
     "metadata": {},
     "output_type": "execute_result"
    }
   ],
   "source": [
    "df.Dept.unique(),df.location.unique(),df.recruitment_type.unique(),df.education.unique()"
   ]
  },
  {
   "cell_type": "code",
   "execution_count": 14,
   "metadata": {
    "execution": {
     "iopub.execute_input": "2020-12-07T21:05:12.239161Z",
     "iopub.status.busy": "2020-12-07T21:05:12.237722Z",
     "iopub.status.idle": "2020-12-07T21:05:12.240938Z",
     "shell.execute_reply": "2020-12-07T21:05:12.241679Z"
    },
    "papermill": {
     "duration": 0.055616,
     "end_time": "2020-12-07T21:05:12.241892",
     "exception": false,
     "start_time": "2020-12-07T21:05:12.186276",
     "status": "completed"
    },
    "tags": []
   },
   "outputs": [],
   "source": [
    "df.location = df.location.astype('category')\n",
    "df.Dept = df.Dept.astype('category')\n",
    "df.recruitment_type =  df.recruitment_type.astype('category')\n",
    "df.education = df.education.astype('category')"
   ]
  },
  {
   "cell_type": "code",
   "execution_count": 15,
   "metadata": {
    "execution": {
     "iopub.execute_input": "2020-12-07T21:05:12.329031Z",
     "iopub.status.busy": "2020-12-07T21:05:12.327958Z",
     "iopub.status.idle": "2020-12-07T21:05:12.331397Z",
     "shell.execute_reply": "2020-12-07T21:05:12.330613Z"
    },
    "papermill": {
     "duration": 0.050101,
     "end_time": "2020-12-07T21:05:12.331541",
     "exception": false,
     "start_time": "2020-12-07T21:05:12.281440",
     "status": "completed"
    },
    "tags": []
   },
   "outputs": [],
   "source": [
    "location_d = dict(enumerate(df.location.cat.categories))\n",
    "Dept_d = dict(enumerate(df.Dept.cat.categories))\n",
    "recruitment_type_d = dict(enumerate(df.recruitment_type.cat.categories))\n",
    "education_d = dict(enumerate(df.education.cat.categories))"
   ]
  },
  {
   "cell_type": "code",
   "execution_count": 16,
   "metadata": {
    "execution": {
     "iopub.execute_input": "2020-12-07T21:05:12.420175Z",
     "iopub.status.busy": "2020-12-07T21:05:12.419042Z",
     "iopub.status.idle": "2020-12-07T21:05:12.422238Z",
     "shell.execute_reply": "2020-12-07T21:05:12.422944Z"
    },
    "papermill": {
     "duration": 0.051367,
     "end_time": "2020-12-07T21:05:12.423142",
     "exception": false,
     "start_time": "2020-12-07T21:05:12.371775",
     "status": "completed"
    },
    "tags": []
   },
   "outputs": [],
   "source": [
    "df.location = df.location.cat.codes\n",
    "df.Dept = df.Dept.cat.codes\n",
    "df.recruitment_type = df.recruitment_type.cat.codes\n",
    "df.education = df.education.cat.codes"
   ]
  },
  {
   "cell_type": "markdown",
   "metadata": {
    "papermill": {
     "duration": 0.039063,
     "end_time": "2020-12-07T21:05:12.501368",
     "exception": false,
     "start_time": "2020-12-07T21:05:12.462305",
     "status": "completed"
    },
    "tags": []
   },
   "source": [
    "train\\test split"
   ]
  },
  {
   "cell_type": "code",
   "execution_count": 17,
   "metadata": {
    "execution": {
     "iopub.execute_input": "2020-12-07T21:05:12.587213Z",
     "iopub.status.busy": "2020-12-07T21:05:12.586286Z",
     "iopub.status.idle": "2020-12-07T21:05:12.589771Z",
     "shell.execute_reply": "2020-12-07T21:05:12.589130Z"
    },
    "papermill": {
     "duration": 0.049669,
     "end_time": "2020-12-07T21:05:12.589919",
     "exception": false,
     "start_time": "2020-12-07T21:05:12.540250",
     "status": "completed"
    },
    "tags": []
   },
   "outputs": [],
   "source": [
    "X = df.drop(['satisfied'],axis=1)\n",
    "y = df.satisfied"
   ]
  },
  {
   "cell_type": "code",
   "execution_count": 18,
   "metadata": {
    "execution": {
     "iopub.execute_input": "2020-12-07T21:05:12.677956Z",
     "iopub.status.busy": "2020-12-07T21:05:12.677009Z",
     "iopub.status.idle": "2020-12-07T21:05:12.681389Z",
     "shell.execute_reply": "2020-12-07T21:05:12.680469Z"
    },
    "papermill": {
     "duration": 0.052242,
     "end_time": "2020-12-07T21:05:12.681548",
     "exception": false,
     "start_time": "2020-12-07T21:05:12.629306",
     "status": "completed"
    },
    "tags": []
   },
   "outputs": [],
   "source": [
    "X_train,X_test,y_train,y_test = train_test_split(X,y, test_size=0.2,random_state=0)"
   ]
  },
  {
   "cell_type": "markdown",
   "metadata": {
    "papermill": {
     "duration": 0.040082,
     "end_time": "2020-12-07T21:05:12.761551",
     "exception": false,
     "start_time": "2020-12-07T21:05:12.721469",
     "status": "completed"
    },
    "tags": []
   },
   "source": [
    "**Decision Tree**"
   ]
  },
  {
   "cell_type": "code",
   "execution_count": 19,
   "metadata": {
    "execution": {
     "iopub.execute_input": "2020-12-07T21:05:12.852749Z",
     "iopub.status.busy": "2020-12-07T21:05:12.851613Z",
     "iopub.status.idle": "2020-12-07T21:05:12.858007Z",
     "shell.execute_reply": "2020-12-07T21:05:12.857274Z"
    },
    "papermill": {
     "duration": 0.056352,
     "end_time": "2020-12-07T21:05:12.858146",
     "exception": false,
     "start_time": "2020-12-07T21:05:12.801794",
     "status": "completed"
    },
    "tags": []
   },
   "outputs": [],
   "source": [
    "DTmodel = DecisionTreeClassifier().fit(X_train,y_train)"
   ]
  },
  {
   "cell_type": "code",
   "execution_count": 20,
   "metadata": {
    "execution": {
     "iopub.execute_input": "2020-12-07T21:05:12.947552Z",
     "iopub.status.busy": "2020-12-07T21:05:12.946351Z",
     "iopub.status.idle": "2020-12-07T21:05:12.952475Z",
     "shell.execute_reply": "2020-12-07T21:05:12.951671Z"
    },
    "papermill": {
     "duration": 0.053839,
     "end_time": "2020-12-07T21:05:12.952604",
     "exception": false,
     "start_time": "2020-12-07T21:05:12.898765",
     "status": "completed"
    },
    "tags": []
   },
   "outputs": [
    {
     "data": {
      "text/plain": [
       "0.56"
      ]
     },
     "execution_count": 20,
     "metadata": {},
     "output_type": "execute_result"
    }
   ],
   "source": [
    "DTmodel.score(X_test,y_test)"
   ]
  },
  {
   "cell_type": "markdown",
   "metadata": {
    "papermill": {
     "duration": 0.04043,
     "end_time": "2020-12-07T21:05:13.033311",
     "exception": false,
     "start_time": "2020-12-07T21:05:12.992881",
     "status": "completed"
    },
    "tags": []
   },
   "source": [
    "DT gives decent visualization how data splits. \n",
    "With random forest we'll get way more variations , but it's usefull to have the initial one."
   ]
  },
  {
   "cell_type": "code",
   "execution_count": 21,
   "metadata": {
    "execution": {
     "iopub.execute_input": "2020-12-07T21:05:13.125223Z",
     "iopub.status.busy": "2020-12-07T21:05:13.119433Z",
     "iopub.status.idle": "2020-12-07T21:05:14.128769Z",
     "shell.execute_reply": "2020-12-07T21:05:14.129407Z"
    },
    "papermill": {
     "duration": 1.056914,
     "end_time": "2020-12-07T21:05:14.129573",
     "exception": false,
     "start_time": "2020-12-07T21:05:13.072659",
     "status": "completed"
    },
    "tags": []
   },
   "outputs": [
    {
     "data": {
      "text/plain": [
       "[Text(418.5, 733.86, 'X[1] <= 1.5\\ngini = 0.499\\nsamples = 400\\nvalue = [192, 208]'),\n",
       " Text(209.25, 570.78, 'X[8] <= 7.5\\ngini = 0.497\\nsamples = 157\\nvalue = [85, 72]'),\n",
       " Text(104.625, 407.70000000000005, 'X[0] <= 38.5\\ngini = 0.5\\nsamples = 123\\nvalue = [60, 63]'),\n",
       " Text(52.3125, 244.62, 'X[0] <= 27.5\\ngini = 0.484\\nsamples = 61\\nvalue = [25, 36]'),\n",
       " Text(26.15625, 81.54000000000008, '\\n  (...)  \\n'),\n",
       " Text(78.46875, 81.54000000000008, '\\n  (...)  \\n'),\n",
       " Text(156.9375, 244.62, 'X[3] <= 0.5\\ngini = 0.492\\nsamples = 62\\nvalue = [35, 27]'),\n",
       " Text(130.78125, 81.54000000000008, '\\n  (...)  \\n'),\n",
       " Text(183.09375, 81.54000000000008, '\\n  (...)  \\n'),\n",
       " Text(313.875, 407.70000000000005, 'X[4] <= 2.5\\ngini = 0.389\\nsamples = 34\\nvalue = [25, 9]'),\n",
       " Text(261.5625, 244.62, 'X[8] <= 8.5\\ngini = 0.252\\nsamples = 27\\nvalue = [23, 4]'),\n",
       " Text(235.40625, 81.54000000000008, '\\n  (...)  \\n'),\n",
       " Text(287.71875, 81.54000000000008, '\\n  (...)  \\n'),\n",
       " Text(366.1875, 244.62, 'X[10] <= 47760.0\\ngini = 0.408\\nsamples = 7\\nvalue = [2, 5]'),\n",
       " Text(340.03125, 81.54000000000008, '\\n  (...)  \\n'),\n",
       " Text(392.34375, 81.54000000000008, '\\n  (...)  \\n'),\n",
       " Text(627.75, 570.78, 'X[6] <= 3.5\\ngini = 0.493\\nsamples = 243\\nvalue = [107, 136]'),\n",
       " Text(523.125, 407.70000000000005, 'X[8] <= 4.5\\ngini = 0.5\\nsamples = 137\\nvalue = [69, 68]'),\n",
       " Text(470.8125, 244.62, 'X[8] <= 0.5\\ngini = 0.483\\nsamples = 66\\nvalue = [39, 27]'),\n",
       " Text(444.65625, 81.54000000000008, '\\n  (...)  \\n'),\n",
       " Text(496.96875, 81.54000000000008, '\\n  (...)  \\n'),\n",
       " Text(575.4375, 244.62, 'X[0] <= 50.5\\ngini = 0.488\\nsamples = 71\\nvalue = [30, 41]'),\n",
       " Text(549.28125, 81.54000000000008, '\\n  (...)  \\n'),\n",
       " Text(601.59375, 81.54000000000008, '\\n  (...)  \\n'),\n",
       " Text(732.375, 407.70000000000005, 'X[0] <= 34.5\\ngini = 0.46\\nsamples = 106\\nvalue = [38, 68]'),\n",
       " Text(680.0625, 244.62, 'X[10] <= 76232.5\\ngini = 0.498\\nsamples = 36\\nvalue = [17, 19]'),\n",
       " Text(653.90625, 81.54000000000008, '\\n  (...)  \\n'),\n",
       " Text(706.21875, 81.54000000000008, '\\n  (...)  \\n'),\n",
       " Text(784.6875, 244.62, 'X[7] <= 0.5\\ngini = 0.42\\nsamples = 70\\nvalue = [21, 49]'),\n",
       " Text(758.53125, 81.54000000000008, '\\n  (...)  \\n'),\n",
       " Text(810.84375, 81.54000000000008, '\\n  (...)  \\n')]"
      ]
     },
     "execution_count": 21,
     "metadata": {},
     "output_type": "execute_result"
    },
    {
     "data": {
      "image/png": "[encoded data removed]",
      "text/plain": [
       "<Figure size 1080x1080 with 1 Axes>"
      ]
     },
     "metadata": {
      "needs_background": "light"
     },
     "output_type": "display_data"
    }
   ],
   "source": [
    "fig, ax = plt.subplots(figsize=(15, 15))\n",
    "tree.plot_tree(DTmodel,fontsize=10,max_depth=3)"
   ]
  },
  {
   "cell_type": "code",
   "execution_count": 22,
   "metadata": {
    "execution": {
     "iopub.execute_input": "2020-12-07T21:05:14.231102Z",
     "iopub.status.busy": "2020-12-07T21:05:14.230261Z",
     "iopub.status.idle": "2020-12-07T21:05:14.952062Z",
     "shell.execute_reply": "2020-12-07T21:05:14.952851Z"
    },
    "papermill": {
     "duration": 0.779361,
     "end_time": "2020-12-07T21:05:14.953418",
     "exception": false,
     "start_time": "2020-12-07T21:05:14.174057",
     "status": "completed"
    },
    "tags": []
   },
   "outputs": [
    {
     "data": {
      "image/svg+xml": [
       "<?xml version=\"1.0\" encoding=\"UTF-8\" standalone=\"no\"?>\n",
       "<!DOCTYPE svg PUBLIC \"-//W3C//DTD SVG 1.1//EN\"\n",
       " \"http://www.w3.org/Graphics/SVG/1.1/DTD/svg11.dtd\">\n",
       "<!-- Generated by graphviz version 2.42.3 (20191010.1750)\n",
       " -->\n",
       "<!-- Title: Tree Pages: 1 -->\n",
       "<svg width=\"2207pt\" height=\"564pt\"\n",
       " viewBox=\"0.00 0.00 2207.00 564.00\" xmlns=\"http://www.w3.org/2000/svg\" xmlns:xlink=\"http://www.w3.org/1999/xlink\">\n",
       "<g id=\"graph0\" class=\"graph\" transform=\"scale(1 1) rotate(0) translate(4 560)\">\n",
       "<title>Tree</title>\n",
       "<polygon fill=\"white\" stroke=\"transparent\" points=\"-4,4 -4,-560 2203,-560 2203,4 -4,4\"/>\n",
       "<!-- 0 -->\n",
       "<g id=\"node1\" class=\"node\">\n",
       "<title>0</title>\n",
       "<path fill=\"#f0f7fd\" stroke=\"black\" d=\"M1161.5,-556C1161.5,-556 1060.5,-556 1060.5,-556 1054.5,-556 1048.5,-550 1048.5,-544 1048.5,-544 1048.5,-500 1048.5,-500 1048.5,-494 1054.5,-488 1060.5,-488 1060.5,-488 1161.5,-488 1161.5,-488 1167.5,-488 1173.5,-494 1173.5,-500 1173.5,-500 1173.5,-544 1173.5,-544 1173.5,-550 1167.5,-556 1161.5,-556\"/>\n",
       "<text text-anchor=\"start\" x=\"1079\" y=\"-540.8\" font-family=\"Helvetica,sans-Serif\" font-size=\"14.00\">Dept ≤ 1.5</text>\n",
       "<text text-anchor=\"start\" x=\"1075.5\" y=\"-525.8\" font-family=\"Helvetica,sans-Serif\" font-size=\"14.00\">gini = 0.499</text>\n",
       "<text text-anchor=\"start\" x=\"1066\" y=\"-510.8\" font-family=\"Helvetica,sans-Serif\" font-size=\"14.00\">samples = 400</text>\n",
       "<text text-anchor=\"start\" x=\"1056.5\" y=\"-495.8\" font-family=\"Helvetica,sans-Serif\" font-size=\"14.00\">value = [192, 208]</text>\n",
       "</g>\n",
       "<!-- 1 -->\n",
       "<g id=\"node2\" class=\"node\">\n",
       "<title>1</title>\n",
       "<path fill=\"#fbece1\" stroke=\"black\" d=\"M922,-452C922,-452 836,-452 836,-452 830,-452 824,-446 824,-440 824,-440 824,-396 824,-396 824,-390 830,-384 836,-384 836,-384 922,-384 922,-384 928,-384 934,-390 934,-396 934,-396 934,-440 934,-440 934,-446 928,-452 922,-452\"/>\n",
       "<text text-anchor=\"start\" x=\"839.5\" y=\"-436.8\" font-family=\"Helvetica,sans-Serif\" font-size=\"14.00\">awards ≤ 7.5</text>\n",
       "<text text-anchor=\"start\" x=\"843.5\" y=\"-421.8\" font-family=\"Helvetica,sans-Serif\" font-size=\"14.00\">gini = 0.497</text>\n",
       "<text text-anchor=\"start\" x=\"834\" y=\"-406.8\" font-family=\"Helvetica,sans-Serif\" font-size=\"14.00\">samples = 157</text>\n",
       "<text text-anchor=\"start\" x=\"832\" y=\"-391.8\" font-family=\"Helvetica,sans-Serif\" font-size=\"14.00\">value = [85, 72]</text>\n",
       "</g>\n",
       "<!-- 0&#45;&gt;1 -->\n",
       "<g id=\"edge1\" class=\"edge\">\n",
       "<title>0&#45;&gt;1</title>\n",
       "<path fill=\"none\" stroke=\"black\" d=\"M1048.22,-493.4C1015.85,-479.17 976.43,-461.83 943.78,-447.48\"/>\n",
       "<polygon fill=\"black\" stroke=\"black\" points=\"944.88,-444.14 934.32,-443.32 942.07,-450.55 944.88,-444.14\"/>\n",
       "<text text-anchor=\"middle\" x=\"943.39\" y=\"-462.92\" font-family=\"Helvetica,sans-Serif\" font-size=\"14.00\">True</text>\n",
       "</g>\n",
       "<!-- 110 -->\n",
       "<g id=\"node31\" class=\"node\">\n",
       "<title>110</title>\n",
       "<path fill=\"#d5eaf9\" stroke=\"black\" d=\"M1400.5,-452C1400.5,-452 1299.5,-452 1299.5,-452 1293.5,-452 1287.5,-446 1287.5,-440 1287.5,-440 1287.5,-396 1287.5,-396 1287.5,-390 1293.5,-384 1299.5,-384 1299.5,-384 1400.5,-384 1400.5,-384 1406.5,-384 1412.5,-390 1412.5,-396 1412.5,-396 1412.5,-440 1412.5,-440 1412.5,-446 1406.5,-452 1400.5,-452\"/>\n",
       "<text text-anchor=\"start\" x=\"1315.5\" y=\"-436.8\" font-family=\"Helvetica,sans-Serif\" font-size=\"14.00\">rating ≤ 3.5</text>\n",
       "<text text-anchor=\"start\" x=\"1314.5\" y=\"-421.8\" font-family=\"Helvetica,sans-Serif\" font-size=\"14.00\">gini = 0.493</text>\n",
       "<text text-anchor=\"start\" x=\"1305\" y=\"-406.8\" font-family=\"Helvetica,sans-Serif\" font-size=\"14.00\">samples = 243</text>\n",
       "<text text-anchor=\"start\" x=\"1295.5\" y=\"-391.8\" font-family=\"Helvetica,sans-Serif\" font-size=\"14.00\">value = [107, 136]</text>\n",
       "</g>\n",
       "<!-- 0&#45;&gt;110 -->\n",
       "<g id=\"edge30\" class=\"edge\">\n",
       "<title>0&#45;&gt;110</title>\n",
       "<path fill=\"none\" stroke=\"black\" d=\"M1173.79,-494.2C1205.64,-480.61 1244.48,-464.03 1277.59,-449.9\"/>\n",
       "<polygon fill=\"black\" stroke=\"black\" points=\"1279.39,-452.94 1287.21,-445.8 1276.64,-446.5 1279.39,-452.94\"/>\n",
       "<text text-anchor=\"middle\" x=\"1277.89\" y=\"-465.3\" font-family=\"Helvetica,sans-Serif\" font-size=\"14.00\">False</text>\n",
       "</g>\n",
       "<!-- 2 -->\n",
       "<g id=\"node3\" class=\"node\">\n",
       "<title>2</title>\n",
       "<path fill=\"#f6fafe\" stroke=\"black\" d=\"M516,-348C516,-348 430,-348 430,-348 424,-348 418,-342 418,-336 418,-336 418,-292 418,-292 418,-286 424,-280 430,-280 430,-280 516,-280 516,-280 522,-280 528,-286 528,-292 528,-292 528,-336 528,-336 528,-342 522,-348 516,-348\"/>\n",
       "<text text-anchor=\"start\" x=\"440.5\" y=\"-332.8\" font-family=\"Helvetica,sans-Serif\" font-size=\"14.00\">age ≤ 38.5</text>\n",
       "<text text-anchor=\"start\" x=\"445\" y=\"-317.8\" font-family=\"Helvetica,sans-Serif\" font-size=\"14.00\">gini = 0.5</text>\n",
       "<text text-anchor=\"start\" x=\"428\" y=\"-302.8\" font-family=\"Helvetica,sans-Serif\" font-size=\"14.00\">samples = 123</text>\n",
       "<text text-anchor=\"start\" x=\"426\" y=\"-287.8\" font-family=\"Helvetica,sans-Serif\" font-size=\"14.00\">value = [60, 63]</text>\n",
       "</g>\n",
       "<!-- 1&#45;&gt;2 -->\n",
       "<g id=\"edge2\" class=\"edge\">\n",
       "<title>1&#45;&gt;2</title>\n",
       "<path fill=\"none\" stroke=\"black\" d=\"M823.82,-403.14C749.39,-384.44 617.04,-351.19 537.91,-331.31\"/>\n",
       "<polygon fill=\"black\" stroke=\"black\" points=\"538.61,-327.87 528.06,-328.83 536.9,-334.66 538.61,-327.87\"/>\n",
       "</g>\n",
       "<!-- 89 -->\n",
       "<g id=\"node18\" class=\"node\">\n",
       "<title>89</title>\n",
       "<path fill=\"#eeae80\" stroke=\"black\" d=\"M943,-348C943,-348 815,-348 815,-348 809,-348 803,-342 803,-336 803,-336 803,-292 803,-292 803,-286 809,-280 815,-280 815,-280 943,-280 943,-280 949,-280 955,-286 955,-292 955,-292 955,-336 955,-336 955,-342 949,-348 943,-348\"/>\n",
       "<text text-anchor=\"start\" x=\"811\" y=\"-332.8\" font-family=\"Helvetica,sans-Serif\" font-size=\"14.00\">recruitment_type ≤ 2.5</text>\n",
       "<text text-anchor=\"start\" x=\"843.5\" y=\"-317.8\" font-family=\"Helvetica,sans-Serif\" font-size=\"14.00\">gini = 0.389</text>\n",
       "<text text-anchor=\"start\" x=\"838\" y=\"-302.8\" font-family=\"Helvetica,sans-Serif\" font-size=\"14.00\">samples = 34</text>\n",
       "<text text-anchor=\"start\" x=\"836\" y=\"-287.8\" font-family=\"Helvetica,sans-Serif\" font-size=\"14.00\">value = [25, 9]</text>\n",
       "</g>\n",
       "<!-- 1&#45;&gt;89 -->\n",
       "<g id=\"edge17\" class=\"edge\">\n",
       "<title>1&#45;&gt;89</title>\n",
       "<path fill=\"none\" stroke=\"black\" d=\"M879,-383.88C879,-375.78 879,-366.98 879,-358.47\"/>\n",
       "<polygon fill=\"black\" stroke=\"black\" points=\"882.5,-358.3 879,-348.3 875.5,-358.3 882.5,-358.3\"/>\n",
       "</g>\n",
       "<!-- 3 -->\n",
       "<g id=\"node4\" class=\"node\">\n",
       "<title>3</title>\n",
       "<path fill=\"#c2e1f7\" stroke=\"black\" d=\"M274,-244C274,-244 188,-244 188,-244 182,-244 176,-238 176,-232 176,-232 176,-188 176,-188 176,-182 182,-176 188,-176 188,-176 274,-176 274,-176 280,-176 286,-182 286,-188 286,-188 286,-232 286,-232 286,-238 280,-244 274,-244\"/>\n",
       "<text text-anchor=\"start\" x=\"198.5\" y=\"-228.8\" font-family=\"Helvetica,sans-Serif\" font-size=\"14.00\">age ≤ 27.5</text>\n",
       "<text text-anchor=\"start\" x=\"195.5\" y=\"-213.8\" font-family=\"Helvetica,sans-Serif\" font-size=\"14.00\">gini = 0.484</text>\n",
       "<text text-anchor=\"start\" x=\"190\" y=\"-198.8\" font-family=\"Helvetica,sans-Serif\" font-size=\"14.00\">samples = 61</text>\n",
       "<text text-anchor=\"start\" x=\"184\" y=\"-183.8\" font-family=\"Helvetica,sans-Serif\" font-size=\"14.00\">value = [25, 36]</text>\n",
       "</g>\n",
       "<!-- 2&#45;&gt;3 -->\n",
       "<g id=\"edge3\" class=\"edge\">\n",
       "<title>2&#45;&gt;3</title>\n",
       "<path fill=\"none\" stroke=\"black\" d=\"M417.78,-289.73C381.52,-274.44 333.93,-254.38 295.86,-238.34\"/>\n",
       "<polygon fill=\"black\" stroke=\"black\" points=\"296.97,-235.01 286.4,-234.35 294.25,-241.46 296.97,-235.01\"/>\n",
       "</g>\n",
       "<!-- 46 -->\n",
       "<g id=\"node11\" class=\"node\">\n",
       "<title>46</title>\n",
       "<path fill=\"#f9e2d2\" stroke=\"black\" d=\"M516,-244C516,-244 430,-244 430,-244 424,-244 418,-238 418,-232 418,-232 418,-188 418,-188 418,-182 424,-176 430,-176 430,-176 516,-176 516,-176 522,-176 528,-182 528,-188 528,-188 528,-232 528,-232 528,-238 522,-244 516,-244\"/>\n",
       "<text text-anchor=\"start\" x=\"426\" y=\"-228.8\" font-family=\"Helvetica,sans-Serif\" font-size=\"14.00\">education ≤ 0.5</text>\n",
       "<text text-anchor=\"start\" x=\"437.5\" y=\"-213.8\" font-family=\"Helvetica,sans-Serif\" font-size=\"14.00\">gini = 0.492</text>\n",
       "<text text-anchor=\"start\" x=\"432\" y=\"-198.8\" font-family=\"Helvetica,sans-Serif\" font-size=\"14.00\">samples = 62</text>\n",
       "<text text-anchor=\"start\" x=\"426\" y=\"-183.8\" font-family=\"Helvetica,sans-Serif\" font-size=\"14.00\">value = [35, 27]</text>\n",
       "</g>\n",
       "<!-- 2&#45;&gt;46 -->\n",
       "<g id=\"edge10\" class=\"edge\">\n",
       "<title>2&#45;&gt;46</title>\n",
       "<path fill=\"none\" stroke=\"black\" d=\"M473,-279.88C473,-271.78 473,-262.98 473,-254.47\"/>\n",
       "<polygon fill=\"black\" stroke=\"black\" points=\"476.5,-254.3 473,-244.3 469.5,-254.3 476.5,-254.3\"/>\n",
       "</g>\n",
       "<!-- 4 -->\n",
       "<g id=\"node5\" class=\"node\">\n",
       "<title>4</title>\n",
       "<path fill=\"#f4c9aa\" stroke=\"black\" d=\"M138,-140C138,-140 58,-140 58,-140 52,-140 46,-134 46,-128 46,-128 46,-84 46,-84 46,-78 52,-72 58,-72 58,-72 138,-72 138,-72 144,-72 150,-78 150,-84 150,-84 150,-128 150,-128 150,-134 144,-140 138,-140\"/>\n",
       "<text text-anchor=\"start\" x=\"54\" y=\"-124.8\" font-family=\"Helvetica,sans-Serif\" font-size=\"14.00\">job_level ≤ 2.5</text>\n",
       "<text text-anchor=\"start\" x=\"62.5\" y=\"-109.8\" font-family=\"Helvetica,sans-Serif\" font-size=\"14.00\">gini = 0.463</text>\n",
       "<text text-anchor=\"start\" x=\"57\" y=\"-94.8\" font-family=\"Helvetica,sans-Serif\" font-size=\"14.00\">samples = 22</text>\n",
       "<text text-anchor=\"start\" x=\"55\" y=\"-79.8\" font-family=\"Helvetica,sans-Serif\" font-size=\"14.00\">value = [14, 8]</text>\n",
       "</g>\n",
       "<!-- 3&#45;&gt;4 -->\n",
       "<g id=\"edge4\" class=\"edge\">\n",
       "<title>3&#45;&gt;4</title>\n",
       "<path fill=\"none\" stroke=\"black\" d=\"M187.82,-175.88C175.62,-166.53 162.23,-156.26 149.59,-146.57\"/>\n",
       "<polygon fill=\"black\" stroke=\"black\" points=\"151.48,-143.61 141.42,-140.3 147.22,-149.16 151.48,-143.61\"/>\n",
       "</g>\n",
       "<!-- 19 -->\n",
       "<g id=\"node8\" class=\"node\">\n",
       "<title>19</title>\n",
       "<path fill=\"#87c4ef\" stroke=\"black\" d=\"M282,-140C282,-140 180,-140 180,-140 174,-140 168,-134 168,-128 168,-128 168,-84 168,-84 168,-78 174,-72 180,-72 180,-72 282,-72 282,-72 288,-72 294,-78 294,-84 294,-84 294,-128 294,-128 294,-134 288,-140 282,-140\"/>\n",
       "<text text-anchor=\"start\" x=\"176\" y=\"-124.8\" font-family=\"Helvetica,sans-Serif\" font-size=\"14.00\">certifications ≤ 0.5</text>\n",
       "<text text-anchor=\"start\" x=\"195.5\" y=\"-109.8\" font-family=\"Helvetica,sans-Serif\" font-size=\"14.00\">gini = 0.405</text>\n",
       "<text text-anchor=\"start\" x=\"190\" y=\"-94.8\" font-family=\"Helvetica,sans-Serif\" font-size=\"14.00\">samples = 39</text>\n",
       "<text text-anchor=\"start\" x=\"184\" y=\"-79.8\" font-family=\"Helvetica,sans-Serif\" font-size=\"14.00\">value = [11, 28]</text>\n",
       "</g>\n",
       "<!-- 3&#45;&gt;19 -->\n",
       "<g id=\"edge7\" class=\"edge\">\n",
       "<title>3&#45;&gt;19</title>\n",
       "<path fill=\"none\" stroke=\"black\" d=\"M231,-175.88C231,-167.78 231,-158.98 231,-150.47\"/>\n",
       "<polygon fill=\"black\" stroke=\"black\" points=\"234.5,-150.3 231,-140.3 227.5,-150.3 234.5,-150.3\"/>\n",
       "</g>\n",
       "<!-- 5 -->\n",
       "<g id=\"node6\" class=\"node\">\n",
       "<title>5</title>\n",
       "<path fill=\"#c0c0c0\" stroke=\"black\" d=\"M42,-36C42,-36 12,-36 12,-36 6,-36 0,-30 0,-24 0,-24 0,-12 0,-12 0,-6 6,0 12,0 12,0 42,0 42,0 48,0 54,-6 54,-12 54,-12 54,-24 54,-24 54,-30 48,-36 42,-36\"/>\n",
       "<text text-anchor=\"middle\" x=\"27\" y=\"-14.3\" font-family=\"Helvetica,sans-Serif\" font-size=\"14.00\">(...)</text>\n",
       "</g>\n",
       "<!-- 4&#45;&gt;5 -->\n",
       "<g id=\"edge5\" class=\"edge\">\n",
       "<title>4&#45;&gt;5</title>\n",
       "<path fill=\"none\" stroke=\"black\" d=\"M70.75,-72C63.17,-62.81 55.05,-52.97 47.89,-44.3\"/>\n",
       "<polygon fill=\"black\" stroke=\"black\" points=\"50.43,-41.89 41.37,-36.4 45.04,-46.34 50.43,-41.89\"/>\n",
       "</g>\n",
       "<!-- 14 -->\n",
       "<g id=\"node7\" class=\"node\">\n",
       "<title>14</title>\n",
       "<path fill=\"#c0c0c0\" stroke=\"black\" d=\"M114,-36C114,-36 84,-36 84,-36 78,-36 72,-30 72,-24 72,-24 72,-12 72,-12 72,-6 78,0 84,0 84,0 114,0 114,0 120,0 126,-6 126,-12 126,-12 126,-24 126,-24 126,-30 120,-36 114,-36\"/>\n",
       "<text text-anchor=\"middle\" x=\"99\" y=\"-14.3\" font-family=\"Helvetica,sans-Serif\" font-size=\"14.00\">(...)</text>\n",
       "</g>\n",
       "<!-- 4&#45;&gt;14 -->\n",
       "<g id=\"edge6\" class=\"edge\">\n",
       "<title>4&#45;&gt;14</title>\n",
       "<path fill=\"none\" stroke=\"black\" d=\"M98.38,-72C98.48,-63.56 98.59,-54.59 98.68,-46.47\"/>\n",
       "<polygon fill=\"black\" stroke=\"black\" points=\"102.18,-46.44 98.8,-36.4 95.18,-46.36 102.18,-46.44\"/>\n",
       "</g>\n",
       "<!-- 20 -->\n",
       "<g id=\"node9\" class=\"node\">\n",
       "<title>20</title>\n",
       "<path fill=\"#c0c0c0\" stroke=\"black\" d=\"M209,-36C209,-36 179,-36 179,-36 173,-36 167,-30 167,-24 167,-24 167,-12 167,-12 167,-6 173,0 179,0 179,0 209,0 209,0 215,0 221,-6 221,-12 221,-12 221,-24 221,-24 221,-30 215,-36 209,-36\"/>\n",
       "<text text-anchor=\"middle\" x=\"194\" y=\"-14.3\" font-family=\"Helvetica,sans-Serif\" font-size=\"14.00\">(...)</text>\n",
       "</g>\n",
       "<!-- 19&#45;&gt;20 -->\n",
       "<g id=\"edge8\" class=\"edge\">\n",
       "<title>19&#45;&gt;20</title>\n",
       "<path fill=\"none\" stroke=\"black\" d=\"M216.8,-72C213.05,-63.28 209.05,-53.98 205.47,-45.65\"/>\n",
       "<polygon fill=\"black\" stroke=\"black\" points=\"208.65,-44.21 201.49,-36.4 202.22,-46.97 208.65,-44.21\"/>\n",
       "</g>\n",
       "<!-- 31 -->\n",
       "<g id=\"node10\" class=\"node\">\n",
       "<title>31</title>\n",
       "<path fill=\"#c0c0c0\" stroke=\"black\" d=\"M281,-36C281,-36 251,-36 251,-36 245,-36 239,-30 239,-24 239,-24 239,-12 239,-12 239,-6 245,0 251,0 251,0 281,0 281,0 287,0 293,-6 293,-12 293,-12 293,-24 293,-24 293,-30 287,-36 281,-36\"/>\n",
       "<text text-anchor=\"middle\" x=\"266\" y=\"-14.3\" font-family=\"Helvetica,sans-Serif\" font-size=\"14.00\">(...)</text>\n",
       "</g>\n",
       "<!-- 19&#45;&gt;31 -->\n",
       "<g id=\"edge9\" class=\"edge\">\n",
       "<title>19&#45;&gt;31</title>\n",
       "<path fill=\"none\" stroke=\"black\" d=\"M244.43,-72C247.94,-63.38 251.68,-54.19 255.04,-45.92\"/>\n",
       "<polygon fill=\"black\" stroke=\"black\" points=\"258.39,-46.99 258.92,-36.4 251.91,-44.35 258.39,-46.99\"/>\n",
       "</g>\n",
       "<!-- 47 -->\n",
       "<g id=\"node12\" class=\"node\">\n",
       "<title>47</title>\n",
       "<path fill=\"#e6f3fc\" stroke=\"black\" d=\"M452,-140C452,-140 324,-140 324,-140 318,-140 312,-134 312,-128 312,-128 312,-84 312,-84 312,-78 318,-72 324,-72 324,-72 452,-72 452,-72 458,-72 464,-78 464,-84 464,-84 464,-128 464,-128 464,-134 458,-140 452,-140\"/>\n",
       "<text text-anchor=\"start\" x=\"320\" y=\"-124.8\" font-family=\"Helvetica,sans-Serif\" font-size=\"14.00\">recruitment_type ≤ 1.5</text>\n",
       "<text text-anchor=\"start\" x=\"352.5\" y=\"-109.8\" font-family=\"Helvetica,sans-Serif\" font-size=\"14.00\">gini = 0.498</text>\n",
       "<text text-anchor=\"start\" x=\"347\" y=\"-94.8\" font-family=\"Helvetica,sans-Serif\" font-size=\"14.00\">samples = 30</text>\n",
       "<text text-anchor=\"start\" x=\"341\" y=\"-79.8\" font-family=\"Helvetica,sans-Serif\" font-size=\"14.00\">value = [14, 16]</text>\n",
       "</g>\n",
       "<!-- 46&#45;&gt;47 -->\n",
       "<g id=\"edge11\" class=\"edge\">\n",
       "<title>46&#45;&gt;47</title>\n",
       "<path fill=\"none\" stroke=\"black\" d=\"M445.4,-175.88C438.05,-167.07 430.03,-157.43 422.36,-148.24\"/>\n",
       "<polygon fill=\"black\" stroke=\"black\" points=\"424.84,-145.74 415.75,-140.3 419.46,-150.22 424.84,-145.74\"/>\n",
       "</g>\n",
       "<!-- 66 -->\n",
       "<g id=\"node15\" class=\"node\">\n",
       "<title>66</title>\n",
       "<path fill=\"#f3c3a1\" stroke=\"black\" d=\"M622,-140C622,-140 494,-140 494,-140 488,-140 482,-134 482,-128 482,-128 482,-84 482,-84 482,-78 488,-72 494,-72 494,-72 622,-72 622,-72 628,-72 634,-78 634,-84 634,-84 634,-128 634,-128 634,-134 628,-140 622,-140\"/>\n",
       "<text text-anchor=\"start\" x=\"490\" y=\"-124.8\" font-family=\"Helvetica,sans-Serif\" font-size=\"14.00\">recruitment_type ≤ 1.5</text>\n",
       "<text text-anchor=\"start\" x=\"522.5\" y=\"-109.8\" font-family=\"Helvetica,sans-Serif\" font-size=\"14.00\">gini = 0.451</text>\n",
       "<text text-anchor=\"start\" x=\"517\" y=\"-94.8\" font-family=\"Helvetica,sans-Serif\" font-size=\"14.00\">samples = 32</text>\n",
       "<text text-anchor=\"start\" x=\"511\" y=\"-79.8\" font-family=\"Helvetica,sans-Serif\" font-size=\"14.00\">value = [21, 11]</text>\n",
       "</g>\n",
       "<!-- 46&#45;&gt;66 -->\n",
       "<g id=\"edge14\" class=\"edge\">\n",
       "<title>46&#45;&gt;66</title>\n",
       "<path fill=\"none\" stroke=\"black\" d=\"M500.6,-175.88C507.95,-167.07 515.97,-157.43 523.64,-148.24\"/>\n",
       "<polygon fill=\"black\" stroke=\"black\" points=\"526.54,-150.22 530.25,-140.3 521.16,-145.74 526.54,-150.22\"/>\n",
       "</g>\n",
       "<!-- 48 -->\n",
       "<g id=\"node13\" class=\"node\">\n",
       "<title>48</title>\n",
       "<path fill=\"#c0c0c0\" stroke=\"black\" d=\"M364,-36C364,-36 334,-36 334,-36 328,-36 322,-30 322,-24 322,-24 322,-12 322,-12 322,-6 328,0 334,0 334,0 364,0 364,0 370,0 376,-6 376,-12 376,-12 376,-24 376,-24 376,-30 370,-36 364,-36\"/>\n",
       "<text text-anchor=\"middle\" x=\"349\" y=\"-14.3\" font-family=\"Helvetica,sans-Serif\" font-size=\"14.00\">(...)</text>\n",
       "</g>\n",
       "<!-- 47&#45;&gt;48 -->\n",
       "<g id=\"edge12\" class=\"edge\">\n",
       "<title>47&#45;&gt;48</title>\n",
       "<path fill=\"none\" stroke=\"black\" d=\"M373.03,-72C369.08,-63.28 364.87,-53.98 361.09,-45.65\"/>\n",
       "<polygon fill=\"black\" stroke=\"black\" points=\"364.21,-44.07 356.89,-36.4 357.83,-46.96 364.21,-44.07\"/>\n",
       "</g>\n",
       "<!-- 57 -->\n",
       "<g id=\"node14\" class=\"node\">\n",
       "<title>57</title>\n",
       "<path fill=\"#c0c0c0\" stroke=\"black\" d=\"M436,-36C436,-36 406,-36 406,-36 400,-36 394,-30 394,-24 394,-24 394,-12 394,-12 394,-6 400,0 406,0 406,0 436,0 436,0 442,0 448,-6 448,-12 448,-12 448,-24 448,-24 448,-30 442,-36 436,-36\"/>\n",
       "<text text-anchor=\"middle\" x=\"421\" y=\"-14.3\" font-family=\"Helvetica,sans-Serif\" font-size=\"14.00\">(...)</text>\n",
       "</g>\n",
       "<!-- 47&#45;&gt;57 -->\n",
       "<g id=\"edge13\" class=\"edge\">\n",
       "<title>47&#45;&gt;57</title>\n",
       "<path fill=\"none\" stroke=\"black\" d=\"M400.66,-72C403.97,-63.38 407.5,-54.19 410.67,-45.92\"/>\n",
       "<polygon fill=\"black\" stroke=\"black\" points=\"414.01,-46.99 414.32,-36.4 407.47,-44.49 414.01,-46.99\"/>\n",
       "</g>\n",
       "<!-- 67 -->\n",
       "<g id=\"node16\" class=\"node\">\n",
       "<title>67</title>\n",
       "<path fill=\"#c0c0c0\" stroke=\"black\" d=\"M514,-36C514,-36 484,-36 484,-36 478,-36 472,-30 472,-24 472,-24 472,-12 472,-12 472,-6 478,0 484,0 484,0 514,0 514,0 520,0 526,-6 526,-12 526,-12 526,-24 526,-24 526,-30 520,-36 514,-36\"/>\n",
       "<text text-anchor=\"middle\" x=\"499\" y=\"-14.3\" font-family=\"Helvetica,sans-Serif\" font-size=\"14.00\">(...)</text>\n",
       "</g>\n",
       "<!-- 66&#45;&gt;67 -->\n",
       "<g id=\"edge15\" class=\"edge\">\n",
       "<title>66&#45;&gt;67</title>\n",
       "<path fill=\"none\" stroke=\"black\" d=\"M535.36,-72C529.18,-63 522.58,-53.38 516.73,-44.84\"/>\n",
       "<polygon fill=\"black\" stroke=\"black\" points=\"519.48,-42.67 510.94,-36.4 513.71,-46.63 519.48,-42.67\"/>\n",
       "</g>\n",
       "<!-- 72 -->\n",
       "<g id=\"node17\" class=\"node\">\n",
       "<title>72</title>\n",
       "<path fill=\"#c0c0c0\" stroke=\"black\" d=\"M586,-36C586,-36 556,-36 556,-36 550,-36 544,-30 544,-24 544,-24 544,-12 544,-12 544,-6 550,0 556,0 556,0 586,0 586,0 592,0 598,-6 598,-12 598,-12 598,-24 598,-24 598,-30 592,-36 586,-36\"/>\n",
       "<text text-anchor=\"middle\" x=\"571\" y=\"-14.3\" font-family=\"Helvetica,sans-Serif\" font-size=\"14.00\">(...)</text>\n",
       "</g>\n",
       "<!-- 66&#45;&gt;72 -->\n",
       "<g id=\"edge16\" class=\"edge\">\n",
       "<title>66&#45;&gt;72</title>\n",
       "<path fill=\"none\" stroke=\"black\" d=\"M562.99,-72C564.26,-63.56 565.62,-54.59 566.85,-46.47\"/>\n",
       "<polygon fill=\"black\" stroke=\"black\" points=\"570.34,-46.81 568.37,-36.4 563.41,-45.77 570.34,-46.81\"/>\n",
       "</g>\n",
       "<!-- 90 -->\n",
       "<g id=\"node19\" class=\"node\">\n",
       "<title>90</title>\n",
       "<path fill=\"#ea975b\" stroke=\"black\" d=\"M854,-244C854,-244 776,-244 776,-244 770,-244 764,-238 764,-232 764,-232 764,-188 764,-188 764,-182 770,-176 776,-176 776,-176 854,-176 854,-176 860,-176 866,-182 866,-188 866,-188 866,-232 866,-232 866,-238 860,-244 854,-244\"/>\n",
       "<text text-anchor=\"start\" x=\"775.5\" y=\"-228.8\" font-family=\"Helvetica,sans-Serif\" font-size=\"14.00\">awards ≤ 8.5</text>\n",
       "<text text-anchor=\"start\" x=\"779.5\" y=\"-213.8\" font-family=\"Helvetica,sans-Serif\" font-size=\"14.00\">gini = 0.252</text>\n",
       "<text text-anchor=\"start\" x=\"774\" y=\"-198.8\" font-family=\"Helvetica,sans-Serif\" font-size=\"14.00\">samples = 27</text>\n",
       "<text text-anchor=\"start\" x=\"772\" y=\"-183.8\" font-family=\"Helvetica,sans-Serif\" font-size=\"14.00\">value = [23, 4]</text>\n",
       "</g>\n",
       "<!-- 89&#45;&gt;90 -->\n",
       "<g id=\"edge18\" class=\"edge\">\n",
       "<title>89&#45;&gt;90</title>\n",
       "<path fill=\"none\" stroke=\"black\" d=\"M858.22,-279.88C852.8,-271.24 846.89,-261.82 841.22,-252.79\"/>\n",
       "<polygon fill=\"black\" stroke=\"black\" points=\"844.17,-250.91 835.89,-244.3 838.24,-254.63 844.17,-250.91\"/>\n",
       "</g>\n",
       "<!-- 105 -->\n",
       "<g id=\"node26\" class=\"node\">\n",
       "<title>105</title>\n",
       "<path fill=\"#88c4ef\" stroke=\"black\" d=\"M989.5,-244C989.5,-244 896.5,-244 896.5,-244 890.5,-244 884.5,-238 884.5,-232 884.5,-232 884.5,-188 884.5,-188 884.5,-182 890.5,-176 896.5,-176 896.5,-176 989.5,-176 989.5,-176 995.5,-176 1001.5,-182 1001.5,-188 1001.5,-188 1001.5,-232 1001.5,-232 1001.5,-238 995.5,-244 989.5,-244\"/>\n",
       "<text text-anchor=\"start\" x=\"892.5\" y=\"-228.8\" font-family=\"Helvetica,sans-Serif\" font-size=\"14.00\">salary ≤ 47760.0</text>\n",
       "<text text-anchor=\"start\" x=\"907.5\" y=\"-213.8\" font-family=\"Helvetica,sans-Serif\" font-size=\"14.00\">gini = 0.408</text>\n",
       "<text text-anchor=\"start\" x=\"905.5\" y=\"-198.8\" font-family=\"Helvetica,sans-Serif\" font-size=\"14.00\">samples = 7</text>\n",
       "<text text-anchor=\"start\" x=\"903.5\" y=\"-183.8\" font-family=\"Helvetica,sans-Serif\" font-size=\"14.00\">value = [2, 5]</text>\n",
       "</g>\n",
       "<!-- 89&#45;&gt;105 -->\n",
       "<g id=\"edge25\" class=\"edge\">\n",
       "<title>89&#45;&gt;105</title>\n",
       "<path fill=\"none\" stroke=\"black\" d=\"M899.78,-279.88C905.2,-271.24 911.11,-261.82 916.78,-252.79\"/>\n",
       "<polygon fill=\"black\" stroke=\"black\" points=\"919.76,-254.63 922.11,-244.3 913.83,-250.91 919.76,-254.63\"/>\n",
       "</g>\n",
       "<!-- 91 -->\n",
       "<g id=\"node20\" class=\"node\">\n",
       "<title>91</title>\n",
       "<path fill=\"#e78a47\" stroke=\"black\" d=\"M742,-140C742,-140 664,-140 664,-140 658,-140 652,-134 652,-128 652,-128 652,-84 652,-84 652,-78 658,-72 664,-72 664,-72 742,-72 742,-72 748,-72 754,-78 754,-84 754,-84 754,-128 754,-128 754,-134 748,-140 742,-140\"/>\n",
       "<text text-anchor=\"start\" x=\"671\" y=\"-124.8\" font-family=\"Helvetica,sans-Serif\" font-size=\"14.00\">Dept ≤ 0.5</text>\n",
       "<text text-anchor=\"start\" x=\"667.5\" y=\"-109.8\" font-family=\"Helvetica,sans-Serif\" font-size=\"14.00\">gini = 0.124</text>\n",
       "<text text-anchor=\"start\" x=\"662\" y=\"-94.8\" font-family=\"Helvetica,sans-Serif\" font-size=\"14.00\">samples = 15</text>\n",
       "<text text-anchor=\"start\" x=\"660\" y=\"-79.8\" font-family=\"Helvetica,sans-Serif\" font-size=\"14.00\">value = [14, 1]</text>\n",
       "</g>\n",
       "<!-- 90&#45;&gt;91 -->\n",
       "<g id=\"edge19\" class=\"edge\">\n",
       "<title>90&#45;&gt;91</title>\n",
       "<path fill=\"none\" stroke=\"black\" d=\"M778.64,-175.88C768.56,-166.71 757.52,-156.65 747.06,-147.12\"/>\n",
       "<polygon fill=\"black\" stroke=\"black\" points=\"749.31,-144.44 739.56,-140.3 744.6,-149.62 749.31,-144.44\"/>\n",
       "</g>\n",
       "<!-- 96 -->\n",
       "<g id=\"node23\" class=\"node\">\n",
       "<title>96</title>\n",
       "<path fill=\"#eeab7b\" stroke=\"black\" d=\"M858,-140C858,-140 784,-140 784,-140 778,-140 772,-134 772,-128 772,-128 772,-84 772,-84 772,-78 778,-72 784,-72 784,-72 858,-72 858,-72 864,-72 870,-78 870,-84 870,-84 870,-128 870,-128 870,-134 864,-140 858,-140\"/>\n",
       "<text text-anchor=\"start\" x=\"786.5\" y=\"-124.8\" font-family=\"Helvetica,sans-Serif\" font-size=\"14.00\">rating ≤ 4.5</text>\n",
       "<text text-anchor=\"start\" x=\"785.5\" y=\"-109.8\" font-family=\"Helvetica,sans-Serif\" font-size=\"14.00\">gini = 0.375</text>\n",
       "<text text-anchor=\"start\" x=\"780\" y=\"-94.8\" font-family=\"Helvetica,sans-Serif\" font-size=\"14.00\">samples = 12</text>\n",
       "<text text-anchor=\"start\" x=\"781.5\" y=\"-79.8\" font-family=\"Helvetica,sans-Serif\" font-size=\"14.00\">value = [9, 3]</text>\n",
       "</g>\n",
       "<!-- 90&#45;&gt;96 -->\n",
       "<g id=\"edge22\" class=\"edge\">\n",
       "<title>90&#45;&gt;96</title>\n",
       "<path fill=\"none\" stroke=\"black\" d=\"M816.95,-175.88C817.42,-167.78 817.94,-158.98 818.44,-150.47\"/>\n",
       "<polygon fill=\"black\" stroke=\"black\" points=\"821.95,-150.49 819.04,-140.3 814.96,-150.08 821.95,-150.49\"/>\n",
       "</g>\n",
       "<!-- 92 -->\n",
       "<g id=\"node21\" class=\"node\">\n",
       "<title>92</title>\n",
       "<path fill=\"#c0c0c0\" stroke=\"black\" d=\"M661,-36C661,-36 631,-36 631,-36 625,-36 619,-30 619,-24 619,-24 619,-12 619,-12 619,-6 625,0 631,0 631,0 661,0 661,0 667,0 673,-6 673,-12 673,-12 673,-24 673,-24 673,-30 667,-36 661,-36\"/>\n",
       "<text text-anchor=\"middle\" x=\"646\" y=\"-14.3\" font-family=\"Helvetica,sans-Serif\" font-size=\"14.00\">(...)</text>\n",
       "</g>\n",
       "<!-- 91&#45;&gt;92 -->\n",
       "<g id=\"edge20\" class=\"edge\">\n",
       "<title>91&#45;&gt;92</title>\n",
       "<path fill=\"none\" stroke=\"black\" d=\"M681.13,-72C675.16,-63 668.79,-53.38 663.13,-44.84\"/>\n",
       "<polygon fill=\"black\" stroke=\"black\" points=\"665.98,-42.81 657.53,-36.4 660.14,-46.67 665.98,-42.81\"/>\n",
       "</g>\n",
       "<!-- 95 -->\n",
       "<g id=\"node22\" class=\"node\">\n",
       "<title>95</title>\n",
       "<path fill=\"#c0c0c0\" stroke=\"black\" d=\"M733,-36C733,-36 703,-36 703,-36 697,-36 691,-30 691,-24 691,-24 691,-12 691,-12 691,-6 697,0 703,0 703,0 733,0 733,0 739,0 745,-6 745,-12 745,-12 745,-24 745,-24 745,-30 739,-36 733,-36\"/>\n",
       "<text text-anchor=\"middle\" x=\"718\" y=\"-14.3\" font-family=\"Helvetica,sans-Serif\" font-size=\"14.00\">(...)</text>\n",
       "</g>\n",
       "<!-- 91&#45;&gt;95 -->\n",
       "<g id=\"edge21\" class=\"edge\">\n",
       "<title>91&#45;&gt;95</title>\n",
       "<path fill=\"none\" stroke=\"black\" d=\"M708.76,-72C710.23,-63.56 711.79,-54.59 713.21,-46.47\"/>\n",
       "<polygon fill=\"black\" stroke=\"black\" points=\"716.69,-46.86 714.96,-36.4 709.8,-45.65 716.69,-46.86\"/>\n",
       "</g>\n",
       "<!-- 97 -->\n",
       "<g id=\"node24\" class=\"node\">\n",
       "<title>97</title>\n",
       "<path fill=\"#c0c0c0\" stroke=\"black\" d=\"M806,-36C806,-36 776,-36 776,-36 770,-36 764,-30 764,-24 764,-24 764,-12 764,-12 764,-6 770,0 776,0 776,0 806,0 806,0 812,0 818,-6 818,-12 818,-12 818,-24 818,-24 818,-30 812,-36 806,-36\"/>\n",
       "<text text-anchor=\"middle\" x=\"791\" y=\"-14.3\" font-family=\"Helvetica,sans-Serif\" font-size=\"14.00\">(...)</text>\n",
       "</g>\n",
       "<!-- 96&#45;&gt;97 -->\n",
       "<g id=\"edge23\" class=\"edge\">\n",
       "<title>96&#45;&gt;97</title>\n",
       "<path fill=\"none\" stroke=\"black\" d=\"M809.49,-72C806.48,-63.38 803.27,-54.19 800.39,-45.92\"/>\n",
       "<polygon fill=\"black\" stroke=\"black\" points=\"803.67,-44.69 797.07,-36.4 797.06,-47 803.67,-44.69\"/>\n",
       "</g>\n",
       "<!-- 102 -->\n",
       "<g id=\"node25\" class=\"node\">\n",
       "<title>102</title>\n",
       "<path fill=\"#c0c0c0\" stroke=\"black\" d=\"M878,-36C878,-36 848,-36 848,-36 842,-36 836,-30 836,-24 836,-24 836,-12 836,-12 836,-6 842,0 848,0 848,0 878,0 878,0 884,0 890,-6 890,-12 890,-12 890,-24 890,-24 890,-30 884,-36 878,-36\"/>\n",
       "<text text-anchor=\"middle\" x=\"863\" y=\"-14.3\" font-family=\"Helvetica,sans-Serif\" font-size=\"14.00\">(...)</text>\n",
       "</g>\n",
       "<!-- 96&#45;&gt;102 -->\n",
       "<g id=\"edge24\" class=\"edge\">\n",
       "<title>96&#45;&gt;102</title>\n",
       "<path fill=\"none\" stroke=\"black\" d=\"M837.12,-72C841.37,-63.28 845.91,-53.98 849.98,-45.65\"/>\n",
       "<polygon fill=\"black\" stroke=\"black\" points=\"853.26,-46.93 854.5,-36.4 846.97,-43.85 853.26,-46.93\"/>\n",
       "</g>\n",
       "<!-- 106 -->\n",
       "<g id=\"node27\" class=\"node\">\n",
       "<title>106</title>\n",
       "<path fill=\"#f2c09c\" stroke=\"black\" d=\"M971.5,-140C971.5,-140 900.5,-140 900.5,-140 894.5,-140 888.5,-134 888.5,-128 888.5,-128 888.5,-84 888.5,-84 888.5,-78 894.5,-72 900.5,-72 900.5,-72 971.5,-72 971.5,-72 977.5,-72 983.5,-78 983.5,-84 983.5,-84 983.5,-128 983.5,-128 983.5,-134 977.5,-140 971.5,-140\"/>\n",
       "<text text-anchor=\"start\" x=\"901.5\" y=\"-124.8\" font-family=\"Helvetica,sans-Serif\" font-size=\"14.00\">rating ≤ 3.0</text>\n",
       "<text text-anchor=\"start\" x=\"900.5\" y=\"-109.8\" font-family=\"Helvetica,sans-Serif\" font-size=\"14.00\">gini = 0.444</text>\n",
       "<text text-anchor=\"start\" x=\"898.5\" y=\"-94.8\" font-family=\"Helvetica,sans-Serif\" font-size=\"14.00\">samples = 3</text>\n",
       "<text text-anchor=\"start\" x=\"896.5\" y=\"-79.8\" font-family=\"Helvetica,sans-Serif\" font-size=\"14.00\">value = [2, 1]</text>\n",
       "</g>\n",
       "<!-- 105&#45;&gt;106 -->\n",
       "<g id=\"edge26\" class=\"edge\">\n",
       "<title>105&#45;&gt;106</title>\n",
       "<path fill=\"none\" stroke=\"black\" d=\"M940.73,-175.88C940.17,-167.78 939.57,-158.98 938.98,-150.47\"/>\n",
       "<polygon fill=\"black\" stroke=\"black\" points=\"942.46,-150.04 938.29,-140.3 935.48,-150.52 942.46,-150.04\"/>\n",
       "</g>\n",
       "<!-- 109 -->\n",
       "<g id=\"node30\" class=\"node\">\n",
       "<title>109</title>\n",
       "<path fill=\"#399de5\" stroke=\"black\" d=\"M1084.5,-132.5C1084.5,-132.5 1013.5,-132.5 1013.5,-132.5 1007.5,-132.5 1001.5,-126.5 1001.5,-120.5 1001.5,-120.5 1001.5,-91.5 1001.5,-91.5 1001.5,-85.5 1007.5,-79.5 1013.5,-79.5 1013.5,-79.5 1084.5,-79.5 1084.5,-79.5 1090.5,-79.5 1096.5,-85.5 1096.5,-91.5 1096.5,-91.5 1096.5,-120.5 1096.5,-120.5 1096.5,-126.5 1090.5,-132.5 1084.5,-132.5\"/>\n",
       "<text text-anchor=\"start\" x=\"1021\" y=\"-117.3\" font-family=\"Helvetica,sans-Serif\" font-size=\"14.00\">gini = 0.0</text>\n",
       "<text text-anchor=\"start\" x=\"1011.5\" y=\"-102.3\" font-family=\"Helvetica,sans-Serif\" font-size=\"14.00\">samples = 4</text>\n",
       "<text text-anchor=\"start\" x=\"1009.5\" y=\"-87.3\" font-family=\"Helvetica,sans-Serif\" font-size=\"14.00\">value = [0, 4]</text>\n",
       "</g>\n",
       "<!-- 105&#45;&gt;109 -->\n",
       "<g id=\"edge29\" class=\"edge\">\n",
       "<title>105&#45;&gt;109</title>\n",
       "<path fill=\"none\" stroke=\"black\" d=\"M977.42,-175.88C989.53,-164.23 1003.13,-151.14 1015.19,-139.53\"/>\n",
       "<polygon fill=\"black\" stroke=\"black\" points=\"1017.7,-141.98 1022.48,-132.52 1012.85,-136.93 1017.7,-141.98\"/>\n",
       "</g>\n",
       "<!-- 107 -->\n",
       "<g id=\"node28\" class=\"node\">\n",
       "<title>107</title>\n",
       "<path fill=\"#c0c0c0\" stroke=\"black\" d=\"M951,-36C951,-36 921,-36 921,-36 915,-36 909,-30 909,-24 909,-24 909,-12 909,-12 909,-6 915,0 921,0 921,0 951,0 951,0 957,0 963,-6 963,-12 963,-12 963,-24 963,-24 963,-30 957,-36 951,-36\"/>\n",
       "<text text-anchor=\"middle\" x=\"936\" y=\"-14.3\" font-family=\"Helvetica,sans-Serif\" font-size=\"14.00\">(...)</text>\n",
       "</g>\n",
       "<!-- 106&#45;&gt;107 -->\n",
       "<g id=\"edge27\" class=\"edge\">\n",
       "<title>106&#45;&gt;107</title>\n",
       "<path fill=\"none\" stroke=\"black\" d=\"M936,-72C936,-63.56 936,-54.59 936,-46.47\"/>\n",
       "<polygon fill=\"black\" stroke=\"black\" points=\"939.5,-46.4 936,-36.4 932.5,-46.4 939.5,-46.4\"/>\n",
       "</g>\n",
       "<!-- 108 -->\n",
       "<g id=\"node29\" class=\"node\">\n",
       "<title>108</title>\n",
       "<path fill=\"#c0c0c0\" stroke=\"black\" d=\"M1023,-36C1023,-36 993,-36 993,-36 987,-36 981,-30 981,-24 981,-24 981,-12 981,-12 981,-6 987,0 993,0 993,0 1023,0 1023,0 1029,0 1035,-6 1035,-12 1035,-12 1035,-24 1035,-24 1035,-30 1029,-36 1023,-36\"/>\n",
       "<text text-anchor=\"middle\" x=\"1008\" y=\"-14.3\" font-family=\"Helvetica,sans-Serif\" font-size=\"14.00\">(...)</text>\n",
       "</g>\n",
       "<!-- 106&#45;&gt;108 -->\n",
       "<g id=\"edge28\" class=\"edge\">\n",
       "<title>106&#45;&gt;108</title>\n",
       "<path fill=\"none\" stroke=\"black\" d=\"M963.63,-72C971.32,-62.81 979.56,-52.97 986.82,-44.3\"/>\n",
       "<polygon fill=\"black\" stroke=\"black\" points=\"989.69,-46.32 993.43,-36.4 984.33,-41.82 989.69,-46.32\"/>\n",
       "</g>\n",
       "<!-- 111 -->\n",
       "<g id=\"node32\" class=\"node\">\n",
       "<title>111</title>\n",
       "<path fill=\"#fffdfc\" stroke=\"black\" d=\"M1393,-348C1393,-348 1307,-348 1307,-348 1301,-348 1295,-342 1295,-336 1295,-336 1295,-292 1295,-292 1295,-286 1301,-280 1307,-280 1307,-280 1393,-280 1393,-280 1399,-280 1405,-286 1405,-292 1405,-292 1405,-336 1405,-336 1405,-342 1399,-348 1393,-348\"/>\n",
       "<text text-anchor=\"start\" x=\"1310.5\" y=\"-332.8\" font-family=\"Helvetica,sans-Serif\" font-size=\"14.00\">awards ≤ 4.5</text>\n",
       "<text text-anchor=\"start\" x=\"1322\" y=\"-317.8\" font-family=\"Helvetica,sans-Serif\" font-size=\"14.00\">gini = 0.5</text>\n",
       "<text text-anchor=\"start\" x=\"1305\" y=\"-302.8\" font-family=\"Helvetica,sans-Serif\" font-size=\"14.00\">samples = 137</text>\n",
       "<text text-anchor=\"start\" x=\"1303\" y=\"-287.8\" font-family=\"Helvetica,sans-Serif\" font-size=\"14.00\">value = [69, 68]</text>\n",
       "</g>\n",
       "<!-- 110&#45;&gt;111 -->\n",
       "<g id=\"edge31\" class=\"edge\">\n",
       "<title>110&#45;&gt;111</title>\n",
       "<path fill=\"none\" stroke=\"black\" d=\"M1350,-383.88C1350,-375.78 1350,-366.98 1350,-358.47\"/>\n",
       "<polygon fill=\"black\" stroke=\"black\" points=\"1353.5,-358.3 1350,-348.3 1346.5,-358.3 1353.5,-358.3\"/>\n",
       "</g>\n",
       "<!-- 200 -->\n",
       "<g id=\"node47\" class=\"node\">\n",
       "<title>200</title>\n",
       "<path fill=\"#a8d4f4\" stroke=\"black\" d=\"M1867,-348C1867,-348 1781,-348 1781,-348 1775,-348 1769,-342 1769,-336 1769,-336 1769,-292 1769,-292 1769,-286 1775,-280 1781,-280 1781,-280 1867,-280 1867,-280 1873,-280 1879,-286 1879,-292 1879,-292 1879,-336 1879,-336 1879,-342 1873,-348 1867,-348\"/>\n",
       "<text text-anchor=\"start\" x=\"1791.5\" y=\"-332.8\" font-family=\"Helvetica,sans-Serif\" font-size=\"14.00\">age ≤ 34.5</text>\n",
       "<text text-anchor=\"start\" x=\"1792\" y=\"-317.8\" font-family=\"Helvetica,sans-Serif\" font-size=\"14.00\">gini = 0.46</text>\n",
       "<text text-anchor=\"start\" x=\"1779\" y=\"-302.8\" font-family=\"Helvetica,sans-Serif\" font-size=\"14.00\">samples = 106</text>\n",
       "<text text-anchor=\"start\" x=\"1777\" y=\"-287.8\" font-family=\"Helvetica,sans-Serif\" font-size=\"14.00\">value = [38, 68]</text>\n",
       "</g>\n",
       "<!-- 110&#45;&gt;200 -->\n",
       "<g id=\"edge46\" class=\"edge\">\n",
       "<title>110&#45;&gt;200</title>\n",
       "<path fill=\"none\" stroke=\"black\" d=\"M1412.94,-403.46C1503,-384.08 1667.77,-348.62 1758.97,-328.99\"/>\n",
       "<polygon fill=\"black\" stroke=\"black\" points=\"1759.86,-332.38 1768.9,-326.86 1758.39,-325.54 1759.86,-332.38\"/>\n",
       "</g>\n",
       "<!-- 112 -->\n",
       "<g id=\"node33\" class=\"node\">\n",
       "<title>112</title>\n",
       "<path fill=\"#f7d8c2\" stroke=\"black\" d=\"M1329,-244C1329,-244 1243,-244 1243,-244 1237,-244 1231,-238 1231,-232 1231,-232 1231,-188 1231,-188 1231,-182 1237,-176 1243,-176 1243,-176 1329,-176 1329,-176 1335,-176 1341,-182 1341,-188 1341,-188 1341,-232 1341,-232 1341,-238 1335,-244 1329,-244\"/>\n",
       "<text text-anchor=\"start\" x=\"1246.5\" y=\"-228.8\" font-family=\"Helvetica,sans-Serif\" font-size=\"14.00\">awards ≤ 0.5</text>\n",
       "<text text-anchor=\"start\" x=\"1250.5\" y=\"-213.8\" font-family=\"Helvetica,sans-Serif\" font-size=\"14.00\">gini = 0.483</text>\n",
       "<text text-anchor=\"start\" x=\"1245\" y=\"-198.8\" font-family=\"Helvetica,sans-Serif\" font-size=\"14.00\">samples = 66</text>\n",
       "<text text-anchor=\"start\" x=\"1239\" y=\"-183.8\" font-family=\"Helvetica,sans-Serif\" font-size=\"14.00\">value = [39, 27]</text>\n",
       "</g>\n",
       "<!-- 111&#45;&gt;112 -->\n",
       "<g id=\"edge32\" class=\"edge\">\n",
       "<title>111&#45;&gt;112</title>\n",
       "<path fill=\"none\" stroke=\"black\" d=\"M1329.22,-279.88C1323.8,-271.24 1317.89,-261.82 1312.22,-252.79\"/>\n",
       "<polygon fill=\"black\" stroke=\"black\" points=\"1315.17,-250.91 1306.89,-244.3 1309.24,-254.63 1315.17,-250.91\"/>\n",
       "</g>\n",
       "<!-- 155 -->\n",
       "<g id=\"node40\" class=\"node\">\n",
       "<title>155</title>\n",
       "<path fill=\"#cae5f8\" stroke=\"black\" d=\"M1457,-244C1457,-244 1371,-244 1371,-244 1365,-244 1359,-238 1359,-232 1359,-232 1359,-188 1359,-188 1359,-182 1365,-176 1371,-176 1371,-176 1457,-176 1457,-176 1463,-176 1469,-182 1469,-188 1469,-188 1469,-232 1469,-232 1469,-238 1463,-244 1457,-244\"/>\n",
       "<text text-anchor=\"start\" x=\"1381.5\" y=\"-228.8\" font-family=\"Helvetica,sans-Serif\" font-size=\"14.00\">age ≤ 50.5</text>\n",
       "<text text-anchor=\"start\" x=\"1378.5\" y=\"-213.8\" font-family=\"Helvetica,sans-Serif\" font-size=\"14.00\">gini = 0.488</text>\n",
       "<text text-anchor=\"start\" x=\"1373\" y=\"-198.8\" font-family=\"Helvetica,sans-Serif\" font-size=\"14.00\">samples = 71</text>\n",
       "<text text-anchor=\"start\" x=\"1367\" y=\"-183.8\" font-family=\"Helvetica,sans-Serif\" font-size=\"14.00\">value = [30, 41]</text>\n",
       "</g>\n",
       "<!-- 111&#45;&gt;155 -->\n",
       "<g id=\"edge39\" class=\"edge\">\n",
       "<title>111&#45;&gt;155</title>\n",
       "<path fill=\"none\" stroke=\"black\" d=\"M1370.78,-279.88C1376.2,-271.24 1382.11,-261.82 1387.78,-252.79\"/>\n",
       "<polygon fill=\"black\" stroke=\"black\" points=\"1390.76,-254.63 1393.11,-244.3 1384.83,-250.91 1390.76,-254.63\"/>\n",
       "</g>\n",
       "<!-- 113 -->\n",
       "<g id=\"node34\" class=\"node\">\n",
       "<title>113</title>\n",
       "<path fill=\"#83c2ef\" stroke=\"black\" d=\"M1201,-140C1201,-140 1127,-140 1127,-140 1121,-140 1115,-134 1115,-128 1115,-128 1115,-84 1115,-84 1115,-78 1121,-72 1127,-72 1127,-72 1201,-72 1201,-72 1207,-72 1213,-78 1213,-84 1213,-84 1213,-128 1213,-128 1213,-134 1207,-140 1201,-140\"/>\n",
       "<text text-anchor=\"start\" x=\"1129.5\" y=\"-124.8\" font-family=\"Helvetica,sans-Serif\" font-size=\"14.00\">rating ≤ 1.5</text>\n",
       "<text text-anchor=\"start\" x=\"1128.5\" y=\"-109.8\" font-family=\"Helvetica,sans-Serif\" font-size=\"14.00\">gini = 0.397</text>\n",
       "<text text-anchor=\"start\" x=\"1123\" y=\"-94.8\" font-family=\"Helvetica,sans-Serif\" font-size=\"14.00\">samples = 11</text>\n",
       "<text text-anchor=\"start\" x=\"1124.5\" y=\"-79.8\" font-family=\"Helvetica,sans-Serif\" font-size=\"14.00\">value = [3, 8]</text>\n",
       "</g>\n",
       "<!-- 112&#45;&gt;113 -->\n",
       "<g id=\"edge33\" class=\"edge\">\n",
       "<title>112&#45;&gt;113</title>\n",
       "<path fill=\"none\" stroke=\"black\" d=\"M1246.39,-175.88C1235.31,-166.62 1223.15,-156.45 1211.66,-146.85\"/>\n",
       "<polygon fill=\"black\" stroke=\"black\" points=\"1213.75,-144.03 1203.83,-140.3 1209.26,-149.4 1213.75,-144.03\"/>\n",
       "</g>\n",
       "<!-- 118 -->\n",
       "<g id=\"node37\" class=\"node\">\n",
       "<title>118</title>\n",
       "<path fill=\"#f3c4a2\" stroke=\"black\" d=\"M1329,-140C1329,-140 1243,-140 1243,-140 1237,-140 1231,-134 1231,-128 1231,-128 1231,-84 1231,-84 1231,-78 1237,-72 1243,-72 1243,-72 1329,-72 1329,-72 1335,-72 1341,-78 1341,-84 1341,-84 1341,-128 1341,-128 1341,-134 1335,-140 1329,-140\"/>\n",
       "<text text-anchor=\"start\" x=\"1251.5\" y=\"-124.8\" font-family=\"Helvetica,sans-Serif\" font-size=\"14.00\">rating ≤ 1.5</text>\n",
       "<text text-anchor=\"start\" x=\"1250.5\" y=\"-109.8\" font-family=\"Helvetica,sans-Serif\" font-size=\"14.00\">gini = 0.452</text>\n",
       "<text text-anchor=\"start\" x=\"1245\" y=\"-94.8\" font-family=\"Helvetica,sans-Serif\" font-size=\"14.00\">samples = 55</text>\n",
       "<text text-anchor=\"start\" x=\"1239\" y=\"-79.8\" font-family=\"Helvetica,sans-Serif\" font-size=\"14.00\">value = [36, 19]</text>\n",
       "</g>\n",
       "<!-- 112&#45;&gt;118 -->\n",
       "<g id=\"edge36\" class=\"edge\">\n",
       "<title>112&#45;&gt;118</title>\n",
       "<path fill=\"none\" stroke=\"black\" d=\"M1286,-175.88C1286,-167.78 1286,-158.98 1286,-150.47\"/>\n",
       "<polygon fill=\"black\" stroke=\"black\" points=\"1289.5,-150.3 1286,-140.3 1282.5,-150.3 1289.5,-150.3\"/>\n",
       "</g>\n",
       "<!-- 114 -->\n",
       "<g id=\"node35\" class=\"node\">\n",
       "<title>114</title>\n",
       "<path fill=\"#c0c0c0\" stroke=\"black\" d=\"M1107,-36C1107,-36 1077,-36 1077,-36 1071,-36 1065,-30 1065,-24 1065,-24 1065,-12 1065,-12 1065,-6 1071,0 1077,0 1077,0 1107,0 1107,0 1113,0 1119,-6 1119,-12 1119,-12 1119,-24 1119,-24 1119,-30 1113,-36 1107,-36\"/>\n",
       "<text text-anchor=\"middle\" x=\"1092\" y=\"-14.3\" font-family=\"Helvetica,sans-Serif\" font-size=\"14.00\">(...)</text>\n",
       "</g>\n",
       "<!-- 113&#45;&gt;114 -->\n",
       "<g id=\"edge34\" class=\"edge\">\n",
       "<title>113&#45;&gt;114</title>\n",
       "<path fill=\"none\" stroke=\"black\" d=\"M1136.37,-72C1128.68,-62.81 1120.44,-52.97 1113.18,-44.3\"/>\n",
       "<polygon fill=\"black\" stroke=\"black\" points=\"1115.67,-41.82 1106.57,-36.4 1110.31,-46.32 1115.67,-41.82\"/>\n",
       "</g>\n",
       "<!-- 117 -->\n",
       "<g id=\"node36\" class=\"node\">\n",
       "<title>117</title>\n",
       "<path fill=\"#c0c0c0\" stroke=\"black\" d=\"M1179,-36C1179,-36 1149,-36 1149,-36 1143,-36 1137,-30 1137,-24 1137,-24 1137,-12 1137,-12 1137,-6 1143,0 1149,0 1149,0 1179,0 1179,0 1185,0 1191,-6 1191,-12 1191,-12 1191,-24 1191,-24 1191,-30 1185,-36 1179,-36\"/>\n",
       "<text text-anchor=\"middle\" x=\"1164\" y=\"-14.3\" font-family=\"Helvetica,sans-Serif\" font-size=\"14.00\">(...)</text>\n",
       "</g>\n",
       "<!-- 113&#45;&gt;117 -->\n",
       "<g id=\"edge35\" class=\"edge\">\n",
       "<title>113&#45;&gt;117</title>\n",
       "<path fill=\"none\" stroke=\"black\" d=\"M1164,-72C1164,-63.56 1164,-54.59 1164,-46.47\"/>\n",
       "<polygon fill=\"black\" stroke=\"black\" points=\"1167.5,-46.4 1164,-36.4 1160.5,-46.4 1167.5,-46.4\"/>\n",
       "</g>\n",
       "<!-- 119 -->\n",
       "<g id=\"node38\" class=\"node\">\n",
       "<title>119</title>\n",
       "<path fill=\"#c0c0c0\" stroke=\"black\" d=\"M1251,-36C1251,-36 1221,-36 1221,-36 1215,-36 1209,-30 1209,-24 1209,-24 1209,-12 1209,-12 1209,-6 1215,0 1221,0 1221,0 1251,0 1251,0 1257,0 1263,-6 1263,-12 1263,-12 1263,-24 1263,-24 1263,-30 1257,-36 1251,-36\"/>\n",
       "<text text-anchor=\"middle\" x=\"1236\" y=\"-14.3\" font-family=\"Helvetica,sans-Serif\" font-size=\"14.00\">(...)</text>\n",
       "</g>\n",
       "<!-- 118&#45;&gt;119 -->\n",
       "<g id=\"edge37\" class=\"edge\">\n",
       "<title>118&#45;&gt;119</title>\n",
       "<path fill=\"none\" stroke=\"black\" d=\"M1266.81,-72C1261.63,-63.09 1256.1,-53.58 1251.18,-45.11\"/>\n",
       "<polygon fill=\"black\" stroke=\"black\" points=\"1254.17,-43.29 1246.12,-36.4 1248.12,-46.81 1254.17,-43.29\"/>\n",
       "</g>\n",
       "<!-- 138 -->\n",
       "<g id=\"node39\" class=\"node\">\n",
       "<title>138</title>\n",
       "<path fill=\"#c0c0c0\" stroke=\"black\" d=\"M1323,-36C1323,-36 1293,-36 1293,-36 1287,-36 1281,-30 1281,-24 1281,-24 1281,-12 1281,-12 1281,-6 1287,0 1293,0 1293,0 1323,0 1323,0 1329,0 1335,-6 1335,-12 1335,-12 1335,-24 1335,-24 1335,-30 1329,-36 1323,-36\"/>\n",
       "<text text-anchor=\"middle\" x=\"1308\" y=\"-14.3\" font-family=\"Helvetica,sans-Serif\" font-size=\"14.00\">(...)</text>\n",
       "</g>\n",
       "<!-- 118&#45;&gt;138 -->\n",
       "<g id=\"edge38\" class=\"edge\">\n",
       "<title>118&#45;&gt;138</title>\n",
       "<path fill=\"none\" stroke=\"black\" d=\"M1294.44,-72C1296.62,-63.47 1298.95,-54.39 1301.04,-46.2\"/>\n",
       "<polygon fill=\"black\" stroke=\"black\" points=\"1304.46,-46.96 1303.55,-36.4 1297.68,-45.22 1304.46,-46.96\"/>\n",
       "</g>\n",
       "<!-- 156 -->\n",
       "<g id=\"node41\" class=\"node\">\n",
       "<title>156</title>\n",
       "<path fill=\"#e2f1fb\" stroke=\"black\" d=\"M1457,-140C1457,-140 1371,-140 1371,-140 1365,-140 1359,-134 1359,-128 1359,-128 1359,-84 1359,-84 1359,-78 1365,-72 1371,-72 1371,-72 1457,-72 1457,-72 1463,-72 1469,-78 1469,-84 1469,-84 1469,-128 1469,-128 1469,-134 1463,-140 1457,-140\"/>\n",
       "<text text-anchor=\"start\" x=\"1381.5\" y=\"-124.8\" font-family=\"Helvetica,sans-Serif\" font-size=\"14.00\">age ≤ 48.5</text>\n",
       "<text text-anchor=\"start\" x=\"1378.5\" y=\"-109.8\" font-family=\"Helvetica,sans-Serif\" font-size=\"14.00\">gini = 0.497</text>\n",
       "<text text-anchor=\"start\" x=\"1373\" y=\"-94.8\" font-family=\"Helvetica,sans-Serif\" font-size=\"14.00\">samples = 63</text>\n",
       "<text text-anchor=\"start\" x=\"1367\" y=\"-79.8\" font-family=\"Helvetica,sans-Serif\" font-size=\"14.00\">value = [29, 34]</text>\n",
       "</g>\n",
       "<!-- 155&#45;&gt;156 -->\n",
       "<g id=\"edge40\" class=\"edge\">\n",
       "<title>155&#45;&gt;156</title>\n",
       "<path fill=\"none\" stroke=\"black\" d=\"M1414,-175.88C1414,-167.78 1414,-158.98 1414,-150.47\"/>\n",
       "<polygon fill=\"black\" stroke=\"black\" points=\"1417.5,-150.3 1414,-140.3 1410.5,-150.3 1417.5,-150.3\"/>\n",
       "</g>\n",
       "<!-- 197 -->\n",
       "<g id=\"node44\" class=\"node\">\n",
       "<title>197</title>\n",
       "<path fill=\"#55abe9\" stroke=\"black\" d=\"M1570.5,-140C1570.5,-140 1499.5,-140 1499.5,-140 1493.5,-140 1487.5,-134 1487.5,-128 1487.5,-128 1487.5,-84 1487.5,-84 1487.5,-78 1493.5,-72 1499.5,-72 1499.5,-72 1570.5,-72 1570.5,-72 1576.5,-72 1582.5,-78 1582.5,-84 1582.5,-84 1582.5,-128 1582.5,-128 1582.5,-134 1576.5,-140 1570.5,-140\"/>\n",
       "<text text-anchor=\"start\" x=\"1502.5\" y=\"-124.8\" font-family=\"Helvetica,sans-Serif\" font-size=\"14.00\">age ≤ 53.5</text>\n",
       "<text text-anchor=\"start\" x=\"1499.5\" y=\"-109.8\" font-family=\"Helvetica,sans-Serif\" font-size=\"14.00\">gini = 0.219</text>\n",
       "<text text-anchor=\"start\" x=\"1497.5\" y=\"-94.8\" font-family=\"Helvetica,sans-Serif\" font-size=\"14.00\">samples = 8</text>\n",
       "<text text-anchor=\"start\" x=\"1495.5\" y=\"-79.8\" font-family=\"Helvetica,sans-Serif\" font-size=\"14.00\">value = [1, 7]</text>\n",
       "</g>\n",
       "<!-- 155&#45;&gt;197 -->\n",
       "<g id=\"edge43\" class=\"edge\">\n",
       "<title>155&#45;&gt;197</title>\n",
       "<path fill=\"none\" stroke=\"black\" d=\"M1453.29,-175.88C1464.27,-166.62 1476.33,-156.45 1487.73,-146.85\"/>\n",
       "<polygon fill=\"black\" stroke=\"black\" points=\"1490.11,-149.42 1495.5,-140.3 1485.6,-144.07 1490.11,-149.42\"/>\n",
       "</g>\n",
       "<!-- 157 -->\n",
       "<g id=\"node42\" class=\"node\">\n",
       "<title>157</title>\n",
       "<path fill=\"#c0c0c0\" stroke=\"black\" d=\"M1395,-36C1395,-36 1365,-36 1365,-36 1359,-36 1353,-30 1353,-24 1353,-24 1353,-12 1353,-12 1353,-6 1359,0 1365,0 1365,0 1395,0 1395,0 1401,0 1407,-6 1407,-12 1407,-12 1407,-24 1407,-24 1407,-30 1401,-36 1395,-36\"/>\n",
       "<text text-anchor=\"middle\" x=\"1380\" y=\"-14.3\" font-family=\"Helvetica,sans-Serif\" font-size=\"14.00\">(...)</text>\n",
       "</g>\n",
       "<!-- 156&#45;&gt;157 -->\n",
       "<g id=\"edge41\" class=\"edge\">\n",
       "<title>156&#45;&gt;157</title>\n",
       "<path fill=\"none\" stroke=\"black\" d=\"M1400.95,-72C1397.54,-63.38 1393.91,-54.19 1390.64,-45.92\"/>\n",
       "<polygon fill=\"black\" stroke=\"black\" points=\"1393.81,-44.42 1386.88,-36.4 1387.3,-46.99 1393.81,-44.42\"/>\n",
       "</g>\n",
       "<!-- 196 -->\n",
       "<g id=\"node43\" class=\"node\">\n",
       "<title>196</title>\n",
       "<path fill=\"#c0c0c0\" stroke=\"black\" d=\"M1467,-36C1467,-36 1437,-36 1437,-36 1431,-36 1425,-30 1425,-24 1425,-24 1425,-12 1425,-12 1425,-6 1431,0 1437,0 1437,0 1467,0 1467,0 1473,0 1479,-6 1479,-12 1479,-12 1479,-24 1479,-24 1479,-30 1473,-36 1467,-36\"/>\n",
       "<text text-anchor=\"middle\" x=\"1452\" y=\"-14.3\" font-family=\"Helvetica,sans-Serif\" font-size=\"14.00\">(...)</text>\n",
       "</g>\n",
       "<!-- 156&#45;&gt;196 -->\n",
       "<g id=\"edge42\" class=\"edge\">\n",
       "<title>156&#45;&gt;196</title>\n",
       "<path fill=\"none\" stroke=\"black\" d=\"M1428.58,-72C1432.43,-63.28 1436.54,-53.98 1440.22,-45.65\"/>\n",
       "<polygon fill=\"black\" stroke=\"black\" points=\"1443.47,-46.96 1444.31,-36.4 1437.07,-44.14 1443.47,-46.96\"/>\n",
       "</g>\n",
       "<!-- 198 -->\n",
       "<g id=\"node45\" class=\"node\">\n",
       "<title>198</title>\n",
       "<path fill=\"#c0c0c0\" stroke=\"black\" d=\"M1539,-36C1539,-36 1509,-36 1509,-36 1503,-36 1497,-30 1497,-24 1497,-24 1497,-12 1497,-12 1497,-6 1503,0 1509,0 1509,0 1539,0 1539,0 1545,0 1551,-6 1551,-12 1551,-12 1551,-24 1551,-24 1551,-30 1545,-36 1539,-36\"/>\n",
       "<text text-anchor=\"middle\" x=\"1524\" y=\"-14.3\" font-family=\"Helvetica,sans-Serif\" font-size=\"14.00\">(...)</text>\n",
       "</g>\n",
       "<!-- 197&#45;&gt;198 -->\n",
       "<g id=\"edge44\" class=\"edge\">\n",
       "<title>197&#45;&gt;198</title>\n",
       "<path fill=\"none\" stroke=\"black\" d=\"M1530.78,-72C1529.7,-63.56 1528.55,-54.59 1527.51,-46.47\"/>\n",
       "<polygon fill=\"black\" stroke=\"black\" points=\"1530.97,-45.88 1526.23,-36.4 1524.02,-46.77 1530.97,-45.88\"/>\n",
       "</g>\n",
       "<!-- 199 -->\n",
       "<g id=\"node46\" class=\"node\">\n",
       "<title>199</title>\n",
       "<path fill=\"#c0c0c0\" stroke=\"black\" d=\"M1611,-36C1611,-36 1581,-36 1581,-36 1575,-36 1569,-30 1569,-24 1569,-24 1569,-12 1569,-12 1569,-6 1575,0 1581,0 1581,0 1611,0 1611,0 1617,0 1623,-6 1623,-12 1623,-12 1623,-24 1623,-24 1623,-30 1617,-36 1611,-36\"/>\n",
       "<text text-anchor=\"middle\" x=\"1596\" y=\"-14.3\" font-family=\"Helvetica,sans-Serif\" font-size=\"14.00\">(...)</text>\n",
       "</g>\n",
       "<!-- 197&#45;&gt;199 -->\n",
       "<g id=\"edge45\" class=\"edge\">\n",
       "<title>197&#45;&gt;199</title>\n",
       "<path fill=\"none\" stroke=\"black\" d=\"M1558.41,-72C1564.86,-62.9 1571.76,-53.18 1577.86,-44.57\"/>\n",
       "<polygon fill=\"black\" stroke=\"black\" points=\"1580.73,-46.58 1583.66,-36.4 1575.02,-42.53 1580.73,-46.58\"/>\n",
       "</g>\n",
       "<!-- 201 -->\n",
       "<g id=\"node48\" class=\"node\">\n",
       "<title>201</title>\n",
       "<path fill=\"#eaf5fc\" stroke=\"black\" d=\"M1870.5,-244C1870.5,-244 1777.5,-244 1777.5,-244 1771.5,-244 1765.5,-238 1765.5,-232 1765.5,-232 1765.5,-188 1765.5,-188 1765.5,-182 1771.5,-176 1777.5,-176 1777.5,-176 1870.5,-176 1870.5,-176 1876.5,-176 1882.5,-182 1882.5,-188 1882.5,-188 1882.5,-232 1882.5,-232 1882.5,-238 1876.5,-244 1870.5,-244\"/>\n",
       "<text text-anchor=\"start\" x=\"1773.5\" y=\"-228.8\" font-family=\"Helvetica,sans-Serif\" font-size=\"14.00\">salary ≤ 76232.5</text>\n",
       "<text text-anchor=\"start\" x=\"1788.5\" y=\"-213.8\" font-family=\"Helvetica,sans-Serif\" font-size=\"14.00\">gini = 0.498</text>\n",
       "<text text-anchor=\"start\" x=\"1783\" y=\"-198.8\" font-family=\"Helvetica,sans-Serif\" font-size=\"14.00\">samples = 36</text>\n",
       "<text text-anchor=\"start\" x=\"1777\" y=\"-183.8\" font-family=\"Helvetica,sans-Serif\" font-size=\"14.00\">value = [17, 19]</text>\n",
       "</g>\n",
       "<!-- 200&#45;&gt;201 -->\n",
       "<g id=\"edge47\" class=\"edge\">\n",
       "<title>200&#45;&gt;201</title>\n",
       "<path fill=\"none\" stroke=\"black\" d=\"M1824,-279.88C1824,-271.78 1824,-262.98 1824,-254.47\"/>\n",
       "<polygon fill=\"black\" stroke=\"black\" points=\"1827.5,-254.3 1824,-244.3 1820.5,-254.3 1827.5,-254.3\"/>\n",
       "</g>\n",
       "<!-- 230 -->\n",
       "<g id=\"node55\" class=\"node\">\n",
       "<title>230</title>\n",
       "<path fill=\"#8ec7f0\" stroke=\"black\" d=\"M2005,-244C2005,-244 1919,-244 1919,-244 1913,-244 1907,-238 1907,-232 1907,-232 1907,-188 1907,-188 1907,-182 1913,-176 1919,-176 1919,-176 2005,-176 2005,-176 2011,-176 2017,-182 2017,-188 2017,-188 2017,-232 2017,-232 2017,-238 2011,-244 2005,-244\"/>\n",
       "<text text-anchor=\"start\" x=\"1926.5\" y=\"-228.8\" font-family=\"Helvetica,sans-Serif\" font-size=\"14.00\">onsite ≤ 0.5</text>\n",
       "<text text-anchor=\"start\" x=\"1930\" y=\"-213.8\" font-family=\"Helvetica,sans-Serif\" font-size=\"14.00\">gini = 0.42</text>\n",
       "<text text-anchor=\"start\" x=\"1921\" y=\"-198.8\" font-family=\"Helvetica,sans-Serif\" font-size=\"14.00\">samples = 70</text>\n",
       "<text text-anchor=\"start\" x=\"1915\" y=\"-183.8\" font-family=\"Helvetica,sans-Serif\" font-size=\"14.00\">value = [21, 49]</text>\n",
       "</g>\n",
       "<!-- 200&#45;&gt;230 -->\n",
       "<g id=\"edge54\" class=\"edge\">\n",
       "<title>200&#45;&gt;230</title>\n",
       "<path fill=\"none\" stroke=\"black\" d=\"M1868.8,-279.88C1881.58,-270.44 1895.62,-260.06 1908.84,-250.29\"/>\n",
       "<polygon fill=\"black\" stroke=\"black\" points=\"1910.99,-253.06 1916.95,-244.3 1906.83,-247.43 1910.99,-253.06\"/>\n",
       "</g>\n",
       "<!-- 202 -->\n",
       "<g id=\"node49\" class=\"node\">\n",
       "<title>202</title>\n",
       "<path fill=\"#f8dbc6\" stroke=\"black\" d=\"M1752.5,-140C1752.5,-140 1659.5,-140 1659.5,-140 1653.5,-140 1647.5,-134 1647.5,-128 1647.5,-128 1647.5,-84 1647.5,-84 1647.5,-78 1653.5,-72 1659.5,-72 1659.5,-72 1752.5,-72 1752.5,-72 1758.5,-72 1764.5,-78 1764.5,-84 1764.5,-84 1764.5,-128 1764.5,-128 1764.5,-134 1758.5,-140 1752.5,-140\"/>\n",
       "<text text-anchor=\"start\" x=\"1655.5\" y=\"-124.8\" font-family=\"Helvetica,sans-Serif\" font-size=\"14.00\">salary ≤ 26940.5</text>\n",
       "<text text-anchor=\"start\" x=\"1670.5\" y=\"-109.8\" font-family=\"Helvetica,sans-Serif\" font-size=\"14.00\">gini = 0.486</text>\n",
       "<text text-anchor=\"start\" x=\"1665\" y=\"-94.8\" font-family=\"Helvetica,sans-Serif\" font-size=\"14.00\">samples = 24</text>\n",
       "<text text-anchor=\"start\" x=\"1659\" y=\"-79.8\" font-family=\"Helvetica,sans-Serif\" font-size=\"14.00\">value = [14, 10]</text>\n",
       "</g>\n",
       "<!-- 201&#45;&gt;202 -->\n",
       "<g id=\"edge48\" class=\"edge\">\n",
       "<title>201&#45;&gt;202</title>\n",
       "<path fill=\"none\" stroke=\"black\" d=\"M1785.69,-175.88C1774.97,-166.62 1763.21,-156.45 1752.1,-146.85\"/>\n",
       "<polygon fill=\"black\" stroke=\"black\" points=\"1754.38,-144.19 1744.52,-140.3 1749.8,-149.49 1754.38,-144.19\"/>\n",
       "</g>\n",
       "<!-- 221 -->\n",
       "<g id=\"node52\" class=\"node\">\n",
       "<title>221</title>\n",
       "<path fill=\"#7bbeee\" stroke=\"black\" d=\"M1869,-140C1869,-140 1795,-140 1795,-140 1789,-140 1783,-134 1783,-128 1783,-128 1783,-84 1783,-84 1783,-78 1789,-72 1795,-72 1795,-72 1869,-72 1869,-72 1875,-72 1881,-78 1881,-84 1881,-84 1881,-128 1881,-128 1881,-134 1875,-140 1869,-140\"/>\n",
       "<text text-anchor=\"start\" x=\"1800\" y=\"-124.8\" font-family=\"Helvetica,sans-Serif\" font-size=\"14.00\">Dept ≤ 3.5</text>\n",
       "<text text-anchor=\"start\" x=\"1796.5\" y=\"-109.8\" font-family=\"Helvetica,sans-Serif\" font-size=\"14.00\">gini = 0.375</text>\n",
       "<text text-anchor=\"start\" x=\"1791\" y=\"-94.8\" font-family=\"Helvetica,sans-Serif\" font-size=\"14.00\">samples = 12</text>\n",
       "<text text-anchor=\"start\" x=\"1792.5\" y=\"-79.8\" font-family=\"Helvetica,sans-Serif\" font-size=\"14.00\">value = [3, 9]</text>\n",
       "</g>\n",
       "<!-- 201&#45;&gt;221 -->\n",
       "<g id=\"edge51\" class=\"edge\">\n",
       "<title>201&#45;&gt;221</title>\n",
       "<path fill=\"none\" stroke=\"black\" d=\"M1826.6,-175.88C1827.23,-167.78 1827.92,-158.98 1828.59,-150.47\"/>\n",
       "<polygon fill=\"black\" stroke=\"black\" points=\"1832.1,-150.54 1829.39,-140.3 1825.12,-150 1832.1,-150.54\"/>\n",
       "</g>\n",
       "<!-- 203 -->\n",
       "<g id=\"node50\" class=\"node\">\n",
       "<title>203</title>\n",
       "<path fill=\"#c0c0c0\" stroke=\"black\" d=\"M1683,-36C1683,-36 1653,-36 1653,-36 1647,-36 1641,-30 1641,-24 1641,-24 1641,-12 1641,-12 1641,-6 1647,0 1653,0 1653,0 1683,0 1683,0 1689,0 1695,-6 1695,-12 1695,-12 1695,-24 1695,-24 1695,-30 1689,-36 1683,-36\"/>\n",
       "<text text-anchor=\"middle\" x=\"1668\" y=\"-14.3\" font-family=\"Helvetica,sans-Serif\" font-size=\"14.00\">(...)</text>\n",
       "</g>\n",
       "<!-- 202&#45;&gt;203 -->\n",
       "<g id=\"edge49\" class=\"edge\">\n",
       "<title>202&#45;&gt;203</title>\n",
       "<path fill=\"none\" stroke=\"black\" d=\"M1691.42,-72C1687.57,-63.28 1683.46,-53.98 1679.78,-45.65\"/>\n",
       "<polygon fill=\"black\" stroke=\"black\" points=\"1682.93,-44.14 1675.69,-36.4 1676.53,-46.96 1682.93,-44.14\"/>\n",
       "</g>\n",
       "<!-- 206 -->\n",
       "<g id=\"node51\" class=\"node\">\n",
       "<title>206</title>\n",
       "<path fill=\"#c0c0c0\" stroke=\"black\" d=\"M1755,-36C1755,-36 1725,-36 1725,-36 1719,-36 1713,-30 1713,-24 1713,-24 1713,-12 1713,-12 1713,-6 1719,0 1725,0 1725,0 1755,0 1755,0 1761,0 1767,-6 1767,-12 1767,-12 1767,-24 1767,-24 1767,-30 1761,-36 1755,-36\"/>\n",
       "<text text-anchor=\"middle\" x=\"1740\" y=\"-14.3\" font-family=\"Helvetica,sans-Serif\" font-size=\"14.00\">(...)</text>\n",
       "</g>\n",
       "<!-- 202&#45;&gt;206 -->\n",
       "<g id=\"edge50\" class=\"edge\">\n",
       "<title>202&#45;&gt;206</title>\n",
       "<path fill=\"none\" stroke=\"black\" d=\"M1719.05,-72C1722.46,-63.38 1726.09,-54.19 1729.36,-45.92\"/>\n",
       "<polygon fill=\"black\" stroke=\"black\" points=\"1732.7,-46.99 1733.12,-36.4 1726.19,-44.42 1732.7,-46.99\"/>\n",
       "</g>\n",
       "<!-- 222 -->\n",
       "<g id=\"node53\" class=\"node\">\n",
       "<title>222</title>\n",
       "<path fill=\"#c0c0c0\" stroke=\"black\" d=\"M1827,-36C1827,-36 1797,-36 1797,-36 1791,-36 1785,-30 1785,-24 1785,-24 1785,-12 1785,-12 1785,-6 1791,0 1797,0 1797,0 1827,0 1827,0 1833,0 1839,-6 1839,-12 1839,-12 1839,-24 1839,-24 1839,-30 1833,-36 1827,-36\"/>\n",
       "<text text-anchor=\"middle\" x=\"1812\" y=\"-14.3\" font-family=\"Helvetica,sans-Serif\" font-size=\"14.00\">(...)</text>\n",
       "</g>\n",
       "<!-- 221&#45;&gt;222 -->\n",
       "<g id=\"edge52\" class=\"edge\">\n",
       "<title>221&#45;&gt;222</title>\n",
       "<path fill=\"none\" stroke=\"black\" d=\"M1824.32,-72C1822.34,-63.47 1820.23,-54.39 1818.32,-46.2\"/>\n",
       "<polygon fill=\"black\" stroke=\"black\" points=\"1821.72,-45.35 1816.05,-36.4 1814.9,-46.94 1821.72,-45.35\"/>\n",
       "</g>\n",
       "<!-- 229 -->\n",
       "<g id=\"node54\" class=\"node\">\n",
       "<title>229</title>\n",
       "<path fill=\"#c0c0c0\" stroke=\"black\" d=\"M1899,-36C1899,-36 1869,-36 1869,-36 1863,-36 1857,-30 1857,-24 1857,-24 1857,-12 1857,-12 1857,-6 1863,0 1869,0 1869,0 1899,0 1899,0 1905,0 1911,-6 1911,-12 1911,-12 1911,-24 1911,-24 1911,-30 1905,-36 1899,-36\"/>\n",
       "<text text-anchor=\"middle\" x=\"1884\" y=\"-14.3\" font-family=\"Helvetica,sans-Serif\" font-size=\"14.00\">(...)</text>\n",
       "</g>\n",
       "<!-- 221&#45;&gt;229 -->\n",
       "<g id=\"edge53\" class=\"edge\">\n",
       "<title>221&#45;&gt;229</title>\n",
       "<path fill=\"none\" stroke=\"black\" d=\"M1851.96,-72C1857.34,-63.09 1863.09,-53.58 1868.21,-45.11\"/>\n",
       "<polygon fill=\"black\" stroke=\"black\" points=\"1871.3,-46.77 1873.48,-36.4 1865.31,-43.15 1871.3,-46.77\"/>\n",
       "</g>\n",
       "<!-- 231 -->\n",
       "<g id=\"node56\" class=\"node\">\n",
       "<title>231</title>\n",
       "<path fill=\"#b8dcf6\" stroke=\"black\" d=\"M2005,-140C2005,-140 1919,-140 1919,-140 1913,-140 1907,-134 1907,-128 1907,-128 1907,-84 1907,-84 1907,-78 1913,-72 1919,-72 1919,-72 2005,-72 2005,-72 2011,-72 2017,-78 2017,-84 2017,-84 2017,-128 2017,-128 2017,-134 2011,-140 2005,-140\"/>\n",
       "<text text-anchor=\"start\" x=\"1915\" y=\"-124.8\" font-family=\"Helvetica,sans-Serif\" font-size=\"14.00\">education ≤ 0.5</text>\n",
       "<text text-anchor=\"start\" x=\"1926.5\" y=\"-109.8\" font-family=\"Helvetica,sans-Serif\" font-size=\"14.00\">gini = 0.476</text>\n",
       "<text text-anchor=\"start\" x=\"1921\" y=\"-94.8\" font-family=\"Helvetica,sans-Serif\" font-size=\"14.00\">samples = 41</text>\n",
       "<text text-anchor=\"start\" x=\"1915\" y=\"-79.8\" font-family=\"Helvetica,sans-Serif\" font-size=\"14.00\">value = [16, 25]</text>\n",
       "</g>\n",
       "<!-- 230&#45;&gt;231 -->\n",
       "<g id=\"edge55\" class=\"edge\">\n",
       "<title>230&#45;&gt;231</title>\n",
       "<path fill=\"none\" stroke=\"black\" d=\"M1962,-175.88C1962,-167.78 1962,-158.98 1962,-150.47\"/>\n",
       "<polygon fill=\"black\" stroke=\"black\" points=\"1965.5,-150.3 1962,-140.3 1958.5,-150.3 1965.5,-150.3\"/>\n",
       "</g>\n",
       "<!-- 262 -->\n",
       "<g id=\"node59\" class=\"node\">\n",
       "<title>262</title>\n",
       "<path fill=\"#62b1ea\" stroke=\"black\" d=\"M2146.5,-140C2146.5,-140 2053.5,-140 2053.5,-140 2047.5,-140 2041.5,-134 2041.5,-128 2041.5,-128 2041.5,-84 2041.5,-84 2041.5,-78 2047.5,-72 2053.5,-72 2053.5,-72 2146.5,-72 2146.5,-72 2152.5,-72 2158.5,-78 2158.5,-84 2158.5,-84 2158.5,-128 2158.5,-128 2158.5,-134 2152.5,-140 2146.5,-140\"/>\n",
       "<text text-anchor=\"start\" x=\"2049.5\" y=\"-124.8\" font-family=\"Helvetica,sans-Serif\" font-size=\"14.00\">salary ≤ 26940.5</text>\n",
       "<text text-anchor=\"start\" x=\"2064.5\" y=\"-109.8\" font-family=\"Helvetica,sans-Serif\" font-size=\"14.00\">gini = 0.285</text>\n",
       "<text text-anchor=\"start\" x=\"2059\" y=\"-94.8\" font-family=\"Helvetica,sans-Serif\" font-size=\"14.00\">samples = 29</text>\n",
       "<text text-anchor=\"start\" x=\"2057\" y=\"-79.8\" font-family=\"Helvetica,sans-Serif\" font-size=\"14.00\">value = [5, 24]</text>\n",
       "</g>\n",
       "<!-- 230&#45;&gt;262 -->\n",
       "<g id=\"edge58\" class=\"edge\">\n",
       "<title>230&#45;&gt;262</title>\n",
       "<path fill=\"none\" stroke=\"black\" d=\"M2006.8,-175.88C2019.58,-166.44 2033.62,-156.06 2046.84,-146.29\"/>\n",
       "<polygon fill=\"black\" stroke=\"black\" points=\"2048.99,-149.06 2054.95,-140.3 2044.83,-143.43 2048.99,-149.06\"/>\n",
       "</g>\n",
       "<!-- 232 -->\n",
       "<g id=\"node57\" class=\"node\">\n",
       "<title>232</title>\n",
       "<path fill=\"#c0c0c0\" stroke=\"black\" d=\"M1971,-36C1971,-36 1941,-36 1941,-36 1935,-36 1929,-30 1929,-24 1929,-24 1929,-12 1929,-12 1929,-6 1935,0 1941,0 1941,0 1971,0 1971,0 1977,0 1983,-6 1983,-12 1983,-12 1983,-24 1983,-24 1983,-30 1977,-36 1971,-36\"/>\n",
       "<text text-anchor=\"middle\" x=\"1956\" y=\"-14.3\" font-family=\"Helvetica,sans-Serif\" font-size=\"14.00\">(...)</text>\n",
       "</g>\n",
       "<!-- 231&#45;&gt;232 -->\n",
       "<g id=\"edge56\" class=\"edge\">\n",
       "<title>231&#45;&gt;232</title>\n",
       "<path fill=\"none\" stroke=\"black\" d=\"M1959.7,-72C1959.11,-63.56 1958.48,-54.59 1957.92,-46.47\"/>\n",
       "<polygon fill=\"black\" stroke=\"black\" points=\"1961.4,-46.14 1957.21,-36.4 1954.42,-46.62 1961.4,-46.14\"/>\n",
       "</g>\n",
       "<!-- 249 -->\n",
       "<g id=\"node58\" class=\"node\">\n",
       "<title>249</title>\n",
       "<path fill=\"#c0c0c0\" stroke=\"black\" d=\"M2043,-36C2043,-36 2013,-36 2013,-36 2007,-36 2001,-30 2001,-24 2001,-24 2001,-12 2001,-12 2001,-6 2007,0 2013,0 2013,0 2043,0 2043,0 2049,0 2055,-6 2055,-12 2055,-12 2055,-24 2055,-24 2055,-30 2049,-36 2043,-36\"/>\n",
       "<text text-anchor=\"middle\" x=\"2028\" y=\"-14.3\" font-family=\"Helvetica,sans-Serif\" font-size=\"14.00\">(...)</text>\n",
       "</g>\n",
       "<!-- 231&#45;&gt;249 -->\n",
       "<g id=\"edge57\" class=\"edge\">\n",
       "<title>231&#45;&gt;249</title>\n",
       "<path fill=\"none\" stroke=\"black\" d=\"M1987.33,-72C1994.31,-62.9 2001.77,-53.18 2008.38,-44.57\"/>\n",
       "<polygon fill=\"black\" stroke=\"black\" points=\"2011.33,-46.47 2014.64,-36.4 2005.78,-42.21 2011.33,-46.47\"/>\n",
       "</g>\n",
       "<!-- 263 -->\n",
       "<g id=\"node60\" class=\"node\">\n",
       "<title>263</title>\n",
       "<path fill=\"#c0c0c0\" stroke=\"black\" d=\"M2115,-36C2115,-36 2085,-36 2085,-36 2079,-36 2073,-30 2073,-24 2073,-24 2073,-12 2073,-12 2073,-6 2079,0 2085,0 2085,0 2115,0 2115,0 2121,0 2127,-6 2127,-12 2127,-12 2127,-24 2127,-24 2127,-30 2121,-36 2115,-36\"/>\n",
       "<text text-anchor=\"middle\" x=\"2100\" y=\"-14.3\" font-family=\"Helvetica,sans-Serif\" font-size=\"14.00\">(...)</text>\n",
       "</g>\n",
       "<!-- 262&#45;&gt;263 -->\n",
       "<g id=\"edge59\" class=\"edge\">\n",
       "<title>262&#45;&gt;263</title>\n",
       "<path fill=\"none\" stroke=\"black\" d=\"M2100,-72C2100,-63.56 2100,-54.59 2100,-46.47\"/>\n",
       "<polygon fill=\"black\" stroke=\"black\" points=\"2103.5,-46.4 2100,-36.4 2096.5,-46.4 2103.5,-46.4\"/>\n",
       "</g>\n",
       "<!-- 268 -->\n",
       "<g id=\"node61\" class=\"node\">\n",
       "<title>268</title>\n",
       "<path fill=\"#c0c0c0\" stroke=\"black\" d=\"M2187,-36C2187,-36 2157,-36 2157,-36 2151,-36 2145,-30 2145,-24 2145,-24 2145,-12 2145,-12 2145,-6 2151,0 2157,0 2157,0 2187,0 2187,0 2193,0 2199,-6 2199,-12 2199,-12 2199,-24 2199,-24 2199,-30 2193,-36 2187,-36\"/>\n",
       "<text text-anchor=\"middle\" x=\"2172\" y=\"-14.3\" font-family=\"Helvetica,sans-Serif\" font-size=\"14.00\">(...)</text>\n",
       "</g>\n",
       "<!-- 262&#45;&gt;268 -->\n",
       "<g id=\"edge60\" class=\"edge\">\n",
       "<title>262&#45;&gt;268</title>\n",
       "<path fill=\"none\" stroke=\"black\" d=\"M2127.63,-72C2135.32,-62.81 2143.56,-52.97 2150.82,-44.3\"/>\n",
       "<polygon fill=\"black\" stroke=\"black\" points=\"2153.69,-46.32 2157.43,-36.4 2148.33,-41.82 2153.69,-46.32\"/>\n",
       "</g>\n",
       "</g>\n",
       "</svg>\n"
      ],
      "text/plain": [
       "<graphviz.files.Source at 0x7f75ac811e10>"
      ]
     },
     "execution_count": 22,
     "metadata": {},
     "output_type": "execute_result"
    }
   ],
   "source": [
    "treedata = tree.export_graphviz(DTmodel,out_file=None,feature_names=X_train.columns,filled=True,rounded=True,special_characters=True,max_depth=4)\n",
    "graph = graphviz.Source(treedata)\n",
    "graph"
   ]
  },
  {
   "cell_type": "markdown",
   "metadata": {
    "papermill": {
     "duration": 0.048997,
     "end_time": "2020-12-07T21:05:15.052351",
     "exception": false,
     "start_time": "2020-12-07T21:05:15.003354",
     "status": "completed"
    },
    "tags": []
   },
   "source": [
    "**Random Forest Classifier**"
   ]
  },
  {
   "cell_type": "code",
   "execution_count": 23,
   "metadata": {
    "execution": {
     "iopub.execute_input": "2020-12-07T21:05:15.170404Z",
     "iopub.status.busy": "2020-12-07T21:05:15.164719Z",
     "iopub.status.idle": "2020-12-07T21:05:15.451292Z",
     "shell.execute_reply": "2020-12-07T21:05:15.452054Z"
    },
    "papermill": {
     "duration": 0.349602,
     "end_time": "2020-12-07T21:05:15.452247",
     "exception": false,
     "start_time": "2020-12-07T21:05:15.102645",
     "status": "completed"
    },
    "tags": []
   },
   "outputs": [],
   "source": [
    "RFmodel = RandomForestClassifier().fit(X_train,y_train)"
   ]
  },
  {
   "cell_type": "code",
   "execution_count": 24,
   "metadata": {
    "execution": {
     "iopub.execute_input": "2020-12-07T21:05:15.565020Z",
     "iopub.status.busy": "2020-12-07T21:05:15.564115Z",
     "iopub.status.idle": "2020-12-07T21:05:15.585410Z",
     "shell.execute_reply": "2020-12-07T21:05:15.586084Z"
    },
    "papermill": {
     "duration": 0.080472,
     "end_time": "2020-12-07T21:05:15.586280",
     "exception": false,
     "start_time": "2020-12-07T21:05:15.505808",
     "status": "completed"
    },
    "tags": []
   },
   "outputs": [
    {
     "data": {
      "text/plain": [
       "0.51"
      ]
     },
     "execution_count": 24,
     "metadata": {},
     "output_type": "execute_result"
    }
   ],
   "source": [
    "RFmodel.score(X_test,y_test)"
   ]
  },
  {
   "cell_type": "markdown",
   "metadata": {
    "papermill": {
     "duration": 0.053066,
     "end_time": "2020-12-07T21:05:15.687851",
     "exception": false,
     "start_time": "2020-12-07T21:05:15.634785",
     "status": "completed"
    },
    "tags": []
   },
   "source": [
    "Slightly better improvement. Score is low for basic binary classification, probably due to even distribution of generated satisfaction points. It would be different for sure with real-world data."
   ]
  },
  {
   "cell_type": "markdown",
   "metadata": {
    "papermill": {
     "duration": 0.048435,
     "end_time": "2020-12-07T21:05:15.788536",
     "exception": false,
     "start_time": "2020-12-07T21:05:15.740101",
     "status": "completed"
    },
    "tags": []
   },
   "source": [
    "Anyway, let's finish notebook with confusion matrix"
   ]
  },
  {
   "cell_type": "code",
   "execution_count": 25,
   "metadata": {
    "execution": {
     "iopub.execute_input": "2020-12-07T21:05:15.918668Z",
     "iopub.status.busy": "2020-12-07T21:05:15.895564Z",
     "iopub.status.idle": "2020-12-07T21:05:15.925404Z",
     "shell.execute_reply": "2020-12-07T21:05:15.924639Z"
    },
    "papermill": {
     "duration": 0.088262,
     "end_time": "2020-12-07T21:05:15.925542",
     "exception": false,
     "start_time": "2020-12-07T21:05:15.837280",
     "status": "completed"
    },
    "tags": []
   },
   "outputs": [
    {
     "data": {
      "text/plain": [
       "array([[21, 24],\n",
       "       [25, 30]])"
      ]
     },
     "execution_count": 25,
     "metadata": {},
     "output_type": "execute_result"
    }
   ],
   "source": [
    "test_pred = RFmodel.predict(X_test)\n",
    "cm = confusion_matrix(y_test,test_pred)\n",
    "cm"
   ]
  },
  {
   "cell_type": "markdown",
   "metadata": {
    "papermill": {
     "duration": 0.051934,
     "end_time": "2020-12-07T21:05:16.031125",
     "exception": false,
     "start_time": "2020-12-07T21:05:15.979191",
     "status": "completed"
    },
    "tags": []
   },
   "source": [
    "and feature importance"
   ]
  },
  {
   "cell_type": "code",
   "execution_count": 26,
   "metadata": {
    "execution": {
     "iopub.execute_input": "2020-12-07T21:05:16.155618Z",
     "iopub.status.busy": "2020-12-07T21:05:16.153137Z",
     "iopub.status.idle": "2020-12-07T21:05:16.386886Z",
     "shell.execute_reply": "2020-12-07T21:05:16.386202Z"
    },
    "papermill": {
     "duration": 0.296643,
     "end_time": "2020-12-07T21:05:16.387040",
     "exception": false,
     "start_time": "2020-12-07T21:05:16.090397",
     "status": "completed"
    },
    "tags": []
   },
   "outputs": [
    {
     "data": {
      "text/plain": [
       "([<matplotlib.axis.YTick at 0x7f75ac9c9e10>,\n",
       "  <matplotlib.axis.YTick at 0x7f75aca3cf10>,\n",
       "  <matplotlib.axis.YTick at 0x7f75ac9c51d0>,\n",
       "  <matplotlib.axis.YTick at 0x7f75ac988d50>,\n",
       "  <matplotlib.axis.YTick at 0x7f75ac988bd0>,\n",
       "  <matplotlib.axis.YTick at 0x7f75ac992690>,\n",
       "  <matplotlib.axis.YTick at 0x7f75ac992c10>,\n",
       "  <matplotlib.axis.YTick at 0x7f75ac99a1d0>,\n",
       "  <matplotlib.axis.YTick at 0x7f75ac99a6d0>,\n",
       "  <matplotlib.axis.YTick at 0x7f75ac99ac10>,\n",
       "  <matplotlib.axis.YTick at 0x7f75ac922190>],\n",
       " [Text(0, 0, 'Dept'),\n",
       "  Text(0, 0, 'location'),\n",
       "  Text(0, 0, 'education'),\n",
       "  Text(0, 0, 'recruitment_type'),\n",
       "  Text(0, 0, 'job_level'),\n",
       "  Text(0, 0, 'rating'),\n",
       "  Text(0, 0, 'onsite'),\n",
       "  Text(0, 0, 'awards'),\n",
       "  Text(0, 0, 'certifications'),\n",
       "  Text(0, 0, 'salary'),\n",
       "  Text(0, 0, 'satisfied')])"
      ]
     },
     "execution_count": 26,
     "metadata": {},
     "output_type": "execute_result"
    },
    {
     "data": {
      "image/png": "[encoded data removed]",
      "text/plain": [
       "<Figure size 432x288 with 1 Axes>"
      ]
     },
     "metadata": {
      "needs_background": "light"
     },
     "output_type": "display_data"
    }
   ],
   "source": [
    "n_features = X.shape[1]\n",
    "plt.barh(range(n_features),RFmodel.feature_importances_)\n",
    "plt.yticks(np.arange(n_features),df.columns[1:])"
   ]
  },
  {
   "cell_type": "code",
   "execution_count": null,
   "metadata": {
    "papermill": {
     "duration": 0.056012,
     "end_time": "2020-12-07T21:05:16.497917",
     "exception": false,
     "start_time": "2020-12-07T21:05:16.441905",
     "status": "completed"
    },
    "tags": []
   },
   "outputs": [],
   "source": []
  }
 ],
 "metadata": {
  "kernelspec": {
   "display_name": "Python 3",
   "language": "python",
   "name": "python3"
  },
  "language_info": {
   "codemirror_mode": {
    "name": "ipython",
    "version": 3
   },
   "file_extension": ".py",
   "mimetype": "text/x-python",
   "name": "python",
   "nbconvert_exporter": "python",
   "pygments_lexer": "ipython3",
   "version": "3.7.6"
  },
  "papermill": {
   "duration": 16.458593,
   "end_time": "2020-12-07T21:05:16.660250",
   "environment_variables": {},
   "exception": null,
   "input_path": "__notebook__.ipynb",
   "output_path": "__notebook__.ipynb",
   "parameters": {},
   "start_time": "2020-12-07T21:05:00.201657",
   "version": "2.1.0"
  }
 },
 "nbformat": 4,
 "nbformat_minor": 4
}
