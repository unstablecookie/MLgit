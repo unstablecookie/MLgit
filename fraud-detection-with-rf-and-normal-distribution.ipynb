{
 "cells": [
  {
   "cell_type": "code",
   "execution_count": 1,
   "metadata": {
    "_cell_guid": "b1076dfc-b9ad-4769-8c92-a6c4dae69d19",
    "_uuid": "8f2839f25d086af736a60e9eeb907d3b93b6e0e5",
    "execution": {
     "iopub.execute_input": "2020-12-17T09:34:04.216840Z",
     "iopub.status.busy": "2020-12-17T09:34:04.215920Z",
     "iopub.status.idle": "2020-12-17T09:34:05.646870Z",
     "shell.execute_reply": "2020-12-17T09:34:05.646200Z"
    },
    "papermill": {
     "duration": 1.492115,
     "end_time": "2020-12-17T09:34:05.646981",
     "exception": false,
     "start_time": "2020-12-17T09:34:04.154866",
     "status": "completed"
    },
    "tags": []
   },
   "outputs": [],
   "source": [
    "import warnings\n",
    "warnings.simplefilter(action='ignore', category=FutureWarning)\n",
    "\n",
    "import pandas as pd\n",
    "import numpy as np\n",
    "import matplotlib.pyplot as plt\n",
    "import seaborn as sns\n",
    "import os\n",
    "\n",
    "from pathlib import Path\n",
    "from matplotlib import gridspec\n",
    "from sklearn.ensemble import RandomForestClassifier\n",
    "from sklearn.model_selection import train_test_split\n",
    "from scipy.stats import multivariate_normal\n",
    "\n",
    "from sklearn.metrics import f1_score\n",
    "from sklearn.metrics import recall_score\n",
    "from sklearn.metrics import precision_score"
   ]
  },
  {
   "cell_type": "code",
   "execution_count": 2,
   "metadata": {
    "_cell_guid": "79c7e3d0-c299-4dcb-8224-4455121ee9b0",
    "_uuid": "d629ff2d2480ee46fbb7e2d37f6b5fab8052498a",
    "execution": {
     "iopub.execute_input": "2020-12-17T09:34:05.723568Z",
     "iopub.status.busy": "2020-12-17T09:34:05.722640Z",
     "iopub.status.idle": "2020-12-17T09:34:05.736484Z",
     "shell.execute_reply": "2020-12-17T09:34:05.735756Z"
    },
    "papermill": {
     "duration": 0.054171,
     "end_time": "2020-12-17T09:34:05.736647",
     "exception": false,
     "start_time": "2020-12-17T09:34:05.682476",
     "status": "completed"
    },
    "tags": []
   },
   "outputs": [
    {
     "name": "stdout",
     "output_type": "stream",
     "text": [
      "/kaggle/input/creditcardfraud/creditcard.csv\n"
     ]
    }
   ],
   "source": [
    "for dirname, _, filenames in os.walk('/kaggle/input'):\n",
    "    for filename in filenames:\n",
    "        print(os.path.join(dirname, filename))"
   ]
  },
  {
   "cell_type": "code",
   "execution_count": 3,
   "metadata": {
    "execution": {
     "iopub.execute_input": "2020-12-17T09:34:05.815147Z",
     "iopub.status.busy": "2020-12-17T09:34:05.814534Z",
     "iopub.status.idle": "2020-12-17T09:34:09.684107Z",
     "shell.execute_reply": "2020-12-17T09:34:09.683399Z"
    },
    "papermill": {
     "duration": 3.910752,
     "end_time": "2020-12-17T09:34:09.684220",
     "exception": false,
     "start_time": "2020-12-17T09:34:05.773468",
     "status": "completed"
    },
    "tags": []
   },
   "outputs": [],
   "source": [
    "path = Path('/kaggle/input/creditcardfraud/creditcard.csv')\n",
    "df = pd.read_csv(path)"
   ]
  },
  {
   "cell_type": "markdown",
   "metadata": {
    "papermill": {
     "duration": 0.034933,
     "end_time": "2020-12-17T09:34:09.754699",
     "exception": false,
     "start_time": "2020-12-17T09:34:09.719766",
     "status": "completed"
    },
    "tags": []
   },
   "source": [
    "let's run standard data check. looking for empty cells"
   ]
  },
  {
   "cell_type": "code",
   "execution_count": 4,
   "metadata": {
    "execution": {
     "iopub.execute_input": "2020-12-17T09:34:09.834062Z",
     "iopub.status.busy": "2020-12-17T09:34:09.833408Z",
     "iopub.status.idle": "2020-12-17T09:34:09.878743Z",
     "shell.execute_reply": "2020-12-17T09:34:09.878128Z"
    },
    "papermill": {
     "duration": 0.087768,
     "end_time": "2020-12-17T09:34:09.878848",
     "exception": false,
     "start_time": "2020-12-17T09:34:09.791080",
     "status": "completed"
    },
    "tags": []
   },
   "outputs": [
    {
     "data": {
      "text/html": [
       "<div>\n",
       "<style scoped>\n",
       "    .dataframe tbody tr th:only-of-type {\n",
       "        vertical-align: middle;\n",
       "    }\n",
       "\n",
       "    .dataframe tbody tr th {\n",
       "        vertical-align: top;\n",
       "    }\n",
       "\n",
       "    .dataframe thead th {\n",
       "        text-align: right;\n",
       "    }\n",
       "</style>\n",
       "<table border=\"1\" class=\"dataframe\">\n",
       "  <thead>\n",
       "    <tr style=\"text-align: right;\">\n",
       "      <th></th>\n",
       "      <th>Time</th>\n",
       "      <th>V1</th>\n",
       "      <th>V2</th>\n",
       "      <th>V3</th>\n",
       "      <th>V4</th>\n",
       "      <th>V5</th>\n",
       "      <th>V6</th>\n",
       "      <th>V7</th>\n",
       "      <th>V8</th>\n",
       "      <th>V9</th>\n",
       "      <th>...</th>\n",
       "      <th>V21</th>\n",
       "      <th>V22</th>\n",
       "      <th>V23</th>\n",
       "      <th>V24</th>\n",
       "      <th>V25</th>\n",
       "      <th>V26</th>\n",
       "      <th>V27</th>\n",
       "      <th>V28</th>\n",
       "      <th>Amount</th>\n",
       "      <th>Class</th>\n",
       "    </tr>\n",
       "  </thead>\n",
       "  <tbody>\n",
       "    <tr>\n",
       "      <th>168850</th>\n",
       "      <td>119414.0</td>\n",
       "      <td>2.020765</td>\n",
       "      <td>-0.967323</td>\n",
       "      <td>-1.409797</td>\n",
       "      <td>-0.877021</td>\n",
       "      <td>0.369254</td>\n",
       "      <td>1.551308</td>\n",
       "      <td>-0.871212</td>\n",
       "      <td>0.418395</td>\n",
       "      <td>-0.529123</td>\n",
       "      <td>...</td>\n",
       "      <td>-0.301618</td>\n",
       "      <td>-0.235324</td>\n",
       "      <td>0.300288</td>\n",
       "      <td>-0.946692</td>\n",
       "      <td>-0.453302</td>\n",
       "      <td>0.637371</td>\n",
       "      <td>-0.004462</td>\n",
       "      <td>-0.074363</td>\n",
       "      <td>20.00</td>\n",
       "      <td>0</td>\n",
       "    </tr>\n",
       "    <tr>\n",
       "      <th>182380</th>\n",
       "      <td>125372.0</td>\n",
       "      <td>1.817556</td>\n",
       "      <td>0.098325</td>\n",
       "      <td>0.926822</td>\n",
       "      <td>4.090975</td>\n",
       "      <td>-0.686642</td>\n",
       "      <td>0.768119</td>\n",
       "      <td>-0.905461</td>\n",
       "      <td>0.272772</td>\n",
       "      <td>0.270806</td>\n",
       "      <td>...</td>\n",
       "      <td>-0.041591</td>\n",
       "      <td>0.203251</td>\n",
       "      <td>0.299280</td>\n",
       "      <td>0.031108</td>\n",
       "      <td>-0.401301</td>\n",
       "      <td>-0.129334</td>\n",
       "      <td>0.058925</td>\n",
       "      <td>-0.020396</td>\n",
       "      <td>1.00</td>\n",
       "      <td>0</td>\n",
       "    </tr>\n",
       "    <tr>\n",
       "      <th>79697</th>\n",
       "      <td>58134.0</td>\n",
       "      <td>1.518334</td>\n",
       "      <td>-0.956920</td>\n",
       "      <td>-0.498684</td>\n",
       "      <td>-1.708495</td>\n",
       "      <td>-0.597479</td>\n",
       "      <td>-0.316279</td>\n",
       "      <td>-0.555302</td>\n",
       "      <td>-0.170220</td>\n",
       "      <td>-2.368379</td>\n",
       "      <td>...</td>\n",
       "      <td>-0.509894</td>\n",
       "      <td>-1.237649</td>\n",
       "      <td>-0.034605</td>\n",
       "      <td>-0.897688</td>\n",
       "      <td>0.452648</td>\n",
       "      <td>-0.398018</td>\n",
       "      <td>-0.008757</td>\n",
       "      <td>-0.000475</td>\n",
       "      <td>48.92</td>\n",
       "      <td>0</td>\n",
       "    </tr>\n",
       "  </tbody>\n",
       "</table>\n",
       "<p>3 rows × 31 columns</p>\n",
       "</div>"
      ],
      "text/plain": [
       "            Time        V1        V2        V3        V4        V5        V6  \\\n",
       "168850  119414.0  2.020765 -0.967323 -1.409797 -0.877021  0.369254  1.551308   \n",
       "182380  125372.0  1.817556  0.098325  0.926822  4.090975 -0.686642  0.768119   \n",
       "79697    58134.0  1.518334 -0.956920 -0.498684 -1.708495 -0.597479 -0.316279   \n",
       "\n",
       "              V7        V8        V9  ...       V21       V22       V23  \\\n",
       "168850 -0.871212  0.418395 -0.529123  ... -0.301618 -0.235324  0.300288   \n",
       "182380 -0.905461  0.272772  0.270806  ... -0.041591  0.203251  0.299280   \n",
       "79697  -0.555302 -0.170220 -2.368379  ... -0.509894 -1.237649 -0.034605   \n",
       "\n",
       "             V24       V25       V26       V27       V28  Amount  Class  \n",
       "168850 -0.946692 -0.453302  0.637371 -0.004462 -0.074363   20.00      0  \n",
       "182380  0.031108 -0.401301 -0.129334  0.058925 -0.020396    1.00      0  \n",
       "79697  -0.897688  0.452648 -0.398018 -0.008757 -0.000475   48.92      0  \n",
       "\n",
       "[3 rows x 31 columns]"
      ]
     },
     "execution_count": 4,
     "metadata": {},
     "output_type": "execute_result"
    }
   ],
   "source": [
    "df.sample(3)"
   ]
  },
  {
   "cell_type": "code",
   "execution_count": 5,
   "metadata": {
    "execution": {
     "iopub.execute_input": "2020-12-17T09:34:09.956066Z",
     "iopub.status.busy": "2020-12-17T09:34:09.955389Z",
     "iopub.status.idle": "2020-12-17T09:34:09.976855Z",
     "shell.execute_reply": "2020-12-17T09:34:09.976231Z"
    },
    "papermill": {
     "duration": 0.061818,
     "end_time": "2020-12-17T09:34:09.976964",
     "exception": false,
     "start_time": "2020-12-17T09:34:09.915146",
     "status": "completed"
    },
    "tags": []
   },
   "outputs": [
    {
     "data": {
      "text/plain": [
       "Time      0\n",
       "V1        0\n",
       "V2        0\n",
       "V3        0\n",
       "V4        0\n",
       "V5        0\n",
       "V6        0\n",
       "V7        0\n",
       "V8        0\n",
       "V9        0\n",
       "V10       0\n",
       "V11       0\n",
       "V12       0\n",
       "V13       0\n",
       "V14       0\n",
       "V15       0\n",
       "V16       0\n",
       "V17       0\n",
       "V18       0\n",
       "V19       0\n",
       "V20       0\n",
       "V21       0\n",
       "V22       0\n",
       "V23       0\n",
       "V24       0\n",
       "V25       0\n",
       "V26       0\n",
       "V27       0\n",
       "V28       0\n",
       "Amount    0\n",
       "Class     0\n",
       "dtype: int64"
      ]
     },
     "execution_count": 5,
     "metadata": {},
     "output_type": "execute_result"
    }
   ],
   "source": [
    "df.isna().sum()"
   ]
  },
  {
   "cell_type": "code",
   "execution_count": 6,
   "metadata": {
    "execution": {
     "iopub.execute_input": "2020-12-17T09:34:10.059712Z",
     "iopub.status.busy": "2020-12-17T09:34:10.058886Z",
     "iopub.status.idle": "2020-12-17T09:34:10.129199Z",
     "shell.execute_reply": "2020-12-17T09:34:10.128674Z"
    },
    "papermill": {
     "duration": 0.115221,
     "end_time": "2020-12-17T09:34:10.129327",
     "exception": false,
     "start_time": "2020-12-17T09:34:10.014106",
     "status": "completed"
    },
    "tags": []
   },
   "outputs": [
    {
     "data": {
      "text/plain": [
       "(284807,\n",
       " 0    284315\n",
       " Name: Class, dtype: int64,\n",
       " 1    492\n",
       " Name: Class, dtype: int64)"
      ]
     },
     "execution_count": 6,
     "metadata": {},
     "output_type": "execute_result"
    }
   ],
   "source": [
    "# total number of positive and negative fraud values\n",
    "df.shape[0],df[df['Class'] == 0].Class.value_counts(),df[df['Class'] == 1].Class.value_counts()"
   ]
  },
  {
   "cell_type": "code",
   "execution_count": 7,
   "metadata": {
    "execution": {
     "iopub.execute_input": "2020-12-17T09:34:10.208128Z",
     "iopub.status.busy": "2020-12-17T09:34:10.207267Z",
     "iopub.status.idle": "2020-12-17T09:34:10.346380Z",
     "shell.execute_reply": "2020-12-17T09:34:10.345526Z"
    },
    "papermill": {
     "duration": 0.18053,
     "end_time": "2020-12-17T09:34:10.346509",
     "exception": false,
     "start_time": "2020-12-17T09:34:10.165979",
     "status": "completed"
    },
    "tags": []
   },
   "outputs": [
    {
     "data": {
      "text/plain": [
       "<matplotlib.axes._subplots.AxesSubplot at 0x7f3a61a62650>"
      ]
     },
     "execution_count": 7,
     "metadata": {},
     "output_type": "execute_result"
    },
    {
     "data": {
      "image/png": "[encoded data removed]",
      "text/plain": [
       "<Figure size 432x288 with 1 Axes>"
      ]
     },
     "metadata": {
      "needs_background": "light"
     },
     "output_type": "display_data"
    }
   ],
   "source": [
    "sns.countplot(df.Class)"
   ]
  },
  {
   "cell_type": "markdown",
   "metadata": {
    "papermill": {
     "duration": 0.071695,
     "end_time": "2020-12-17T09:34:10.482454",
     "exception": false,
     "start_time": "2020-12-17T09:34:10.410759",
     "status": "completed"
    },
    "tags": []
   },
   "source": [
    "0 is for normal operations and 1 is for fraud.\n",
    "there are very few fraud operations , it could be hard to run any binary classifier.\n",
    "i would like to look for the feature importance first with random forest calssifier"
   ]
  },
  {
   "cell_type": "code",
   "execution_count": 8,
   "metadata": {
    "execution": {
     "iopub.execute_input": "2020-12-17T09:34:10.622637Z",
     "iopub.status.busy": "2020-12-17T09:34:10.621682Z",
     "iopub.status.idle": "2020-12-17T09:34:10.626127Z",
     "shell.execute_reply": "2020-12-17T09:34:10.625424Z"
    },
    "papermill": {
     "duration": 0.082433,
     "end_time": "2020-12-17T09:34:10.626266",
     "exception": false,
     "start_time": "2020-12-17T09:34:10.543833",
     "status": "completed"
    },
    "tags": []
   },
   "outputs": [],
   "source": [
    "X = df.drop(['Time','Class'],axis=1)\n",
    "y = df.Class"
   ]
  },
  {
   "cell_type": "code",
   "execution_count": 9,
   "metadata": {
    "execution": {
     "iopub.execute_input": "2020-12-17T09:34:10.749555Z",
     "iopub.status.busy": "2020-12-17T09:34:10.748856Z",
     "iopub.status.idle": "2020-12-17T09:34:10.828375Z",
     "shell.execute_reply": "2020-12-17T09:34:10.827699Z"
    },
    "papermill": {
     "duration": 0.143531,
     "end_time": "2020-12-17T09:34:10.828483",
     "exception": false,
     "start_time": "2020-12-17T09:34:10.684952",
     "status": "completed"
    },
    "tags": []
   },
   "outputs": [],
   "source": [
    "X_train,X_test,y_train,y_test=train_test_split(X,y,test_size=0.2,random_state=0)"
   ]
  },
  {
   "cell_type": "code",
   "execution_count": 10,
   "metadata": {
    "execution": {
     "iopub.execute_input": "2020-12-17T09:34:10.915422Z",
     "iopub.status.busy": "2020-12-17T09:34:10.913945Z",
     "iopub.status.idle": "2020-12-17T09:38:54.747001Z",
     "shell.execute_reply": "2020-12-17T09:38:54.747419Z"
    },
    "papermill": {
     "duration": 283.879969,
     "end_time": "2020-12-17T09:38:54.747530",
     "exception": false,
     "start_time": "2020-12-17T09:34:10.867561",
     "status": "completed"
    },
    "tags": []
   },
   "outputs": [
    {
     "data": {
      "text/plain": [
       "RandomForestClassifier()"
      ]
     },
     "execution_count": 10,
     "metadata": {},
     "output_type": "execute_result"
    }
   ],
   "source": [
    "RFmodel = RandomForestClassifier(n_estimators=100)\n",
    "RFmodel.fit(X_train,y_train)"
   ]
  },
  {
   "cell_type": "code",
   "execution_count": 11,
   "metadata": {
    "execution": {
     "iopub.execute_input": "2020-12-17T09:38:54.808843Z",
     "iopub.status.busy": "2020-12-17T09:38:54.808207Z",
     "iopub.status.idle": "2020-12-17T09:38:55.303206Z",
     "shell.execute_reply": "2020-12-17T09:38:55.302551Z"
    },
    "papermill": {
     "duration": 0.528043,
     "end_time": "2020-12-17T09:38:55.303311",
     "exception": false,
     "start_time": "2020-12-17T09:38:54.775268",
     "status": "completed"
    },
    "tags": []
   },
   "outputs": [
    {
     "data": {
      "text/plain": [
       "0.9995435553526912"
      ]
     },
     "execution_count": 11,
     "metadata": {},
     "output_type": "execute_result"
    }
   ],
   "source": [
    "RFmodel.score(X_test,y_test)"
   ]
  },
  {
   "cell_type": "markdown",
   "metadata": {
    "papermill": {
     "duration": 0.04025,
     "end_time": "2020-12-17T09:38:55.384305",
     "exception": false,
     "start_time": "2020-12-17T09:38:55.344055",
     "status": "completed"
    },
    "tags": []
   },
   "source": [
    "we've got a surprisingly high score"
   ]
  },
  {
   "cell_type": "markdown",
   "metadata": {
    "papermill": {
     "duration": 0.040672,
     "end_time": "2020-12-17T09:38:55.466280",
     "exception": false,
     "start_time": "2020-12-17T09:38:55.425608",
     "status": "completed"
    },
    "tags": []
   },
   "source": [
    "**Feature importance**"
   ]
  },
  {
   "cell_type": "code",
   "execution_count": 12,
   "metadata": {
    "execution": {
     "iopub.execute_input": "2020-12-17T09:38:55.583953Z",
     "iopub.status.busy": "2020-12-17T09:38:55.579999Z",
     "iopub.status.idle": "2020-12-17T09:38:55.952267Z",
     "shell.execute_reply": "2020-12-17T09:38:55.951618Z"
    },
    "papermill": {
     "duration": 0.444551,
     "end_time": "2020-12-17T09:38:55.952372",
     "exception": false,
     "start_time": "2020-12-17T09:38:55.507821",
     "status": "completed"
    },
    "tags": []
   },
   "outputs": [
    {
     "data": {
      "text/plain": [
       "(-1.0, 29.0)"
      ]
     },
     "execution_count": 12,
     "metadata": {},
     "output_type": "execute_result"
    },
    {
     "data": {
      "image/png": "[encoded data removed]",
      "text/plain": [
       "<Figure size 792x576 with 1 Axes>"
      ]
     },
     "metadata": {
      "needs_background": "light"
     },
     "output_type": "display_data"
    }
   ],
   "source": [
    "plt.figure(figsize=(11,8))\n",
    "indices = np.argsort(RFmodel.feature_importances_)\n",
    "importances = RFmodel.feature_importances_\n",
    "plt.barh(range(X.shape[1]), importances[indices],color=\"g\")\n",
    "plt.yticks(range(X.shape[1]), X.columns[indices])\n",
    "plt.ylim(-1,X.shape[1])"
   ]
  },
  {
   "cell_type": "markdown",
   "metadata": {
    "papermill": {
     "duration": 0.040323,
     "end_time": "2020-12-17T09:38:56.033685",
     "exception": false,
     "start_time": "2020-12-17T09:38:55.993362",
     "status": "completed"
    },
    "tags": []
   },
   "source": [
    "Random forest won't perform well with out-of-domain data, is this case due to very low amount of positive results i want to check if top important features fit normal distribution"
   ]
  },
  {
   "cell_type": "code",
   "execution_count": 13,
   "metadata": {
    "execution": {
     "iopub.execute_input": "2020-12-17T09:38:56.121155Z",
     "iopub.status.busy": "2020-12-17T09:38:56.120349Z",
     "iopub.status.idle": "2020-12-17T09:38:56.125377Z",
     "shell.execute_reply": "2020-12-17T09:38:56.124608Z"
    },
    "papermill": {
     "duration": 0.051294,
     "end_time": "2020-12-17T09:38:56.125477",
     "exception": false,
     "start_time": "2020-12-17T09:38:56.074183",
     "status": "completed"
    },
    "tags": []
   },
   "outputs": [],
   "source": [
    "features_list = X.columns[indices].tolist()\n",
    "top5 = features_list[-5:]"
   ]
  },
  {
   "cell_type": "code",
   "execution_count": 14,
   "metadata": {
    "execution": {
     "iopub.execute_input": "2020-12-17T09:38:56.223388Z",
     "iopub.status.busy": "2020-12-17T09:38:56.219135Z",
     "iopub.status.idle": "2020-12-17T09:38:57.580585Z",
     "shell.execute_reply": "2020-12-17T09:38:57.579856Z"
    },
    "papermill": {
     "duration": 1.414776,
     "end_time": "2020-12-17T09:38:57.580720",
     "exception": false,
     "start_time": "2020-12-17T09:38:56.165944",
     "status": "completed"
    },
    "tags": []
   },
   "outputs": [
    {
     "data": {
      "image/png": "[encoded data removed]",
      "text/plain": [
       "<Figure size 720x720 with 5 Axes>"
      ]
     },
     "metadata": {
      "needs_background": "light"
     },
     "output_type": "display_data"
    }
   ],
   "source": [
    "plt.figure(figsize=(10,10))\n",
    "GS = gridspec.GridSpec(6,4)\n",
    "for number,feature in enumerate(top5):\n",
    "    ax = plt.subplot(GS[number])\n",
    "    sns.distplot(df[feature],bins=50)"
   ]
  },
  {
   "cell_type": "markdown",
   "metadata": {
    "papermill": {
     "duration": 0.063475,
     "end_time": "2020-12-17T09:38:57.708837",
     "exception": false,
     "start_time": "2020-12-17T09:38:57.645362",
     "status": "completed"
    },
    "tags": []
   },
   "source": [
    "data is well centered , probably due to normalization . \n",
    "sigma and mu are easy to find ,at this point i will use anomaly detection method as an addition to random forest classifier"
   ]
  },
  {
   "cell_type": "markdown",
   "metadata": {
    "papermill": {
     "duration": 0.063166,
     "end_time": "2020-12-17T09:38:57.836871",
     "exception": false,
     "start_time": "2020-12-17T09:38:57.773705",
     "status": "completed"
    },
    "tags": []
   },
   "source": [
    "**Anomaly detection**"
   ]
  },
  {
   "cell_type": "code",
   "execution_count": 15,
   "metadata": {
    "execution": {
     "iopub.execute_input": "2020-12-17T09:38:57.973336Z",
     "iopub.status.busy": "2020-12-17T09:38:57.972424Z",
     "iopub.status.idle": "2020-12-17T09:38:57.975584Z",
     "shell.execute_reply": "2020-12-17T09:38:57.975086Z"
    },
    "papermill": {
     "duration": 0.075181,
     "end_time": "2020-12-17T09:38:57.975692",
     "exception": false,
     "start_time": "2020-12-17T09:38:57.900511",
     "status": "completed"
    },
    "tags": []
   },
   "outputs": [],
   "source": [
    "df_ad = df.drop(features_list[:-5],axis=1)"
   ]
  },
  {
   "cell_type": "code",
   "execution_count": 16,
   "metadata": {
    "execution": {
     "iopub.execute_input": "2020-12-17T09:38:58.070096Z",
     "iopub.status.busy": "2020-12-17T09:38:58.069475Z",
     "iopub.status.idle": "2020-12-17T09:38:58.072758Z",
     "shell.execute_reply": "2020-12-17T09:38:58.073281Z"
    },
    "papermill": {
     "duration": 0.054566,
     "end_time": "2020-12-17T09:38:58.073398",
     "exception": false,
     "start_time": "2020-12-17T09:38:58.018832",
     "status": "completed"
    },
    "tags": []
   },
   "outputs": [],
   "source": [
    "df_ad.drop(['Time'],axis=1,inplace=True)"
   ]
  },
  {
   "cell_type": "code",
   "execution_count": 17,
   "metadata": {
    "execution": {
     "iopub.execute_input": "2020-12-17T09:38:58.161261Z",
     "iopub.status.busy": "2020-12-17T09:38:58.160665Z",
     "iopub.status.idle": "2020-12-17T09:38:58.179053Z",
     "shell.execute_reply": "2020-12-17T09:38:58.178441Z"
    },
    "papermill": {
     "duration": 0.064027,
     "end_time": "2020-12-17T09:38:58.179146",
     "exception": false,
     "start_time": "2020-12-17T09:38:58.115119",
     "status": "completed"
    },
    "tags": []
   },
   "outputs": [
    {
     "data": {
      "text/html": [
       "<div>\n",
       "<style scoped>\n",
       "    .dataframe tbody tr th:only-of-type {\n",
       "        vertical-align: middle;\n",
       "    }\n",
       "\n",
       "    .dataframe tbody tr th {\n",
       "        vertical-align: top;\n",
       "    }\n",
       "\n",
       "    .dataframe thead th {\n",
       "        text-align: right;\n",
       "    }\n",
       "</style>\n",
       "<table border=\"1\" class=\"dataframe\">\n",
       "  <thead>\n",
       "    <tr style=\"text-align: right;\">\n",
       "      <th></th>\n",
       "      <th>V10</th>\n",
       "      <th>V11</th>\n",
       "      <th>V12</th>\n",
       "      <th>V14</th>\n",
       "      <th>V17</th>\n",
       "      <th>Class</th>\n",
       "    </tr>\n",
       "  </thead>\n",
       "  <tbody>\n",
       "    <tr>\n",
       "      <th>101997</th>\n",
       "      <td>1.353885</td>\n",
       "      <td>-0.331071</td>\n",
       "      <td>-0.712598</td>\n",
       "      <td>0.026510</td>\n",
       "      <td>0.835405</td>\n",
       "      <td>0</td>\n",
       "    </tr>\n",
       "    <tr>\n",
       "      <th>176229</th>\n",
       "      <td>-4.998698</td>\n",
       "      <td>-1.531626</td>\n",
       "      <td>2.323761</td>\n",
       "      <td>1.390137</td>\n",
       "      <td>3.553344</td>\n",
       "      <td>0</td>\n",
       "    </tr>\n",
       "    <tr>\n",
       "      <th>18414</th>\n",
       "      <td>-0.752417</td>\n",
       "      <td>0.205337</td>\n",
       "      <td>0.708821</td>\n",
       "      <td>-0.314412</td>\n",
       "      <td>-0.021489</td>\n",
       "      <td>0</td>\n",
       "    </tr>\n",
       "  </tbody>\n",
       "</table>\n",
       "</div>"
      ],
      "text/plain": [
       "             V10       V11       V12       V14       V17  Class\n",
       "101997  1.353885 -0.331071 -0.712598  0.026510  0.835405      0\n",
       "176229 -4.998698 -1.531626  2.323761  1.390137  3.553344      0\n",
       "18414  -0.752417  0.205337  0.708821 -0.314412 -0.021489      0"
      ]
     },
     "execution_count": 17,
     "metadata": {},
     "output_type": "execute_result"
    }
   ],
   "source": [
    "df_ad.sample(3)"
   ]
  },
  {
   "cell_type": "markdown",
   "metadata": {
    "papermill": {
     "duration": 0.042059,
     "end_time": "2020-12-17T09:38:58.263326",
     "exception": false,
     "start_time": "2020-12-17T09:38:58.221267",
     "status": "completed"
    },
    "tags": []
   },
   "source": [
    "perfect.\n",
    "\n",
    "for the sake of simplicity i took only 5 features. And i'm also not sure that anomaly detection with normal distribution will perform well with many features. We also won't need to reprocess the data in case some features are not well distributed around *mu* . if the importance of the feature is low that's look like too much work and disturbance for very little outcome, if any.\n",
    "\n",
    "for anymaly detection we need one training set and two test sets(cross validation and final test) with 60% ,20%, 20% size respectively."
   ]
  },
  {
   "cell_type": "code",
   "execution_count": 18,
   "metadata": {
    "execution": {
     "iopub.execute_input": "2020-12-17T09:38:58.354702Z",
     "iopub.status.busy": "2020-12-17T09:38:58.353953Z",
     "iopub.status.idle": "2020-12-17T09:38:58.363923Z",
     "shell.execute_reply": "2020-12-17T09:38:58.364456Z"
    },
    "papermill": {
     "duration": 0.059287,
     "end_time": "2020-12-17T09:38:58.364578",
     "exception": false,
     "start_time": "2020-12-17T09:38:58.305291",
     "status": "completed"
    },
    "tags": []
   },
   "outputs": [],
   "source": [
    "df_ad_c1 = df_ad[df_ad.Class == 1]\n",
    "df_ad_c0 = df_ad[df_ad.Class == 0]"
   ]
  },
  {
   "cell_type": "code",
   "execution_count": 19,
   "metadata": {
    "execution": {
     "iopub.execute_input": "2020-12-17T09:38:58.456282Z",
     "iopub.status.busy": "2020-12-17T09:38:58.455535Z",
     "iopub.status.idle": "2020-12-17T09:38:58.461611Z",
     "shell.execute_reply": "2020-12-17T09:38:58.460917Z"
    },
    "papermill": {
     "duration": 0.053663,
     "end_time": "2020-12-17T09:38:58.461725",
     "exception": false,
     "start_time": "2020-12-17T09:38:58.408062",
     "status": "completed"
    },
    "tags": []
   },
   "outputs": [
    {
     "data": {
      "text/plain": [
       "(284315, 492)"
      ]
     },
     "execution_count": 19,
     "metadata": {},
     "output_type": "execute_result"
    }
   ],
   "source": [
    "c0_len = len(df_ad_c0)\n",
    "c1_len = len(df_ad_c1)\n",
    "c0_len,c1_len"
   ]
  },
  {
   "cell_type": "code",
   "execution_count": 20,
   "metadata": {
    "execution": {
     "iopub.execute_input": "2020-12-17T09:38:58.555703Z",
     "iopub.status.busy": "2020-12-17T09:38:58.555064Z",
     "iopub.status.idle": "2020-12-17T09:38:58.559168Z",
     "shell.execute_reply": "2020-12-17T09:38:58.558514Z"
    },
    "papermill": {
     "duration": 0.053397,
     "end_time": "2020-12-17T09:38:58.559274",
     "exception": false,
     "start_time": "2020-12-17T09:38:58.505877",
     "status": "completed"
    },
    "tags": []
   },
   "outputs": [],
   "source": [
    "df_ad_c1_cv = df_ad_c1.iloc[:c1_len//2]\n",
    "df_ad_c1_test = df_ad_c1[c1_len//2:]"
   ]
  },
  {
   "cell_type": "code",
   "execution_count": 21,
   "metadata": {
    "execution": {
     "iopub.execute_input": "2020-12-17T09:38:58.653128Z",
     "iopub.status.busy": "2020-12-17T09:38:58.652499Z",
     "iopub.status.idle": "2020-12-17T09:38:58.657739Z",
     "shell.execute_reply": "2020-12-17T09:38:58.658286Z"
    },
    "papermill": {
     "duration": 0.054826,
     "end_time": "2020-12-17T09:38:58.658444",
     "exception": false,
     "start_time": "2020-12-17T09:38:58.603618",
     "status": "completed"
    },
    "tags": []
   },
   "outputs": [
    {
     "data": {
      "text/plain": [
       "(246, 246)"
      ]
     },
     "execution_count": 21,
     "metadata": {},
     "output_type": "execute_result"
    }
   ],
   "source": [
    "len(df_ad_c1_cv),len(df_ad_c1_test)"
   ]
  },
  {
   "cell_type": "code",
   "execution_count": 22,
   "metadata": {
    "execution": {
     "iopub.execute_input": "2020-12-17T09:38:58.754787Z",
     "iopub.status.busy": "2020-12-17T09:38:58.753796Z",
     "iopub.status.idle": "2020-12-17T09:38:58.759815Z",
     "shell.execute_reply": "2020-12-17T09:38:58.758979Z"
    },
    "papermill": {
     "duration": 0.056368,
     "end_time": "2020-12-17T09:38:58.759938",
     "exception": false,
     "start_time": "2020-12-17T09:38:58.703570",
     "status": "completed"
    },
    "tags": []
   },
   "outputs": [
    {
     "data": {
      "text/plain": [
       "56875"
      ]
     },
     "execution_count": 22,
     "metadata": {},
     "output_type": "execute_result"
    }
   ],
   "source": [
    "persent_80 = len(df_ad_c0) - (len(df_ad_c0)//100)*80\n",
    "persent_80"
   ]
  },
  {
   "cell_type": "code",
   "execution_count": 23,
   "metadata": {
    "execution": {
     "iopub.execute_input": "2020-12-17T09:38:58.899951Z",
     "iopub.status.busy": "2020-12-17T09:38:58.899155Z",
     "iopub.status.idle": "2020-12-17T09:38:58.911835Z",
     "shell.execute_reply": "2020-12-17T09:38:58.911324Z"
    },
    "papermill": {
     "duration": 0.084128,
     "end_time": "2020-12-17T09:38:58.911961",
     "exception": false,
     "start_time": "2020-12-17T09:38:58.827833",
     "status": "completed"
    },
    "tags": []
   },
   "outputs": [],
   "source": [
    "np.random.seed(10)\n",
    "drop_indices = np.random.choice(df_ad_c0.index,persent_80,replace=False)"
   ]
  },
  {
   "cell_type": "code",
   "execution_count": 24,
   "metadata": {
    "execution": {
     "iopub.execute_input": "2020-12-17T09:38:59.006989Z",
     "iopub.status.busy": "2020-12-17T09:38:59.006098Z",
     "iopub.status.idle": "2020-12-17T09:38:59.037614Z",
     "shell.execute_reply": "2020-12-17T09:38:59.036890Z"
    },
    "papermill": {
     "duration": 0.080576,
     "end_time": "2020-12-17T09:38:59.037728",
     "exception": false,
     "start_time": "2020-12-17T09:38:58.957152",
     "status": "completed"
    },
    "tags": []
   },
   "outputs": [
    {
     "name": "stderr",
     "output_type": "stream",
     "text": [
      "/opt/conda/lib/python3.7/site-packages/pandas/core/frame.py:4174: SettingWithCopyWarning: \n",
      "A value is trying to be set on a copy of a slice from a DataFrame\n",
      "\n",
      "See the caveats in the documentation: https://pandas.pydata.org/pandas-docs/stable/user_guide/indexing.html#returning-a-view-versus-a-copy\n",
      "  errors=errors,\n"
     ]
    }
   ],
   "source": [
    "df_ad_c0_cv = df_ad_c0.loc[drop_indices]\n",
    "df_ad_c0.drop(drop_indices,inplace=True)"
   ]
  },
  {
   "cell_type": "code",
   "execution_count": 25,
   "metadata": {
    "execution": {
     "iopub.execute_input": "2020-12-17T09:38:59.133063Z",
     "iopub.status.busy": "2020-12-17T09:38:59.132554Z",
     "iopub.status.idle": "2020-12-17T09:38:59.167423Z",
     "shell.execute_reply": "2020-12-17T09:38:59.166746Z"
    },
    "papermill": {
     "duration": 0.084824,
     "end_time": "2020-12-17T09:38:59.167534",
     "exception": false,
     "start_time": "2020-12-17T09:38:59.082710",
     "status": "completed"
    },
    "tags": []
   },
   "outputs": [],
   "source": [
    "drop_indices_test = np.random.choice(df_ad_c0.index,persent_80,replace=False)\n",
    "df_ad_c0_test = df_ad_c0.loc[drop_indices_test]\n",
    "df_ad_c0.drop(drop_indices_test,inplace=True)"
   ]
  },
  {
   "cell_type": "code",
   "execution_count": 26,
   "metadata": {
    "execution": {
     "iopub.execute_input": "2020-12-17T09:38:59.262874Z",
     "iopub.status.busy": "2020-12-17T09:38:59.262300Z",
     "iopub.status.idle": "2020-12-17T09:38:59.268145Z",
     "shell.execute_reply": "2020-12-17T09:38:59.267553Z"
    },
    "papermill": {
     "duration": 0.055466,
     "end_time": "2020-12-17T09:38:59.268245",
     "exception": false,
     "start_time": "2020-12-17T09:38:59.212779",
     "status": "completed"
    },
    "tags": []
   },
   "outputs": [
    {
     "data": {
      "text/plain": [
       "(56875, 56875)"
      ]
     },
     "execution_count": 26,
     "metadata": {},
     "output_type": "execute_result"
    }
   ],
   "source": [
    "len(df_ad_c0_cv), len(df_ad_c0_test)"
   ]
  },
  {
   "cell_type": "markdown",
   "metadata": {
    "papermill": {
     "duration": 0.046282,
     "end_time": "2020-12-17T09:38:59.360189",
     "exception": false,
     "start_time": "2020-12-17T09:38:59.313907",
     "status": "completed"
    },
    "tags": []
   },
   "source": [
    "now i can append dataframes to get full data with both C0 and C1"
   ]
  },
  {
   "cell_type": "code",
   "execution_count": 27,
   "metadata": {
    "execution": {
     "iopub.execute_input": "2020-12-17T09:38:59.459293Z",
     "iopub.status.busy": "2020-12-17T09:38:59.458471Z",
     "iopub.status.idle": "2020-12-17T09:38:59.465540Z",
     "shell.execute_reply": "2020-12-17T09:38:59.464940Z"
    },
    "papermill": {
     "duration": 0.059494,
     "end_time": "2020-12-17T09:38:59.465650",
     "exception": false,
     "start_time": "2020-12-17T09:38:59.406156",
     "status": "completed"
    },
    "tags": []
   },
   "outputs": [
    {
     "data": {
      "text/plain": [
       "57121"
      ]
     },
     "execution_count": 27,
     "metadata": {},
     "output_type": "execute_result"
    }
   ],
   "source": [
    "df_cv_full = df_ad_c1_cv.append(df_ad_c0_cv)\n",
    "len(df_cv_full)"
   ]
  },
  {
   "cell_type": "code",
   "execution_count": 28,
   "metadata": {
    "execution": {
     "iopub.execute_input": "2020-12-17T09:38:59.566388Z",
     "iopub.status.busy": "2020-12-17T09:38:59.565546Z",
     "iopub.status.idle": "2020-12-17T09:38:59.572183Z",
     "shell.execute_reply": "2020-12-17T09:38:59.571501Z"
    },
    "papermill": {
     "duration": 0.059151,
     "end_time": "2020-12-17T09:38:59.572292",
     "exception": false,
     "start_time": "2020-12-17T09:38:59.513141",
     "status": "completed"
    },
    "tags": []
   },
   "outputs": [
    {
     "data": {
      "text/plain": [
       "57121"
      ]
     },
     "execution_count": 28,
     "metadata": {},
     "output_type": "execute_result"
    }
   ],
   "source": [
    "df_test_full = df_ad_c1_test.append(df_ad_c0_test)\n",
    "len(df_test_full)"
   ]
  },
  {
   "cell_type": "code",
   "execution_count": 29,
   "metadata": {
    "execution": {
     "iopub.execute_input": "2020-12-17T09:38:59.674313Z",
     "iopub.status.busy": "2020-12-17T09:38:59.673395Z",
     "iopub.status.idle": "2020-12-17T09:38:59.676705Z",
     "shell.execute_reply": "2020-12-17T09:38:59.677235Z"
    },
    "papermill": {
     "duration": 0.056208,
     "end_time": "2020-12-17T09:38:59.677392",
     "exception": false,
     "start_time": "2020-12-17T09:38:59.621184",
     "status": "completed"
    },
    "tags": []
   },
   "outputs": [],
   "source": [
    "# traning set is df_ad_c0\n",
    "# cross valid set is df_cv_full\n",
    "# and test set is df_test_full"
   ]
  },
  {
   "cell_type": "markdown",
   "metadata": {
    "papermill": {
     "duration": 0.047135,
     "end_time": "2020-12-17T09:38:59.772220",
     "exception": false,
     "start_time": "2020-12-17T09:38:59.725085",
     "status": "completed"
    },
    "tags": []
   },
   "source": [
    "**train \\ cross valid \\ test set**"
   ]
  },
  {
   "cell_type": "code",
   "execution_count": 30,
   "metadata": {
    "execution": {
     "iopub.execute_input": "2020-12-17T09:38:59.882544Z",
     "iopub.status.busy": "2020-12-17T09:38:59.881878Z",
     "iopub.status.idle": "2020-12-17T09:38:59.885882Z",
     "shell.execute_reply": "2020-12-17T09:38:59.885358Z"
    },
    "papermill": {
     "duration": 0.065045,
     "end_time": "2020-12-17T09:38:59.885991",
     "exception": false,
     "start_time": "2020-12-17T09:38:59.820946",
     "status": "completed"
    },
    "tags": []
   },
   "outputs": [],
   "source": [
    "X_train = df_ad_c0.drop(['Class'],axis=1)\n",
    "X_cv = df_cv_full.drop(['Class'],axis=1)\n",
    "X_test = df_test_full.drop(['Class'],axis=1)\n",
    "y_cv = df_cv_full.Class\n",
    "y_test = df_test_full.Class"
   ]
  },
  {
   "cell_type": "markdown",
   "metadata": {
    "papermill": {
     "duration": 0.046585,
     "end_time": "2020-12-17T09:38:59.979555",
     "exception": false,
     "start_time": "2020-12-17T09:38:59.932970",
     "status": "completed"
    },
    "tags": []
   },
   "source": [
    "calculating mu and sigma values"
   ]
  },
  {
   "cell_type": "code",
   "execution_count": 31,
   "metadata": {
    "execution": {
     "iopub.execute_input": "2020-12-17T09:39:00.081884Z",
     "iopub.status.busy": "2020-12-17T09:39:00.080936Z",
     "iopub.status.idle": "2020-12-17T09:39:00.086120Z",
     "shell.execute_reply": "2020-12-17T09:39:00.085241Z"
    },
    "papermill": {
     "duration": 0.059194,
     "end_time": "2020-12-17T09:39:00.086253",
     "exception": false,
     "start_time": "2020-12-17T09:39:00.027059",
     "status": "completed"
    },
    "tags": []
   },
   "outputs": [],
   "source": [
    "def MuSigma(df):\n",
    "    mu = np.mean(df,axis=0)\n",
    "    sigma = np.cov(df.T)\n",
    "    return mu,sigma"
   ]
  },
  {
   "cell_type": "code",
   "execution_count": 32,
   "metadata": {
    "execution": {
     "iopub.execute_input": "2020-12-17T09:39:00.233129Z",
     "iopub.status.busy": "2020-12-17T09:39:00.232435Z",
     "iopub.status.idle": "2020-12-17T09:39:00.243487Z",
     "shell.execute_reply": "2020-12-17T09:39:00.243991Z"
    },
    "papermill": {
     "duration": 0.08675,
     "end_time": "2020-12-17T09:39:00.244160",
     "exception": false,
     "start_time": "2020-12-17T09:39:00.157410",
     "status": "completed"
    },
    "tags": []
   },
   "outputs": [],
   "source": [
    "mu , sigma = MuSigma(X_train)"
   ]
  },
  {
   "cell_type": "markdown",
   "metadata": {
    "papermill": {
     "duration": 0.047808,
     "end_time": "2020-12-17T09:39:00.340451",
     "exception": false,
     "start_time": "2020-12-17T09:39:00.292643",
     "status": "completed"
    },
    "tags": []
   },
   "source": [
    "We use multiple features for anomaly detection, and we need to calculate multivariate normal for them"
   ]
  },
  {
   "cell_type": "code",
   "execution_count": 33,
   "metadata": {
    "execution": {
     "iopub.execute_input": "2020-12-17T09:39:00.448877Z",
     "iopub.status.busy": "2020-12-17T09:39:00.448189Z",
     "iopub.status.idle": "2020-12-17T09:39:00.451733Z",
     "shell.execute_reply": "2020-12-17T09:39:00.452231Z"
    },
    "papermill": {
     "duration": 0.063361,
     "end_time": "2020-12-17T09:39:00.452354",
     "exception": false,
     "start_time": "2020-12-17T09:39:00.388993",
     "status": "completed"
    },
    "tags": []
   },
   "outputs": [],
   "source": [
    "def MultivarNormal(df,mu,sigma):\n",
    "    MN = multivariate_normal(mean=mu,cov=sigma)\n",
    "    return MN.pdf(df)"
   ]
  },
  {
   "cell_type": "code",
   "execution_count": 34,
   "metadata": {
    "execution": {
     "iopub.execute_input": "2020-12-17T09:39:00.628570Z",
     "iopub.status.busy": "2020-12-17T09:39:00.627911Z",
     "iopub.status.idle": "2020-12-17T09:39:00.665554Z",
     "shell.execute_reply": "2020-12-17T09:39:00.664858Z"
    },
    "papermill": {
     "duration": 0.165916,
     "end_time": "2020-12-17T09:39:00.665667",
     "exception": false,
     "start_time": "2020-12-17T09:39:00.499751",
     "status": "completed"
    },
    "tags": []
   },
   "outputs": [],
   "source": [
    "MN = MultivarNormal(X_train,mu,sigma)"
   ]
  },
  {
   "cell_type": "code",
   "execution_count": 35,
   "metadata": {
    "execution": {
     "iopub.execute_input": "2020-12-17T09:39:00.768049Z",
     "iopub.status.busy": "2020-12-17T09:39:00.765472Z",
     "iopub.status.idle": "2020-12-17T09:39:00.777619Z",
     "shell.execute_reply": "2020-12-17T09:39:00.776947Z"
    },
    "papermill": {
     "duration": 0.063598,
     "end_time": "2020-12-17T09:39:00.777729",
     "exception": false,
     "start_time": "2020-12-17T09:39:00.714131",
     "status": "completed"
    },
    "tags": []
   },
   "outputs": [],
   "source": [
    "MN_CV = MultivarNormal(X_cv,mu,sigma)"
   ]
  },
  {
   "cell_type": "code",
   "execution_count": 36,
   "metadata": {
    "execution": {
     "iopub.execute_input": "2020-12-17T09:39:00.880294Z",
     "iopub.status.busy": "2020-12-17T09:39:00.879583Z",
     "iopub.status.idle": "2020-12-17T09:39:00.893774Z",
     "shell.execute_reply": "2020-12-17T09:39:00.893194Z"
    },
    "papermill": {
     "duration": 0.067963,
     "end_time": "2020-12-17T09:39:00.893889",
     "exception": false,
     "start_time": "2020-12-17T09:39:00.825926",
     "status": "completed"
    },
    "tags": []
   },
   "outputs": [],
   "source": [
    "MN_test = MultivarNormal(X_test,mu,sigma)"
   ]
  },
  {
   "cell_type": "markdown",
   "metadata": {
    "papermill": {
     "duration": 0.048097,
     "end_time": "2020-12-17T09:39:00.990183",
     "exception": false,
     "start_time": "2020-12-17T09:39:00.942086",
     "status": "completed"
    },
    "tags": []
   },
   "source": [
    "ideally i want to loop through all epsilon values , but due to time\\perfomance reasons i just can't do that, and will iterate with 1000 or 100 step instead."
   ]
  },
  {
   "cell_type": "code",
   "execution_count": 37,
   "metadata": {
    "execution": {
     "iopub.execute_input": "2020-12-17T09:39:01.094058Z",
     "iopub.status.busy": "2020-12-17T09:39:01.093285Z",
     "iopub.status.idle": "2020-12-17T09:39:01.116391Z",
     "shell.execute_reply": "2020-12-17T09:39:01.115864Z"
    },
    "papermill": {
     "duration": 0.07757,
     "end_time": "2020-12-17T09:39:01.116500",
     "exception": false,
     "start_time": "2020-12-17T09:39:01.038930",
     "status": "completed"
    },
    "tags": []
   },
   "outputs": [],
   "source": [
    "MN_sort = np.sort(MN)\n",
    "s = slice(0,-1,100)\n",
    "MN_sort_100 = MN_sort[s]"
   ]
  },
  {
   "cell_type": "markdown",
   "metadata": {
    "papermill": {
     "duration": 0.047671,
     "end_time": "2020-12-17T09:39:01.212675",
     "exception": false,
     "start_time": "2020-12-17T09:39:01.165004",
     "status": "completed"
    },
    "tags": []
   },
   "source": [
    "calculating F1 score for the cross validation set"
   ]
  },
  {
   "cell_type": "code",
   "execution_count": 38,
   "metadata": {
    "execution": {
     "iopub.execute_input": "2020-12-17T09:39:01.316548Z",
     "iopub.status.busy": "2020-12-17T09:39:01.315717Z",
     "iopub.status.idle": "2020-12-17T09:40:39.965535Z",
     "shell.execute_reply": "2020-12-17T09:40:39.966016Z"
    },
    "papermill": {
     "duration": 98.705659,
     "end_time": "2020-12-17T09:40:39.966184",
     "exception": false,
     "start_time": "2020-12-17T09:39:01.260525",
     "status": "completed"
    },
    "tags": []
   },
   "outputs": [
    {
     "name": "stderr",
     "output_type": "stream",
     "text": [
      "/opt/conda/lib/python3.7/site-packages/sklearn/metrics/_classification.py:1221: UndefinedMetricWarning: Precision is ill-defined and being set to 0.0 due to no predicted samples. Use `zero_division` parameter to control this behavior.\n",
      "  _warn_prf(average, modifier, msg_start, len(result))\n"
     ]
    }
   ],
   "source": [
    "e = 0\n",
    "total_score = []\n",
    "total_recall = []\n",
    "total_precision = []\n",
    "for f in MN_sort_100:\n",
    "    e = f\n",
    "    predscv = MN_CV < e\n",
    "    f1 = f1_score(y_cv,predscv)\n",
    "    total_score.append(f1)\n",
    "    recallcv = recall_score(y_cv,predscv)\n",
    "    total_recall.append(recallcv)\n",
    "    preccv = precision_score(y_cv,predscv)\n",
    "    total_precision.append(preccv)"
   ]
  },
  {
   "cell_type": "code",
   "execution_count": 39,
   "metadata": {
    "execution": {
     "iopub.execute_input": "2020-12-17T09:40:40.072956Z",
     "iopub.status.busy": "2020-12-17T09:40:40.072300Z",
     "iopub.status.idle": "2020-12-17T09:40:40.084282Z",
     "shell.execute_reply": "2020-12-17T09:40:40.083702Z"
    },
    "papermill": {
     "duration": 0.068955,
     "end_time": "2020-12-17T09:40:40.084398",
     "exception": false,
     "start_time": "2020-12-17T09:40:40.015443",
     "status": "completed"
    },
    "tags": []
   },
   "outputs": [],
   "source": [
    "MN_sort_100_df = pd.DataFrame(data=MN_sort_100,columns=['epsilon'])\n",
    "total_score_df = pd.DataFrame(data=total_score,columns=['F1_score'])\n",
    "total_recall_df = pd.DataFrame(data=total_recall,columns=['total_recall'])\n",
    "total_precision_df = pd.DataFrame(data=total_precision,columns=['total_precision'])\n",
    "f1_concat_df = pd.concat([MN_sort_100_df,total_score_df,total_recall_df,total_precision_df],axis=1,sort=False)"
   ]
  },
  {
   "cell_type": "markdown",
   "metadata": {
    "papermill": {
     "duration": 0.049025,
     "end_time": "2020-12-17T09:40:40.182734",
     "exception": false,
     "start_time": "2020-12-17T09:40:40.133709",
     "status": "completed"
    },
    "tags": []
   },
   "source": [
    "**Metrics**\n",
    "\n",
    "we have sort of binary classification, and recall is primary metric for us. But it's obvious that high recall with precision close to 0 makes no sence. We need both high enough ."
   ]
  },
  {
   "cell_type": "code",
   "execution_count": 40,
   "metadata": {
    "execution": {
     "iopub.execute_input": "2020-12-17T09:40:40.290482Z",
     "iopub.status.busy": "2020-12-17T09:40:40.287294Z",
     "iopub.status.idle": "2020-12-17T09:40:40.294525Z",
     "shell.execute_reply": "2020-12-17T09:40:40.294993Z"
    },
    "papermill": {
     "duration": 0.064236,
     "end_time": "2020-12-17T09:40:40.295139",
     "exception": false,
     "start_time": "2020-12-17T09:40:40.230903",
     "status": "completed"
    },
    "tags": []
   },
   "outputs": [
    {
     "data": {
      "text/html": [
       "<div>\n",
       "<style scoped>\n",
       "    .dataframe tbody tr th:only-of-type {\n",
       "        vertical-align: middle;\n",
       "    }\n",
       "\n",
       "    .dataframe tbody tr th {\n",
       "        vertical-align: top;\n",
       "    }\n",
       "\n",
       "    .dataframe thead th {\n",
       "        text-align: right;\n",
       "    }\n",
       "</style>\n",
       "<table border=\"1\" class=\"dataframe\">\n",
       "  <thead>\n",
       "    <tr style=\"text-align: right;\">\n",
       "      <th></th>\n",
       "      <th>epsilon</th>\n",
       "      <th>F1_score</th>\n",
       "      <th>total_recall</th>\n",
       "      <th>total_precision</th>\n",
       "    </tr>\n",
       "  </thead>\n",
       "  <tbody>\n",
       "    <tr>\n",
       "      <th>0</th>\n",
       "      <td>0.000000e+00</td>\n",
       "      <td>0.000000</td>\n",
       "      <td>0.000000</td>\n",
       "      <td>0.000000</td>\n",
       "    </tr>\n",
       "    <tr>\n",
       "      <th>1</th>\n",
       "      <td>3.750699e-35</td>\n",
       "      <td>0.820084</td>\n",
       "      <td>0.796748</td>\n",
       "      <td>0.844828</td>\n",
       "    </tr>\n",
       "    <tr>\n",
       "      <th>2</th>\n",
       "      <td>5.873729e-29</td>\n",
       "      <td>0.786127</td>\n",
       "      <td>0.829268</td>\n",
       "      <td>0.747253</td>\n",
       "    </tr>\n",
       "    <tr>\n",
       "      <th>3</th>\n",
       "      <td>5.956707e-24</td>\n",
       "      <td>0.739677</td>\n",
       "      <td>0.837398</td>\n",
       "      <td>0.662379</td>\n",
       "    </tr>\n",
       "    <tr>\n",
       "      <th>4</th>\n",
       "      <td>6.119338e-21</td>\n",
       "      <td>0.706282</td>\n",
       "      <td>0.845528</td>\n",
       "      <td>0.606414</td>\n",
       "    </tr>\n",
       "  </tbody>\n",
       "</table>\n",
       "</div>"
      ],
      "text/plain": [
       "        epsilon  F1_score  total_recall  total_precision\n",
       "0  0.000000e+00  0.000000      0.000000         0.000000\n",
       "1  3.750699e-35  0.820084      0.796748         0.844828\n",
       "2  5.873729e-29  0.786127      0.829268         0.747253\n",
       "3  5.956707e-24  0.739677      0.837398         0.662379\n",
       "4  6.119338e-21  0.706282      0.845528         0.606414"
      ]
     },
     "execution_count": 40,
     "metadata": {},
     "output_type": "execute_result"
    }
   ],
   "source": [
    "# f1_concat_df is our metrics dataframe with all values\n",
    "f1_concat_df.head(5)"
   ]
  },
  {
   "cell_type": "markdown",
   "metadata": {
    "papermill": {
     "duration": 0.049626,
     "end_time": "2020-12-17T09:40:40.393585",
     "exception": false,
     "start_time": "2020-12-17T09:40:40.343959",
     "status": "completed"
    },
    "tags": []
   },
   "source": [
    "accordingly our best epsilon value is"
   ]
  },
  {
   "cell_type": "code",
   "execution_count": 41,
   "metadata": {
    "execution": {
     "iopub.execute_input": "2020-12-17T09:40:40.499590Z",
     "iopub.status.busy": "2020-12-17T09:40:40.497512Z",
     "iopub.status.idle": "2020-12-17T09:40:40.504361Z",
     "shell.execute_reply": "2020-12-17T09:40:40.503731Z"
    },
    "papermill": {
     "duration": 0.061248,
     "end_time": "2020-12-17T09:40:40.504458",
     "exception": false,
     "start_time": "2020-12-17T09:40:40.443210",
     "status": "completed"
    },
    "tags": []
   },
   "outputs": [
    {
     "data": {
      "text/plain": [
       "1    3.750699e-35\n",
       "Name: epsilon, dtype: float64"
      ]
     },
     "execution_count": 41,
     "metadata": {},
     "output_type": "execute_result"
    }
   ],
   "source": [
    "f1_concat_df[f1_concat_df['F1_score'] == f1_concat_df.F1_score.max()].epsilon"
   ]
  },
  {
   "cell_type": "markdown",
   "metadata": {
    "papermill": {
     "duration": 0.049434,
     "end_time": "2020-12-17T09:40:40.604215",
     "exception": false,
     "start_time": "2020-12-17T09:40:40.554781",
     "status": "completed"
    },
    "tags": []
   },
   "source": [
    "Validating this value with final test set"
   ]
  },
  {
   "cell_type": "code",
   "execution_count": 42,
   "metadata": {
    "execution": {
     "iopub.execute_input": "2020-12-17T09:40:40.747288Z",
     "iopub.status.busy": "2020-12-17T09:40:40.746649Z",
     "iopub.status.idle": "2020-12-17T09:40:40.800628Z",
     "shell.execute_reply": "2020-12-17T09:40:40.800111Z"
    },
    "papermill": {
     "duration": 0.136564,
     "end_time": "2020-12-17T09:40:40.800740",
     "exception": false,
     "start_time": "2020-12-17T09:40:40.664176",
     "status": "completed"
    },
    "tags": []
   },
   "outputs": [],
   "source": [
    "e_cv_max = f1_concat_df[f1_concat_df['F1_score'] == f1_concat_df.F1_score.max()].epsilon\n",
    "predstest = MN_test < e_cv_max.values\n",
    "f_test = f1_score(y_test,predstest)\n",
    "recall_test = recall_score(y_test,predstest)\n",
    "prec_test = precision_score(y_test,predstest)"
   ]
  },
  {
   "cell_type": "code",
   "execution_count": 43,
   "metadata": {
    "execution": {
     "iopub.execute_input": "2020-12-17T09:40:40.907168Z",
     "iopub.status.busy": "2020-12-17T09:40:40.906505Z",
     "iopub.status.idle": "2020-12-17T09:40:40.911744Z",
     "shell.execute_reply": "2020-12-17T09:40:40.911197Z"
    },
    "papermill": {
     "duration": 0.060598,
     "end_time": "2020-12-17T09:40:40.911860",
     "exception": false,
     "start_time": "2020-12-17T09:40:40.851262",
     "status": "completed"
    },
    "tags": []
   },
   "outputs": [
    {
     "name": "stdout",
     "output_type": "stream",
     "text": [
      "f1 score :  0.7579908675799086\n",
      "recall score :  0.6747967479674797\n",
      "precision score :  0.8645833333333334\n"
     ]
    }
   ],
   "source": [
    "print('f1 score : ',f_test)\n",
    "print('recall score : ',recall_test)\n",
    "print('precision score : ',prec_test)"
   ]
  },
  {
   "cell_type": "markdown",
   "metadata": {
    "papermill": {
     "duration": 0.051617,
     "end_time": "2020-12-17T09:40:41.015814",
     "exception": false,
     "start_time": "2020-12-17T09:40:40.964197",
     "status": "completed"
    },
    "tags": []
   },
   "source": [
    "With these results we catching 2\\3 of fraud transactions . it is lower than in cross validation set, but that's the whole point of second test set, which supposed to act like 'new' data.\n",
    "\n",
    "Main idea of this method - it's very usefull for detecting \"out-of-domain\" data, and great in combination with regular classifier"
   ]
  }
 ],
 "metadata": {
  "kernelspec": {
   "display_name": "Python 3",
   "language": "python",
   "name": "python3"
  },
  "language_info": {
   "codemirror_mode": {
    "name": "ipython",
    "version": 3
   },
   "file_extension": ".py",
   "mimetype": "text/x-python",
   "name": "python",
   "nbconvert_exporter": "python",
   "pygments_lexer": "ipython3",
   "version": "3.7.6"
  },
  "papermill": {
   "duration": 401.624822,
   "end_time": "2020-12-17T09:40:41.176157",
   "environment_variables": {},
   "exception": null,
   "input_path": "__notebook__.ipynb",
   "output_path": "__notebook__.ipynb",
   "parameters": {},
   "start_time": "2020-12-17T09:33:59.551335",
   "version": "2.1.0"
  }
 },
 "nbformat": 4,
 "nbformat_minor": 4
}
